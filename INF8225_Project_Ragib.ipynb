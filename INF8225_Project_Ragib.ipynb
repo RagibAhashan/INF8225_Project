{
  "cells": [
    {
      "cell_type": "markdown",
      "metadata": {
        "id": "vLbVbH4lu4J0"
      },
      "source": [
        "## Imports"
      ]
    },
    {
      "cell_type": "code",
      "execution_count": 34,
      "metadata": {
        "colab": {
          "base_uri": "https://localhost:8080/"
        },
        "id": "cJQfREvFUdoz",
        "outputId": "a9c593e7-114a-401b-b72e-7bc98751db19"
      },
      "outputs": [
        {
          "output_type": "stream",
          "name": "stdout",
          "text": [
            "2023-05-01 01:55:31.095937: I tensorflow/core/platform/cpu_feature_guard.cc:182] This TensorFlow binary is optimized to use available CPU instructions in performance-critical operations.\n",
            "To enable the following instructions: AVX2 FMA, in other operations, rebuild TensorFlow with the appropriate compiler flags.\n",
            "2023-05-01 01:55:33.409576: W tensorflow/compiler/tf2tensorrt/utils/py_utils.cc:38] TF-TRT Warning: Could not find TensorRT\n",
            "2023-05-01 01:55:36.835279: I tensorflow/compiler/xla/stream_executor/cuda/cuda_gpu_executor.cc:996] successful NUMA node read from SysFS had negative value (-1), but there must be at least one NUMA node, so returning NUMA node zero. See more at https://github.com/torvalds/linux/blob/v6.0/Documentation/ABI/testing/sysfs-bus-pci#L344-L355\n",
            "2023-05-01 01:55:36.835935: I tensorflow/compiler/xla/stream_executor/cuda/cuda_gpu_executor.cc:996] successful NUMA node read from SysFS had negative value (-1), but there must be at least one NUMA node, so returning NUMA node zero. See more at https://github.com/torvalds/linux/blob/v6.0/Documentation/ABI/testing/sysfs-bus-pci#L344-L355\n",
            "2023-05-01 01:55:36.836173: I tensorflow/compiler/xla/stream_executor/cuda/cuda_gpu_executor.cc:996] successful NUMA node read from SysFS had negative value (-1), but there must be at least one NUMA node, so returning NUMA node zero. See more at https://github.com/torvalds/linux/blob/v6.0/Documentation/ABI/testing/sysfs-bus-pci#L344-L355\n",
            "\u001b[38;5;3m⚠ As of spaCy v3.0, shortcuts like 'en' are deprecated. Please use the\n",
            "full pipeline package name 'en_core_web_sm' instead.\u001b[0m\n",
            "Looking in indexes: https://pypi.org/simple, https://us-python.pkg.dev/colab-wheels/public/simple/\n",
            "Collecting en-core-web-sm==3.5.0\n",
            "  Downloading https://github.com/explosion/spacy-models/releases/download/en_core_web_sm-3.5.0/en_core_web_sm-3.5.0-py3-none-any.whl (12.8 MB)\n",
            "\u001b[2K     \u001b[90m━━━━━━━━━━━━━━━━━━━━━━━━━━━━━━━━━━━━━━━━\u001b[0m \u001b[32m12.8/12.8 MB\u001b[0m \u001b[31m17.1 MB/s\u001b[0m eta \u001b[36m0:00:00\u001b[0m\n",
            "\u001b[?25hRequirement already satisfied: spacy<3.6.0,>=3.5.0 in /usr/local/lib/python3.10/dist-packages (from en-core-web-sm==3.5.0) (3.5.2)\n",
            "Requirement already satisfied: murmurhash<1.1.0,>=0.28.0 in /usr/local/lib/python3.10/dist-packages (from spacy<3.6.0,>=3.5.0->en-core-web-sm==3.5.0) (1.0.9)\n",
            "Requirement already satisfied: cymem<2.1.0,>=2.0.2 in /usr/local/lib/python3.10/dist-packages (from spacy<3.6.0,>=3.5.0->en-core-web-sm==3.5.0) (2.0.7)\n",
            "Requirement already satisfied: srsly<3.0.0,>=2.4.3 in /usr/local/lib/python3.10/dist-packages (from spacy<3.6.0,>=3.5.0->en-core-web-sm==3.5.0) (2.4.6)\n",
            "Requirement already satisfied: langcodes<4.0.0,>=3.2.0 in /usr/local/lib/python3.10/dist-packages (from spacy<3.6.0,>=3.5.0->en-core-web-sm==3.5.0) (3.3.0)\n",
            "Requirement already satisfied: spacy-loggers<2.0.0,>=1.0.0 in /usr/local/lib/python3.10/dist-packages (from spacy<3.6.0,>=3.5.0->en-core-web-sm==3.5.0) (1.0.4)\n",
            "Requirement already satisfied: smart-open<7.0.0,>=5.2.1 in /usr/local/lib/python3.10/dist-packages (from spacy<3.6.0,>=3.5.0->en-core-web-sm==3.5.0) (6.3.0)\n",
            "Requirement already satisfied: tqdm<5.0.0,>=4.38.0 in /usr/local/lib/python3.10/dist-packages (from spacy<3.6.0,>=3.5.0->en-core-web-sm==3.5.0) (4.65.0)\n",
            "Requirement already satisfied: spacy-legacy<3.1.0,>=3.0.11 in /usr/local/lib/python3.10/dist-packages (from spacy<3.6.0,>=3.5.0->en-core-web-sm==3.5.0) (3.0.12)\n",
            "Requirement already satisfied: pathy>=0.10.0 in /usr/local/lib/python3.10/dist-packages (from spacy<3.6.0,>=3.5.0->en-core-web-sm==3.5.0) (0.10.1)\n",
            "Requirement already satisfied: wasabi<1.2.0,>=0.9.1 in /usr/local/lib/python3.10/dist-packages (from spacy<3.6.0,>=3.5.0->en-core-web-sm==3.5.0) (1.1.1)\n",
            "Requirement already satisfied: preshed<3.1.0,>=3.0.2 in /usr/local/lib/python3.10/dist-packages (from spacy<3.6.0,>=3.5.0->en-core-web-sm==3.5.0) (3.0.8)\n",
            "Requirement already satisfied: requests<3.0.0,>=2.13.0 in /usr/local/lib/python3.10/dist-packages (from spacy<3.6.0,>=3.5.0->en-core-web-sm==3.5.0) (2.27.1)\n",
            "Requirement already satisfied: thinc<8.2.0,>=8.1.8 in /usr/local/lib/python3.10/dist-packages (from spacy<3.6.0,>=3.5.0->en-core-web-sm==3.5.0) (8.1.9)\n",
            "Requirement already satisfied: jinja2 in /usr/local/lib/python3.10/dist-packages (from spacy<3.6.0,>=3.5.0->en-core-web-sm==3.5.0) (3.1.2)\n",
            "Requirement already satisfied: packaging>=20.0 in /usr/local/lib/python3.10/dist-packages (from spacy<3.6.0,>=3.5.0->en-core-web-sm==3.5.0) (23.1)\n",
            "Requirement already satisfied: catalogue<2.1.0,>=2.0.6 in /usr/local/lib/python3.10/dist-packages (from spacy<3.6.0,>=3.5.0->en-core-web-sm==3.5.0) (2.0.8)\n",
            "Requirement already satisfied: numpy>=1.15.0 in /usr/local/lib/python3.10/dist-packages (from spacy<3.6.0,>=3.5.0->en-core-web-sm==3.5.0) (1.22.4)\n",
            "Requirement already satisfied: pydantic!=1.8,!=1.8.1,<1.11.0,>=1.7.4 in /usr/local/lib/python3.10/dist-packages (from spacy<3.6.0,>=3.5.0->en-core-web-sm==3.5.0) (1.10.7)\n",
            "Requirement already satisfied: setuptools in /usr/local/lib/python3.10/dist-packages (from spacy<3.6.0,>=3.5.0->en-core-web-sm==3.5.0) (67.7.2)\n",
            "Requirement already satisfied: typer<0.8.0,>=0.3.0 in /usr/local/lib/python3.10/dist-packages (from spacy<3.6.0,>=3.5.0->en-core-web-sm==3.5.0) (0.7.0)\n",
            "Requirement already satisfied: typing-extensions>=4.2.0 in /usr/local/lib/python3.10/dist-packages (from pydantic!=1.8,!=1.8.1,<1.11.0,>=1.7.4->spacy<3.6.0,>=3.5.0->en-core-web-sm==3.5.0) (4.5.0)\n",
            "Requirement already satisfied: idna<4,>=2.5 in /usr/local/lib/python3.10/dist-packages (from requests<3.0.0,>=2.13.0->spacy<3.6.0,>=3.5.0->en-core-web-sm==3.5.0) (3.4)\n",
            "Requirement already satisfied: charset-normalizer~=2.0.0 in /usr/local/lib/python3.10/dist-packages (from requests<3.0.0,>=2.13.0->spacy<3.6.0,>=3.5.0->en-core-web-sm==3.5.0) (2.0.12)\n",
            "Requirement already satisfied: urllib3<1.27,>=1.21.1 in /usr/local/lib/python3.10/dist-packages (from requests<3.0.0,>=2.13.0->spacy<3.6.0,>=3.5.0->en-core-web-sm==3.5.0) (1.26.15)\n",
            "Requirement already satisfied: certifi>=2017.4.17 in /usr/local/lib/python3.10/dist-packages (from requests<3.0.0,>=2.13.0->spacy<3.6.0,>=3.5.0->en-core-web-sm==3.5.0) (2022.12.7)\n",
            "Requirement already satisfied: confection<1.0.0,>=0.0.1 in /usr/local/lib/python3.10/dist-packages (from thinc<8.2.0,>=8.1.8->spacy<3.6.0,>=3.5.0->en-core-web-sm==3.5.0) (0.0.4)\n",
            "Requirement already satisfied: blis<0.8.0,>=0.7.8 in /usr/local/lib/python3.10/dist-packages (from thinc<8.2.0,>=8.1.8->spacy<3.6.0,>=3.5.0->en-core-web-sm==3.5.0) (0.7.9)\n",
            "Requirement already satisfied: click<9.0.0,>=7.1.1 in /usr/local/lib/python3.10/dist-packages (from typer<0.8.0,>=0.3.0->spacy<3.6.0,>=3.5.0->en-core-web-sm==3.5.0) (8.1.3)\n",
            "Requirement already satisfied: MarkupSafe>=2.0 in /usr/local/lib/python3.10/dist-packages (from jinja2->spacy<3.6.0,>=3.5.0->en-core-web-sm==3.5.0) (2.1.2)\n",
            "\u001b[38;5;2m✔ Download and installation successful\u001b[0m\n",
            "You can now load the package via spacy.load('en_core_web_sm')\n",
            "2023-05-01 01:55:54.043409: I tensorflow/core/platform/cpu_feature_guard.cc:182] This TensorFlow binary is optimized to use available CPU instructions in performance-critical operations.\n",
            "To enable the following instructions: AVX2 FMA, in other operations, rebuild TensorFlow with the appropriate compiler flags.\n",
            "2023-05-01 01:55:55.516600: W tensorflow/compiler/tf2tensorrt/utils/py_utils.cc:38] TF-TRT Warning: Could not find TensorRT\n",
            "2023-05-01 01:55:56.954904: I tensorflow/compiler/xla/stream_executor/cuda/cuda_gpu_executor.cc:996] successful NUMA node read from SysFS had negative value (-1), but there must be at least one NUMA node, so returning NUMA node zero. See more at https://github.com/torvalds/linux/blob/v6.0/Documentation/ABI/testing/sysfs-bus-pci#L344-L355\n",
            "2023-05-01 01:55:56.955409: I tensorflow/compiler/xla/stream_executor/cuda/cuda_gpu_executor.cc:996] successful NUMA node read from SysFS had negative value (-1), but there must be at least one NUMA node, so returning NUMA node zero. See more at https://github.com/torvalds/linux/blob/v6.0/Documentation/ABI/testing/sysfs-bus-pci#L344-L355\n",
            "2023-05-01 01:55:56.955611: I tensorflow/compiler/xla/stream_executor/cuda/cuda_gpu_executor.cc:996] successful NUMA node read from SysFS had negative value (-1), but there must be at least one NUMA node, so returning NUMA node zero. See more at https://github.com/torvalds/linux/blob/v6.0/Documentation/ABI/testing/sysfs-bus-pci#L344-L355\n",
            "\u001b[38;5;3m⚠ As of spaCy v3.0, shortcuts like 'fr' are deprecated. Please use the\n",
            "full pipeline package name 'fr_core_news_sm' instead.\u001b[0m\n",
            "Looking in indexes: https://pypi.org/simple, https://us-python.pkg.dev/colab-wheels/public/simple/\n",
            "Collecting fr-core-news-sm==3.5.0\n",
            "  Downloading https://github.com/explosion/spacy-models/releases/download/fr_core_news_sm-3.5.0/fr_core_news_sm-3.5.0-py3-none-any.whl (16.3 MB)\n",
            "\u001b[2K     \u001b[90m━━━━━━━━━━━━━━━━━━━━━━━━━━━━━━━━━━━━━━━━\u001b[0m \u001b[32m16.3/16.3 MB\u001b[0m \u001b[31m34.7 MB/s\u001b[0m eta \u001b[36m0:00:00\u001b[0m\n",
            "\u001b[?25hRequirement already satisfied: spacy<3.6.0,>=3.5.0 in /usr/local/lib/python3.10/dist-packages (from fr-core-news-sm==3.5.0) (3.5.2)\n",
            "Requirement already satisfied: spacy-loggers<2.0.0,>=1.0.0 in /usr/local/lib/python3.10/dist-packages (from spacy<3.6.0,>=3.5.0->fr-core-news-sm==3.5.0) (1.0.4)\n",
            "Requirement already satisfied: langcodes<4.0.0,>=3.2.0 in /usr/local/lib/python3.10/dist-packages (from spacy<3.6.0,>=3.5.0->fr-core-news-sm==3.5.0) (3.3.0)\n",
            "Requirement already satisfied: requests<3.0.0,>=2.13.0 in /usr/local/lib/python3.10/dist-packages (from spacy<3.6.0,>=3.5.0->fr-core-news-sm==3.5.0) (2.27.1)\n",
            "Requirement already satisfied: numpy>=1.15.0 in /usr/local/lib/python3.10/dist-packages (from spacy<3.6.0,>=3.5.0->fr-core-news-sm==3.5.0) (1.22.4)\n",
            "Requirement already satisfied: pydantic!=1.8,!=1.8.1,<1.11.0,>=1.7.4 in /usr/local/lib/python3.10/dist-packages (from spacy<3.6.0,>=3.5.0->fr-core-news-sm==3.5.0) (1.10.7)\n",
            "Requirement already satisfied: pathy>=0.10.0 in /usr/local/lib/python3.10/dist-packages (from spacy<3.6.0,>=3.5.0->fr-core-news-sm==3.5.0) (0.10.1)\n",
            "Requirement already satisfied: setuptools in /usr/local/lib/python3.10/dist-packages (from spacy<3.6.0,>=3.5.0->fr-core-news-sm==3.5.0) (67.7.2)\n",
            "Requirement already satisfied: jinja2 in /usr/local/lib/python3.10/dist-packages (from spacy<3.6.0,>=3.5.0->fr-core-news-sm==3.5.0) (3.1.2)\n",
            "Requirement already satisfied: preshed<3.1.0,>=3.0.2 in /usr/local/lib/python3.10/dist-packages (from spacy<3.6.0,>=3.5.0->fr-core-news-sm==3.5.0) (3.0.8)\n",
            "Requirement already satisfied: typer<0.8.0,>=0.3.0 in /usr/local/lib/python3.10/dist-packages (from spacy<3.6.0,>=3.5.0->fr-core-news-sm==3.5.0) (0.7.0)\n",
            "Requirement already satisfied: spacy-legacy<3.1.0,>=3.0.11 in /usr/local/lib/python3.10/dist-packages (from spacy<3.6.0,>=3.5.0->fr-core-news-sm==3.5.0) (3.0.12)\n",
            "Requirement already satisfied: srsly<3.0.0,>=2.4.3 in /usr/local/lib/python3.10/dist-packages (from spacy<3.6.0,>=3.5.0->fr-core-news-sm==3.5.0) (2.4.6)\n",
            "Requirement already satisfied: cymem<2.1.0,>=2.0.2 in /usr/local/lib/python3.10/dist-packages (from spacy<3.6.0,>=3.5.0->fr-core-news-sm==3.5.0) (2.0.7)\n",
            "Requirement already satisfied: thinc<8.2.0,>=8.1.8 in /usr/local/lib/python3.10/dist-packages (from spacy<3.6.0,>=3.5.0->fr-core-news-sm==3.5.0) (8.1.9)\n",
            "Requirement already satisfied: wasabi<1.2.0,>=0.9.1 in /usr/local/lib/python3.10/dist-packages (from spacy<3.6.0,>=3.5.0->fr-core-news-sm==3.5.0) (1.1.1)\n",
            "Requirement already satisfied: catalogue<2.1.0,>=2.0.6 in /usr/local/lib/python3.10/dist-packages (from spacy<3.6.0,>=3.5.0->fr-core-news-sm==3.5.0) (2.0.8)\n",
            "Requirement already satisfied: murmurhash<1.1.0,>=0.28.0 in /usr/local/lib/python3.10/dist-packages (from spacy<3.6.0,>=3.5.0->fr-core-news-sm==3.5.0) (1.0.9)\n",
            "Requirement already satisfied: packaging>=20.0 in /usr/local/lib/python3.10/dist-packages (from spacy<3.6.0,>=3.5.0->fr-core-news-sm==3.5.0) (23.1)\n",
            "Requirement already satisfied: tqdm<5.0.0,>=4.38.0 in /usr/local/lib/python3.10/dist-packages (from spacy<3.6.0,>=3.5.0->fr-core-news-sm==3.5.0) (4.65.0)\n",
            "Requirement already satisfied: smart-open<7.0.0,>=5.2.1 in /usr/local/lib/python3.10/dist-packages (from spacy<3.6.0,>=3.5.0->fr-core-news-sm==3.5.0) (6.3.0)\n",
            "Requirement already satisfied: typing-extensions>=4.2.0 in /usr/local/lib/python3.10/dist-packages (from pydantic!=1.8,!=1.8.1,<1.11.0,>=1.7.4->spacy<3.6.0,>=3.5.0->fr-core-news-sm==3.5.0) (4.5.0)\n",
            "Requirement already satisfied: charset-normalizer~=2.0.0 in /usr/local/lib/python3.10/dist-packages (from requests<3.0.0,>=2.13.0->spacy<3.6.0,>=3.5.0->fr-core-news-sm==3.5.0) (2.0.12)\n",
            "Requirement already satisfied: urllib3<1.27,>=1.21.1 in /usr/local/lib/python3.10/dist-packages (from requests<3.0.0,>=2.13.0->spacy<3.6.0,>=3.5.0->fr-core-news-sm==3.5.0) (1.26.15)\n",
            "Requirement already satisfied: idna<4,>=2.5 in /usr/local/lib/python3.10/dist-packages (from requests<3.0.0,>=2.13.0->spacy<3.6.0,>=3.5.0->fr-core-news-sm==3.5.0) (3.4)\n",
            "Requirement already satisfied: certifi>=2017.4.17 in /usr/local/lib/python3.10/dist-packages (from requests<3.0.0,>=2.13.0->spacy<3.6.0,>=3.5.0->fr-core-news-sm==3.5.0) (2022.12.7)\n",
            "Requirement already satisfied: confection<1.0.0,>=0.0.1 in /usr/local/lib/python3.10/dist-packages (from thinc<8.2.0,>=8.1.8->spacy<3.6.0,>=3.5.0->fr-core-news-sm==3.5.0) (0.0.4)\n",
            "Requirement already satisfied: blis<0.8.0,>=0.7.8 in /usr/local/lib/python3.10/dist-packages (from thinc<8.2.0,>=8.1.8->spacy<3.6.0,>=3.5.0->fr-core-news-sm==3.5.0) (0.7.9)\n",
            "Requirement already satisfied: click<9.0.0,>=7.1.1 in /usr/local/lib/python3.10/dist-packages (from typer<0.8.0,>=0.3.0->spacy<3.6.0,>=3.5.0->fr-core-news-sm==3.5.0) (8.1.3)\n",
            "Requirement already satisfied: MarkupSafe>=2.0 in /usr/local/lib/python3.10/dist-packages (from jinja2->spacy<3.6.0,>=3.5.0->fr-core-news-sm==3.5.0) (2.1.2)\n",
            "\u001b[38;5;2m✔ Download and installation successful\u001b[0m\n",
            "You can now load the package via spacy.load('fr_core_news_sm')\n",
            "Looking in indexes: https://pypi.org/simple, https://us-python.pkg.dev/colab-wheels/public/simple/\n",
            "Requirement already satisfied: torchinfo in /usr/local/lib/python3.10/dist-packages (1.7.2)\n",
            "Looking in indexes: https://pypi.org/simple, https://us-python.pkg.dev/colab-wheels/public/simple/\n",
            "Requirement already satisfied: einops in /usr/local/lib/python3.10/dist-packages (0.6.1)\n",
            "Looking in indexes: https://pypi.org/simple, https://us-python.pkg.dev/colab-wheels/public/simple/\n",
            "Requirement already satisfied: wandb in /usr/local/lib/python3.10/dist-packages (0.15.0)\n",
            "Requirement already satisfied: pathtools in /usr/local/lib/python3.10/dist-packages (from wandb) (0.1.2)\n",
            "Requirement already satisfied: sentry-sdk>=1.0.0 in /usr/local/lib/python3.10/dist-packages (from wandb) (1.21.1)\n",
            "Requirement already satisfied: docker-pycreds>=0.4.0 in /usr/local/lib/python3.10/dist-packages (from wandb) (0.4.0)\n",
            "Requirement already satisfied: requests<3,>=2.0.0 in /usr/local/lib/python3.10/dist-packages (from wandb) (2.27.1)\n",
            "Requirement already satisfied: protobuf!=4.21.0,<5,>=3.19.0 in /usr/local/lib/python3.10/dist-packages (from wandb) (3.20.3)\n",
            "Requirement already satisfied: psutil>=5.0.0 in /usr/local/lib/python3.10/dist-packages (from wandb) (5.9.5)\n",
            "Requirement already satisfied: Click!=8.0.0,>=7.0 in /usr/local/lib/python3.10/dist-packages (from wandb) (8.1.3)\n",
            "Requirement already satisfied: GitPython!=3.1.29,>=1.0.0 in /usr/local/lib/python3.10/dist-packages (from wandb) (3.1.31)\n",
            "Requirement already satisfied: appdirs>=1.4.3 in /usr/local/lib/python3.10/dist-packages (from wandb) (1.4.4)\n",
            "Requirement already satisfied: PyYAML in /usr/local/lib/python3.10/dist-packages (from wandb) (6.0)\n",
            "Requirement already satisfied: setproctitle in /usr/local/lib/python3.10/dist-packages (from wandb) (1.3.2)\n",
            "Requirement already satisfied: setuptools in /usr/local/lib/python3.10/dist-packages (from wandb) (67.7.2)\n",
            "Requirement already satisfied: six>=1.4.0 in /usr/local/lib/python3.10/dist-packages (from docker-pycreds>=0.4.0->wandb) (1.16.0)\n",
            "Requirement already satisfied: gitdb<5,>=4.0.1 in /usr/local/lib/python3.10/dist-packages (from GitPython!=3.1.29,>=1.0.0->wandb) (4.0.10)\n",
            "Requirement already satisfied: urllib3<1.27,>=1.21.1 in /usr/local/lib/python3.10/dist-packages (from requests<3,>=2.0.0->wandb) (1.26.15)\n",
            "Requirement already satisfied: idna<4,>=2.5 in /usr/local/lib/python3.10/dist-packages (from requests<3,>=2.0.0->wandb) (3.4)\n",
            "Requirement already satisfied: charset-normalizer~=2.0.0 in /usr/local/lib/python3.10/dist-packages (from requests<3,>=2.0.0->wandb) (2.0.12)\n",
            "Requirement already satisfied: certifi>=2017.4.17 in /usr/local/lib/python3.10/dist-packages (from requests<3,>=2.0.0->wandb) (2022.12.7)\n",
            "Requirement already satisfied: smmap<6,>=3.0.1 in /usr/local/lib/python3.10/dist-packages (from gitdb<5,>=4.0.1->GitPython!=3.1.29,>=1.0.0->wandb) (5.0.0)\n"
          ]
        }
      ],
      "source": [
        "!python3 -m spacy download en\n",
        "!python3 -m spacy download fr\n",
        "!pip install torchinfo\n",
        "!pip install einops\n",
        "!pip install wandb\n",
        "\n",
        "import math\n",
        "import time\n",
        "import os\n",
        "import copy\n",
        "import re\n",
        "import torch\n",
        "import torch.nn as nn\n",
        "import torch.optim as optim\n",
        "from torch import Tensor\n",
        "from torch.nn import functional as F\n",
        "from torch.optim.lr_scheduler import CosineAnnealingLR, StepLR\n",
        "import torch.utils.checkpoint as cp\n",
        "from torch.utils.data import DataLoader\n",
        "from torch.jit.annotations import List\n",
        "import torchvision\n",
        "from torchvision import datasets, models, transforms\n",
        "from torchvision.transforms import ToTensor, Normalize\n",
        "from torchvision.transforms import Resize\n",
        "from torchvision.transforms.functional_pil import resize\n",
        "from torchvision.transforms import Grayscale\n",
        "from torchvision.models.resnet import ResNet, BasicBlock\n",
        "from torchvision.models.densenet import DenseNet\n",
        "import matplotlib.pyplot as plt\n",
        "import numpy as np\n",
        "from collections import OrderedDict\n",
        "from tqdm import tqdm\n",
        "from torchinfo import summary\n",
        "import wandb\n",
        "from PIL import Image, ImageOps, ImageEnhance"
      ]
    },
    {
      "cell_type": "markdown",
      "source": [
        "**Drive**"
      ],
      "metadata": {
        "id": "Ngzxxbb2jmZ3"
      }
    },
    {
      "cell_type": "code",
      "source": [
        "from google.colab import drive\n",
        "drive.mount('/content/gdrive')\n",
        "\n",
        "baseline_path = \"/content/gdrive/MyDrive/INF8225/project/baseline/\"\n",
        "MixUp_path = \"/content/gdrive/MyDrive/INF8225/project/mixup/\"\n",
        "ManifoldMixUp_path = \"/content/gdrive/MyDrive/INF8225/project/manifoldmixup/\"\n",
        "CutMix_path = \"/content/gdrive/MyDrive/INF8225/project/cutmix/\"\n",
        "AugMix_path = \"/content/gdrive/MyDrive/INF8225/project/augmix/\""
      ],
      "metadata": {
        "id": "tn30XbSlNx3e",
        "colab": {
          "base_uri": "https://localhost:8080/"
        },
        "outputId": "e9566d0e-da4d-49da-b432-a08e1b7243ca"
      },
      "execution_count": 3,
      "outputs": [
        {
          "output_type": "stream",
          "name": "stdout",
          "text": [
            "Mounted at /content/gdrive\n"
          ]
        }
      ]
    },
    {
      "cell_type": "code",
      "source": [
        "!wandb login"
      ],
      "metadata": {
        "colab": {
          "base_uri": "https://localhost:8080/"
        },
        "id": "0VSAHyOWlTrS",
        "outputId": "73f8a9d3-d688-496e-c51e-605ad3954488"
      },
      "execution_count": 4,
      "outputs": [
        {
          "output_type": "stream",
          "name": "stdout",
          "text": [
            "\u001b[34m\u001b[1mwandb\u001b[0m: Logging into wandb.ai. (Learn how to deploy a W&B server locally: https://wandb.me/wandb-server)\n",
            "\u001b[34m\u001b[1mwandb\u001b[0m: You can find your API key in your browser here: https://wandb.ai/authorize\n",
            "\u001b[34m\u001b[1mwandb\u001b[0m: Paste an API key from your profile and hit enter, or press ctrl+c to quit: \n",
            "\u001b[34m\u001b[1mwandb\u001b[0m: Appending key for api.wandb.ai to your netrc file: /root/.netrc\n"
          ]
        }
      ]
    },
    {
      "cell_type": "code",
      "source": [
        "seed = 5\n",
        "torch.manual_seed(seed)\n",
        "torch.cuda.manual_seed_all(seed)\n",
        "torch.backends.cudnn.deterministic = True\n",
        "torch.backends.cudnn.benchmark = False"
      ],
      "metadata": {
        "id": "xxPlZGKKlYze"
      },
      "execution_count": 35,
      "outputs": []
    },
    {
      "cell_type": "markdown",
      "source": [
        "# **Downloading Data**"
      ],
      "metadata": {
        "id": "I7gQsY9AAjVK"
      }
    },
    {
      "cell_type": "code",
      "source": [
        "mnist_trainset = datasets.MNIST(root='./data/MNIST', train=True, download=True, transform=ToTensor())\n",
        "mnist_testset = datasets.MNIST(root='./data/MNIST', train=False, download=True, transform=ToTensor())\n",
        "\n",
        "CIFAR10_trainset = datasets.CIFAR10(root='./data/CIFAR', train=True, download=True, transform=ToTensor())\n",
        "CIFAR10_testset = datasets.CIFAR10(root='./data/CIFAR', train=False, download=True, transform=ToTensor())\n",
        "\n",
        "CIFAR100_trainset = datasets.CIFAR100(root='./data/CIFAR', train=True, download=True, transform=ToTensor())\n",
        "CIFAR100_testset = datasets.CIFAR100(root='./data/CIFAR', train=False, download=True, transform=ToTensor())\n",
        "\n",
        "print('MNIST:     train - ' + str(len(mnist_trainset)) + ' test - '+ str(len(mnist_testset)))\n",
        "print('CIFAR-10:  train - ' + str(len(CIFAR10_trainset)) + ' test - '+ str(len(CIFAR10_testset)))\n",
        "print('CIFAR-100: train - ' + str(len(CIFAR100_trainset)) + ' test - '+ str(len(CIFAR100_testset)))"
      ],
      "metadata": {
        "id": "LyWuxH0BlbMa",
        "colab": {
          "base_uri": "https://localhost:8080/"
        },
        "outputId": "b441bdec-9fa5-4607-b3ca-846e718ebc58"
      },
      "execution_count": 36,
      "outputs": [
        {
          "output_type": "stream",
          "name": "stdout",
          "text": [
            "Files already downloaded and verified\n",
            "Files already downloaded and verified\n",
            "Files already downloaded and verified\n",
            "Files already downloaded and verified\n",
            "MNIST:     train - 60000 test - 10000\n",
            "CIFAR-10:  train - 50000 test - 10000\n",
            "CIFAR-100: train - 50000 test - 10000\n"
          ]
        }
      ]
    },
    {
      "cell_type": "markdown",
      "source": [
        "# **Displaying Data (Test)**"
      ],
      "metadata": {
        "id": "X12ZUP5qAtRs"
      }
    },
    {
      "cell_type": "code",
      "source": [
        "def imshow(dataset):\n",
        "  print(\"size: \" + str(dataset[0][0].shape))\n",
        "  plt.figure()\n",
        "  f,axs = plt.subplots(1,10,figsize=(25,25))\n",
        "  if dataset in [mnist_trainset,mnist_testset]:\n",
        "    for i in range(10):\n",
        "      axs[i].imshow(dataset[i][0][0],cmap = 'gray')\n",
        "      axs[i].set_title(\"label: \" + str(dataset[i][1]))\n",
        "  else:\n",
        "    for i in range(10):\n",
        "      axs[i].imshow((np.transpose(dataset[i][0],(1,2,0))))\n",
        "      axs[i].set_title(\"label: \" + str(dataset[i][1]))\n",
        "  plt.setp([a.get_xticklabels() for a in axs[:]], visible=False)\n",
        "  plt.setp([a.get_yticklabels() for a in axs[:]], visible=False)\n",
        "  plt.show()\n",
        "  \n",
        "\n",
        "imshow(mnist_trainset)\n",
        "imshow(CIFAR10_trainset)\n",
        "imshow(CIFAR100_trainset)"
      ],
      "metadata": {
        "id": "FQFtzffTldar",
        "colab": {
          "base_uri": "https://localhost:8080/",
          "height": 754
        },
        "outputId": "a3cafc0f-fbd3-4346-ddc5-ceeaea1a3eec"
      },
      "execution_count": 37,
      "outputs": [
        {
          "output_type": "stream",
          "name": "stdout",
          "text": [
            "size: torch.Size([1, 28, 28])\n"
          ]
        },
        {
          "output_type": "display_data",
          "data": {
            "text/plain": [
              "<Figure size 640x480 with 0 Axes>"
            ]
          },
          "metadata": {}
        },
        {
          "output_type": "display_data",
          "data": {
            "text/plain": [
              "<Figure size 2500x2500 with 10 Axes>"
            ],
            "image/png": "[encoded data removed]"
          },
          "metadata": {}
        },
        {
          "output_type": "stream",
          "name": "stdout",
          "text": [
            "size: torch.Size([3, 32, 32])\n"
          ]
        },
        {
          "output_type": "display_data",
          "data": {
            "text/plain": [
              "<Figure size 640x480 with 0 Axes>"
            ]
          },
          "metadata": {}
        },
        {
          "output_type": "display_data",
          "data": {
            "text/plain": [
              "<Figure size 2500x2500 with 10 Axes>"
            ],
            "image/png": "[encoded data removed]"
          },
          "metadata": {}
        },
        {
          "output_type": "stream",
          "name": "stdout",
          "text": [
            "size: torch.Size([3, 32, 32])\n"
          ]
        },
        {
          "output_type": "display_data",
          "data": {
            "text/plain": [
              "<Figure size 640x480 with 0 Axes>"
            ]
          },
          "metadata": {}
        },
        {
          "output_type": "display_data",
          "data": {
            "text/plain": [
              "<Figure size 2500x2500 with 10 Axes>"
            ],
            "image/png": "[encoded data removed]"
          },
          "metadata": {}
        }
      ]
    },
    {
      "cell_type": "markdown",
      "source": [
        "# **Preprocessing Data**"
      ],
      "metadata": {
        "id": "rQav_hw0A6az"
      }
    },
    {
      "cell_type": "code",
      "source": [
        "mnist_trainset = datasets.MNIST(root='./data/MNIST', train=True, download=True)\n",
        "mnist_trainset.transform = transforms.Compose([\n",
        "               Grayscale(num_output_channels=3),\n",
        "               ToTensor(),\n",
        "               Normalize([0.1307],[0.3015]),\n",
        "    ])\n",
        "mnist_testset = datasets.MNIST(root='./data/MNIST', train=False, download=True)\n",
        "mnist_testset.transform = transforms.Compose([\n",
        "               Grayscale(num_output_channels=3),\n",
        "               ToTensor(),\n",
        "               Normalize([0.1307],[0.3015]),\n",
        "    ])\n",
        "\n",
        "CIFAR10_trainset = datasets.CIFAR10(root='./data/CIFAR', train=True, download=True)\n",
        "CIFAR10_trainset.transform = transforms.Compose([\n",
        "               transforms.RandomHorizontalFlip(),\n",
        "               transforms.RandomCrop(32, padding=4),\n",
        "               ToTensor(),\n",
        "               Normalize([0.4914, 0.4822, 0.4465],[0.2023, 0.1994, 0.2010]),\n",
        "    ])\n",
        "CIFAR10_testset = datasets.CIFAR10(root='./data/CIFAR', train=False, download=True)\n",
        "CIFAR10_testset.transform = transforms.Compose([\n",
        "               ToTensor(),\n",
        "               Normalize([0.4914, 0.4822, 0.4465],[0.2023, 0.1994, 0.2010]),\n",
        "    ])\n",
        "\n",
        "CIFAR100_trainset = datasets.CIFAR100(root='./data/CIFAR', train=True, download=True)\n",
        "CIFAR100_trainset.transform = transforms.Compose([\n",
        "               transforms.RandomHorizontalFlip(),\n",
        "               transforms.RandomCrop(32, padding=4),\n",
        "               ToTensor(),\n",
        "               Normalize([0.5017, 0.4866, 0.4409],[0.2009, 0.1984, 0.2023]),\n",
        "    ])\n",
        "CIFAR100_testset = datasets.CIFAR100(root='./data/CIFAR', train=False, download=True)\n",
        "CIFAR100_testset.transform = transforms.Compose([\n",
        "               ToTensor(),\n",
        "               Normalize([0.5017, 0.4866, 0.4409],[0.2009, 0.1984, 0.2023]),\n",
        "    ])"
      ],
      "metadata": {
        "colab": {
          "base_uri": "https://localhost:8080/"
        },
        "id": "WmlWevq6A5qI",
        "outputId": "28599a6b-1e69-4bfd-ae31-47534b8fe71e"
      },
      "execution_count": 38,
      "outputs": [
        {
          "output_type": "stream",
          "name": "stdout",
          "text": [
            "Files already downloaded and verified\n",
            "Files already downloaded and verified\n",
            "Files already downloaded and verified\n",
            "Files already downloaded and verified\n"
          ]
        }
      ]
    },
    {
      "cell_type": "markdown",
      "source": [
        "# **Loading Data**"
      ],
      "metadata": {
        "id": "WU0p1DdxBDOu"
      }
    },
    {
      "cell_type": "code",
      "source": [
        "b_size = 128\n",
        "mnist_trainloader = DataLoader(mnist_trainset, batch_size=b_size, shuffle=True)\n",
        "mnist_testloader = DataLoader(mnist_testset, batch_size=b_size)\n",
        "CIFAR10_trainloader = DataLoader(CIFAR10_trainset, batch_size=b_size, shuffle=True)\n",
        "CIFAR10_testloader = DataLoader(CIFAR10_testset, batch_size=b_size)\n",
        "CIFAR100_trainloader = DataLoader(CIFAR100_trainset, batch_size=b_size, shuffle=True)\n",
        "CIFAR100_testloader = DataLoader(CIFAR100_testset, batch_size=b_size)\n",
        "\n",
        "imshow(mnist_trainloader.dataset)\n",
        "imshow(CIFAR10_trainloader.dataset)\n",
        "imshow(CIFAR100_trainloader.dataset)"
      ],
      "metadata": {
        "colab": {
          "base_uri": "https://localhost:8080/",
          "height": 1000
        },
        "id": "7gm53yJWBAwu",
        "outputId": "13164755-a4e6-4459-a59b-40ac6a9a98af"
      },
      "execution_count": 39,
      "outputs": [
        {
          "output_type": "stream",
          "name": "stdout",
          "text": [
            "size: torch.Size([3, 28, 28])\n"
          ]
        },
        {
          "output_type": "display_data",
          "data": {
            "text/plain": [
              "<Figure size 640x480 with 0 Axes>"
            ]
          },
          "metadata": {}
        },
        {
          "output_type": "display_data",
          "data": {
            "text/plain": [
              "<Figure size 2500x2500 with 10 Axes>"
            ],
            "image/png": "[encoded data removed]"
          },
          "metadata": {}
        },
        {
          "output_type": "stream",
          "name": "stderr",
          "text": [
            "WARNING:matplotlib.image:Clipping input data to the valid range for imshow with RGB data ([0..1] for floats or [0..255] for integers).\n",
            "WARNING:matplotlib.image:Clipping input data to the valid range for imshow with RGB data ([0..1] for floats or [0..255] for integers).\n",
            "WARNING:matplotlib.image:Clipping input data to the valid range for imshow with RGB data ([0..1] for floats or [0..255] for integers).\n",
            "WARNING:matplotlib.image:Clipping input data to the valid range for imshow with RGB data ([0..1] for floats or [0..255] for integers).\n",
            "WARNING:matplotlib.image:Clipping input data to the valid range for imshow with RGB data ([0..1] for floats or [0..255] for integers).\n",
            "WARNING:matplotlib.image:Clipping input data to the valid range for imshow with RGB data ([0..1] for floats or [0..255] for integers).\n",
            "WARNING:matplotlib.image:Clipping input data to the valid range for imshow with RGB data ([0..1] for floats or [0..255] for integers).\n",
            "WARNING:matplotlib.image:Clipping input data to the valid range for imshow with RGB data ([0..1] for floats or [0..255] for integers).\n",
            "WARNING:matplotlib.image:Clipping input data to the valid range for imshow with RGB data ([0..1] for floats or [0..255] for integers).\n",
            "WARNING:matplotlib.image:Clipping input data to the valid range for imshow with RGB data ([0..1] for floats or [0..255] for integers).\n"
          ]
        },
        {
          "output_type": "stream",
          "name": "stdout",
          "text": [
            "size: torch.Size([3, 32, 32])\n"
          ]
        },
        {
          "output_type": "display_data",
          "data": {
            "text/plain": [
              "<Figure size 640x480 with 0 Axes>"
            ]
          },
          "metadata": {}
        },
        {
          "output_type": "display_data",
          "data": {
            "text/plain": [
              "<Figure size 2500x2500 with 10 Axes>"
            ],
            "image/png": "[encoded data removed]"
          },
          "metadata": {}
        },
        {
          "output_type": "stream",
          "name": "stderr",
          "text": [
            "WARNING:matplotlib.image:Clipping input data to the valid range for imshow with RGB data ([0..1] for floats or [0..255] for integers).\n",
            "WARNING:matplotlib.image:Clipping input data to the valid range for imshow with RGB data ([0..1] for floats or [0..255] for integers).\n",
            "WARNING:matplotlib.image:Clipping input data to the valid range for imshow with RGB data ([0..1] for floats or [0..255] for integers).\n",
            "WARNING:matplotlib.image:Clipping input data to the valid range for imshow with RGB data ([0..1] for floats or [0..255] for integers).\n",
            "WARNING:matplotlib.image:Clipping input data to the valid range for imshow with RGB data ([0..1] for floats or [0..255] for integers).\n",
            "WARNING:matplotlib.image:Clipping input data to the valid range for imshow with RGB data ([0..1] for floats or [0..255] for integers).\n",
            "WARNING:matplotlib.image:Clipping input data to the valid range for imshow with RGB data ([0..1] for floats or [0..255] for integers).\n"
          ]
        },
        {
          "output_type": "stream",
          "name": "stdout",
          "text": [
            "size: torch.Size([3, 32, 32])\n"
          ]
        },
        {
          "output_type": "stream",
          "name": "stderr",
          "text": [
            "WARNING:matplotlib.image:Clipping input data to the valid range for imshow with RGB data ([0..1] for floats or [0..255] for integers).\n",
            "WARNING:matplotlib.image:Clipping input data to the valid range for imshow with RGB data ([0..1] for floats or [0..255] for integers).\n",
            "WARNING:matplotlib.image:Clipping input data to the valid range for imshow with RGB data ([0..1] for floats or [0..255] for integers).\n"
          ]
        },
        {
          "output_type": "display_data",
          "data": {
            "text/plain": [
              "<Figure size 640x480 with 0 Axes>"
            ]
          },
          "metadata": {}
        },
        {
          "output_type": "display_data",
          "data": {
            "text/plain": [
              "<Figure size 2500x2500 with 10 Axes>"
            ],
            "image/png": "[encoded data removed]"
          },
          "metadata": {}
        }
      ]
    },
    {
      "cell_type": "markdown",
      "source": [
        "# **Base Network - ResNet-18**"
      ],
      "metadata": {
        "id": "LEMJDTH5llei"
      }
    },
    {
      "cell_type": "code",
      "source": [
        "class BasicBlock(nn.Module):\n",
        "    expansion = 1\n",
        "\n",
        "    def __init__(self, in_planes, planes, stride=1):\n",
        "        super(BasicBlock, self).__init__()\n",
        "        self.conv1 = nn.Conv2d(\n",
        "            in_planes, planes, kernel_size=3, stride=stride, padding=1, bias=False)\n",
        "        self.bn1 = nn.BatchNorm2d(planes)\n",
        "        self.conv2 = nn.Conv2d(planes, planes, kernel_size=3,\n",
        "                               stride=1, padding=1, bias=False)\n",
        "        self.bn2 = nn.BatchNorm2d(planes)\n",
        "\n",
        "        self.shortcut = nn.Sequential()\n",
        "        if stride != 1 or in_planes != self.expansion*planes:\n",
        "            self.shortcut = nn.Sequential(\n",
        "                nn.Conv2d(in_planes, self.expansion*planes,\n",
        "                          kernel_size=1, stride=stride, bias=False),\n",
        "                nn.BatchNorm2d(self.expansion*planes)\n",
        "            )\n",
        "\n",
        "    def forward(self, x):\n",
        "        out = F.relu(self.bn1(self.conv1(x)))\n",
        "        out = self.bn2(self.conv2(out))\n",
        "        out += self.shortcut(x)\n",
        "        out = F.relu(out)\n",
        "        return out\n",
        "\n",
        "\n",
        "class Bottleneck(nn.Module):\n",
        "    expansion = 4\n",
        "\n",
        "    def __init__(self, in_planes, planes, stride=1):\n",
        "        super(Bottleneck, self).__init__()\n",
        "        self.conv1 = nn.Conv2d(in_planes, planes, kernel_size=1, bias=False)\n",
        "        self.bn1 = nn.BatchNorm2d(planes)\n",
        "        self.conv2 = nn.Conv2d(planes, planes, kernel_size=3,\n",
        "                               stride=stride, padding=1, bias=False)\n",
        "        self.bn2 = nn.BatchNorm2d(planes)\n",
        "        self.conv3 = nn.Conv2d(planes, self.expansion *\n",
        "                               planes, kernel_size=1, bias=False)\n",
        "        self.bn3 = nn.BatchNorm2d(self.expansion*planes)\n",
        "\n",
        "        self.shortcut = nn.Sequential()\n",
        "        if stride != 1 or in_planes != self.expansion*planes:\n",
        "            self.shortcut = nn.Sequential(\n",
        "                nn.Conv2d(in_planes, self.expansion*planes,\n",
        "                          kernel_size=1, stride=stride, bias=False),\n",
        "                nn.BatchNorm2d(self.expansion*planes)\n",
        "            )\n",
        "\n",
        "    def forward(self, x):\n",
        "        out = F.relu(self.bn1(self.conv1(x)))\n",
        "        out = F.relu(self.bn2(self.conv2(out)))\n",
        "        out = self.bn3(self.conv3(out))\n",
        "        out += self.shortcut(x)\n",
        "        out = F.relu(out)\n",
        "        return out\n",
        "\n",
        "\n",
        "class ResNet(nn.Module):\n",
        "    def __init__(self, block, num_blocks, num_classes=10):\n",
        "        super(ResNet, self).__init__()\n",
        "        self.in_planes = 64\n",
        "\n",
        "        self.conv1 = nn.Conv2d(3, 64, kernel_size=3,\n",
        "                               stride=1, padding=1, bias=False)\n",
        "        self.bn1 = nn.BatchNorm2d(64)\n",
        "        self.layer1 = self._make_layer(block, 64, num_blocks[0], stride=1)\n",
        "        self.layer2 = self._make_layer(block, 128, num_blocks[1], stride=2)\n",
        "        self.layer3 = self._make_layer(block, 256, num_blocks[2], stride=2)\n",
        "        self.layer4 = self._make_layer(block, 512, num_blocks[3], stride=2)\n",
        "        self.num_classes = num_classes\n",
        "        self.linear = nn.Linear(512*block.expansion, self.num_classes)\n",
        "\n",
        "    def _make_layer(self, block, planes, num_blocks, stride):\n",
        "        strides = [stride] + [1]*(num_blocks-1)\n",
        "        layers = []\n",
        "        for stride in strides:\n",
        "            layers.append(block(self.in_planes, planes, stride))\n",
        "            self.in_planes = planes * block.expansion\n",
        "        return nn.Sequential(*layers)\n",
        "\n",
        "    def forward(self, x):\n",
        "        out = F.relu(self.bn1(self.conv1(x)))\n",
        "        out = self.layer1(out)\n",
        "        out = self.layer2(out)\n",
        "        out = self.layer3(out)\n",
        "        out = self.layer4(out)\n",
        "        out = F.avg_pool2d(out, 4)\n",
        "        out = out.view(out.size(0), -1)\n",
        "        out = self.linear(out)\n",
        "        return out\n",
        "\n",
        "\n",
        "def ResNet18(num_classes):\n",
        "    return ResNet(BasicBlock, [2, 2, 2, 2], num_classes)\n",
        "     "
      ],
      "metadata": {
        "id": "lmSiWV7zljfI"
      },
      "execution_count": 40,
      "outputs": []
    },
    {
      "cell_type": "markdown",
      "source": [
        "# **Model Training**"
      ],
      "metadata": {
        "id": "0LEQsudT_spZ"
      }
    },
    {
      "cell_type": "code",
      "source": [
        "config = {\n",
        "    'model_name' : 'resnet',\n",
        "    'dataset_name' : 'CIFAR10',\n",
        "    'batch_size' : 128,\n",
        "    'lr': 1e-1,\n",
        "    'weight_decay': 1e-4,\n",
        "    'IMAGE_SIZE' : 32,\n",
        "    'epochs' : 20,\n",
        "    'num_classes' : 10,\n",
        "    'feature_extract' : False,\n",
        "    'log_every': 50,\n",
        "    'mixup_alpha' : 1,\n",
        "    'augmentations': True,\n",
        "    'device': torch.device(\"cuda:0\" if torch.cuda.is_available() else \"cpu\"),\n",
        "    'DAmethod': 'Baseline'\n",
        "}\n",
        "\n",
        "device = config['device']\n",
        "\n",
        "def adjust_learning_rate(optimizer, epoch):\n",
        "    lr = config['lr']\n",
        "    for param_group in optimizer.param_groups:\n",
        "        param_group['lr'] = lr\n",
        "\n",
        "def train_model(model, trainloader, testloader, criterion, optimizer, scheduler, DAmethod, datasetname, num_epochs=25, jsd_loss = False):\n",
        "  print('DAmethod - ', DAmethod)\n",
        "  if DAmethod == \"Baseline\": savepath = baseline_path\n",
        "  elif DAmethod == \"MixUp\": savepath = MixUp_path\n",
        "  elif DAmethod == \"ManifoldMixUp\": savepath = ManifoldMixUp_path\n",
        "  elif DAmethod == \"CutMix\": savepath = CutMix_path  \n",
        "  elif DAmethod == \"AugMix\": savepath = AugMix_path\n",
        "\n",
        "  since = time.time()\n",
        "  val_acc_history = []\n",
        "\n",
        "  best_model_wts = copy.deepcopy(model.state_dict())\n",
        "  best_acc = 0.0\n",
        "\n",
        "  earlystopping = 0.\n",
        "  loss_ema = 0.\n",
        "\n",
        "  device = config['device']\n",
        "\n",
        "  for epoch in range(num_epochs):\n",
        "\n",
        "    if earlystopping < 2000:\n",
        "\n",
        "      print('Epoch {}/{}'.format(epoch+1, num_epochs))\n",
        "      print('-' * 10)\n",
        "      for phase in ['train', 'valid']:\n",
        "        if phase == 'train':\n",
        "          model.train()\n",
        "\n",
        "          running_loss = 0.0\n",
        "          running_corrects = 0\n",
        "\n",
        "          for batch_idx,(inputs, labels) in tqdm(enumerate(trainloader)):\n",
        "            optimizer.zero_grad()\n",
        "\n",
        "            if jsd_loss:\n",
        "              inputs_all = torch.cat(inputs,0).to(device)\n",
        "              labels = labels.to(device)\n",
        "              outputs_all = model(inputs_all)\n",
        "              outputs_clean,outputs_aug1,outputs_aug2 = torch.split(\n",
        "                  outputs_all, inputs[0].size(0)\n",
        "              )\n",
        "              _, preds = torch.max(outputs_clean, 1)\n",
        "\n",
        "              loss = F.cross_entropy(outputs_clean,labels)\n",
        "\n",
        "              p_clean = F.softmax(outputs_clean,dim=1)\n",
        "              p_aug1 = F.softmax(outputs_aug1,dim=1)\n",
        "              p_aug2 = F.softmax(outputs_aug2,dim=1)\n",
        "\n",
        "              p_mixture = torch.clamp((p_clean+p_aug1+p_aug2)/3.,1e-7,1).log()\n",
        "\n",
        "              loss += 12 * (F.kl_div(p_mixture, p_clean, reduction = 'batchmean') +\n",
        "                       F.kl_div(p_mixture, p_aug1, reduction = 'batchmean') +\n",
        "                       F.kl_div(p_mixture, p_aug2, reduction = 'batchmean')) / 3.\n",
        "\n",
        "            elif DAmethod == 'MixUp':\n",
        "              inputs = inputs.to(device)\n",
        "              labels = labels.to(device) \n",
        "              inputs, labels, second_labels, lam = mixup(inputs, labels, config['mixup_alpha'])\n",
        "              outputs = model(inputs)\n",
        "              loss = mixup_criterion(criterion, outputs, labels, second_labels, lam)\n",
        "              _, preds = torch.max(outputs, 1)\n",
        "              \n",
        "            elif DAmethod == 'CutMix':\n",
        "              inputs = inputs.to(device)\n",
        "              labels = labels.to(device) \n",
        "              inputs, labels, second_labels, lam = cutmix(inputs, labels, config['mixup_alpha'])\n",
        "              outputs = model(inputs)\n",
        "              loss = mixup_criterion(criterion, outputs, labels, second_labels, lam)\n",
        "              _, preds = torch.max(outputs, 1)\n",
        "\n",
        "            else:\n",
        "              inputs = inputs.to(device)\n",
        "              labels = labels.to(device) \n",
        "              outputs = model(inputs)\n",
        "              loss = criterion(outputs, labels)\n",
        "              _, preds = torch.max(outputs, 1)\n",
        "            \n",
        "            loss.backward()\n",
        "            optimizer.step()\n",
        "            \n",
        "\n",
        "            if batch_idx % config['log_every'] == 0:\n",
        "              if jsd_loss:\n",
        "                train_logs = {\n",
        "                    f'Train - jsd_loss': loss_ema\n",
        "                }\n",
        "                wandb.log(train_logs)\n",
        "              else:\n",
        "                train_logs = {\n",
        "                    f'Train - loss': loss.item()\n",
        "                }\n",
        "                wandb.log(train_logs)\n",
        "\n",
        "\n",
        "            if jsd_loss:\n",
        "              loss_ema = loss_ema * 0.9 + float(loss) * 0.1\n",
        "              running_loss += loss_ema * inputs[0].size(0)\n",
        "            else:\n",
        "              running_loss += loss.item() * inputs.size(0)\n",
        "\n",
        "            running_corrects += torch.sum(preds == labels.data)\n",
        "\n",
        "          epoch_loss = running_loss / len(trainloader.dataset)\n",
        "          epoch_acc = running_corrects.double() / len(trainloader.dataset)\n",
        "          print('{} Loss: {:.4f} Acc: {:.4f}'.format(phase, epoch_loss, epoch_acc))\n",
        "          wandb.log({'Train - acc': epoch_acc})\n",
        "        else:\n",
        "          model.eval()\n",
        "\n",
        "          running_loss = 0.0\n",
        "          running_corrects = 0\n",
        "\n",
        "          for inputs, labels in testloader:\n",
        "            inputs = inputs.to(device)\n",
        "            labels = labels.to(device)\n",
        "            optimizer.zero_grad()\n",
        "            with torch.set_grad_enabled(False):\n",
        "              outputs = model(inputs)\n",
        "              loss = criterion(outputs, labels)\n",
        "\n",
        "              _, preds = torch.max(outputs, 1)\n",
        "              running_loss += loss.item() * inputs.size(0)\n",
        "              running_corrects += torch.sum(preds == labels.data)\n",
        "            epoch_loss = running_loss / len(testloader.dataset)\n",
        "            epoch_acc = running_corrects.double() / len(testloader.dataset)\n",
        "          wandb.log({'Valid - loss': epoch_loss})\n",
        "          wandb.log({'Valid - acc': epoch_acc})\n",
        "\n",
        "          print('{} Loss: {:.4f} Acc: {:.4f}'.format(phase, epoch_loss, epoch_acc))\n",
        "\n",
        "          if epoch_acc > best_acc:\n",
        "            best_acc = epoch_acc\n",
        "            best_model_wts = copy.deepcopy(model.state_dict())\n",
        "\n",
        "            checkpoint = {\n",
        "                'epoch': epoch,\n",
        "                'trainloader': trainloader,\n",
        "                'testloader': testloader,\n",
        "                'model': model,\n",
        "                'state_dict': model.state_dict(),\n",
        "                'best_acc': best_acc,\n",
        "                'optimizer': optimizer.state_dict(),\n",
        "                'scheduler': scheduler.state_dict(),\n",
        "                }\n",
        "            earlystopping = 0\n",
        "\n",
        "            checkpoint_path = savepath + '{}_{}_checkpoint.pth.tar'.format(datasetname,DAmethod)\n",
        "            print(\"Saving model...\")\n",
        "            torch.save(checkpoint, checkpoint_path)\n",
        "          else:\n",
        "            earlystopping += 1\n",
        "\n",
        "          print('-' * 30 + '\\n')\n",
        "          val_acc_history.append(epoch_acc)\n",
        "\n",
        "    if scheduler:\n",
        "      scheduler.step()\n",
        "    else:    \n",
        "      adjust_learning_rate(optimizer, epoch)\n",
        "\n",
        "\n",
        "  best_path = savepath + '{}_{}_best_model_{}.pth.tar'.format(datasetname, DAmethod, best_acc)\n",
        "  torch.save(checkpoint, best_path)\n",
        "  print(\"Best model saved.\")\n",
        "      \n",
        "  time_elapsed = time.time() - since\n",
        "  print('Training complete in {:.0f}m {:.0f}s'.format(time_elapsed // 60, time_elapsed % 60))\n",
        "  print('Best val Acc: {:4f}'.format(best_acc))\n",
        "  model.load_state_dict(best_model_wts)\n",
        "  return model, val_acc_history\n",
        "\n",
        "def initialize_model(model_name, dataset_name, feature_extract=False, use_pretrained=False):\n",
        "    model_ft = ResNet18(num_classes)\n",
        "    input_size = 0\n",
        "\n",
        "    if dataset_name == \"mnist\":\n",
        "      input_size = 28\n",
        "      num_classes = 10\n",
        "    elif dataset_name ==\"cifar10\":\n",
        "      input_size = 32\n",
        "      num_classes = 10\n",
        "    else:\n",
        "      input_size = 32\n",
        "      num_classes = 100\n",
        "\n",
        "    return model_ft, input_size"
      ],
      "metadata": {
        "id": "NmxGAGyU_p4O"
      },
      "execution_count": null,
      "outputs": []
    },
    {
      "cell_type": "markdown",
      "source": [
        "# **Training ResNet-18 on MNIST Dataset**"
      ],
      "metadata": {
        "id": "AcDeUwp-Qs7r"
      }
    },
    {
      "cell_type": "code",
      "source": [
        "config['model_name'] = 'resnet'\n",
        "config['dataset_name'] = 'mnist'"
      ],
      "metadata": {
        "id": "cZWp0W3NKiqH"
      },
      "execution_count": 15,
      "outputs": []
    },
    {
      "cell_type": "code",
      "source": [
        "model_ft, input_size = initialize_model(config['model_name'], config['dataset_name'])\n",
        "optimizer_ft = optim.SGD(model_ft.parameters(), lr=config['lr'], momentum=0.9, weight_decay = 0.0005, nesterov = True)\n",
        "scheduler_ft = CosineAnnealingLR(optimizer_ft, T_max = 60, eta_min = 1e-6 )\n",
        "criterion = nn.CrossEntropyLoss()\n",
        "model_ft = model_ft.to(device)\n",
        "\n",
        "with wandb.init(\n",
        "      config=config,\n",
        "      project='INF8225 - Projet final',\n",
        "      group= 'resnet18_mnist_Baseline',\n",
        "      save_code=True,\n",
        "  ):\n",
        "  model_ft, hist = train_model(\n",
        "      model_ft, mnist_trainloader,\n",
        "      mnist_testloader, criterion,\n",
        "      optimizer_ft, scheduler_ft,\n",
        "      num_epochs=config['epochs']\n",
        "      DAmethod= \"Baseline\",\n",
        "      datasetname = config['dataset_name']\n",
        "      )\n"
      ],
      "metadata": {
        "colab": {
          "base_uri": "https://localhost:8080/",
          "height": 1000
        },
        "id": "50hKFbO9Krze",
        "outputId": "78ba9b34-482f-4051-bb93-487403122514"
      },
      "execution_count": null,
      "outputs": [
        {
          "output_type": "stream",
          "name": "stdout",
          "text": [
            "W&B online. Running your script from this directory will now sync to the cloud.\n"
          ]
        },
        {
          "output_type": "display_data",
          "data": {
            "text/plain": [
              "<IPython.core.display.HTML object>"
            ],
            "text/html": [
              "Tracking run with wandb version 0.15.0"
            ]
          },
          "metadata": {}
        },
        {
          "output_type": "display_data",
          "data": {
            "text/plain": [
              "<IPython.core.display.HTML object>"
            ],
            "text/html": [
              "Run data is saved locally in <code>/content/wandb/run-20230430_035520-necohugo</code>"
            ]
          },
          "metadata": {}
        },
        {
          "output_type": "display_data",
          "data": {
            "text/plain": [
              "<IPython.core.display.HTML object>"
            ],
            "text/html": [
              "Syncing run <strong><a href='https://wandb.ai/ahashan/INF8225%20-%20Projet%20final/runs/necohugo' target=\"_blank\">good-haze-3</a></strong> to <a href='https://wandb.ai/ahashan/INF8225%20-%20Projet%20final' target=\"_blank\">Weights & Biases</a> (<a href='https://wandb.me/run' target=\"_blank\">docs</a>)<br/>"
            ]
          },
          "metadata": {}
        },
        {
          "output_type": "display_data",
          "data": {
            "text/plain": [
              "<IPython.core.display.HTML object>"
            ],
            "text/html": [
              " View project at <a href='https://wandb.ai/ahashan/INF8225%20-%20Projet%20final' target=\"_blank\">https://wandb.ai/ahashan/INF8225%20-%20Projet%20final</a>"
            ]
          },
          "metadata": {}
        },
        {
          "output_type": "display_data",
          "data": {
            "text/plain": [
              "<IPython.core.display.HTML object>"
            ],
            "text/html": [
              " View run at <a href='https://wandb.ai/ahashan/INF8225%20-%20Projet%20final/runs/necohugo' target=\"_blank\">https://wandb.ai/ahashan/INF8225%20-%20Projet%20final/runs/necohugo</a>"
            ]
          },
          "metadata": {}
        },
        {
          "output_type": "stream",
          "name": "stdout",
          "text": [
            "Epoch 1/20\n",
            "----------\n"
          ]
        },
        {
          "output_type": "stream",
          "name": "stderr",
          "text": [
            "469it [01:20,  5.85it/s]\n"
          ]
        },
        {
          "output_type": "stream",
          "name": "stdout",
          "text": [
            "train Loss: 0.4258 Acc: 0.8891\n",
            "valid Loss: 0.1331 Acc: 0.9563\n",
            "Saving model...\n",
            "------------------------------\n",
            "\n",
            "Epoch 2/20\n",
            "----------\n"
          ]
        },
        {
          "output_type": "stream",
          "name": "stderr",
          "text": [
            "469it [01:21,  5.79it/s]\n"
          ]
        },
        {
          "output_type": "stream",
          "name": "stdout",
          "text": [
            "train Loss: 0.0507 Acc: 0.9849\n",
            "valid Loss: 0.0479 Acc: 0.9859\n",
            "Saving model...\n",
            "------------------------------\n",
            "\n",
            "Epoch 3/20\n",
            "----------\n"
          ]
        },
        {
          "output_type": "stream",
          "name": "stderr",
          "text": [
            "469it [01:20,  5.83it/s]\n"
          ]
        },
        {
          "output_type": "stream",
          "name": "stdout",
          "text": [
            "train Loss: 0.0377 Acc: 0.9886\n",
            "valid Loss: 0.0412 Acc: 0.9887\n",
            "Saving model...\n",
            "------------------------------\n",
            "\n",
            "Epoch 4/20\n",
            "----------\n"
          ]
        },
        {
          "output_type": "stream",
          "name": "stderr",
          "text": [
            "469it [01:21,  5.76it/s]\n"
          ]
        },
        {
          "output_type": "stream",
          "name": "stdout",
          "text": [
            "train Loss: 0.0310 Acc: 0.9905\n",
            "valid Loss: 0.0728 Acc: 0.9762\n",
            "------------------------------\n",
            "\n",
            "Epoch 5/20\n",
            "----------\n"
          ]
        },
        {
          "output_type": "stream",
          "name": "stderr",
          "text": [
            "469it [01:19,  5.88it/s]\n"
          ]
        },
        {
          "output_type": "stream",
          "name": "stdout",
          "text": [
            "train Loss: 0.0300 Acc: 0.9910\n",
            "valid Loss: 0.0493 Acc: 0.9850\n",
            "------------------------------\n",
            "\n",
            "Epoch 6/20\n",
            "----------\n"
          ]
        },
        {
          "output_type": "stream",
          "name": "stderr",
          "text": [
            "469it [01:19,  5.86it/s]\n"
          ]
        },
        {
          "output_type": "stream",
          "name": "stdout",
          "text": [
            "train Loss: 0.0272 Acc: 0.9921\n",
            "valid Loss: 0.0564 Acc: 0.9820\n",
            "------------------------------\n",
            "\n",
            "Epoch 7/20\n",
            "----------\n"
          ]
        },
        {
          "output_type": "stream",
          "name": "stderr",
          "text": [
            "469it [01:19,  5.90it/s]\n"
          ]
        },
        {
          "output_type": "stream",
          "name": "stdout",
          "text": [
            "train Loss: 0.0271 Acc: 0.9921\n",
            "valid Loss: 0.0365 Acc: 0.9895\n",
            "Saving model...\n",
            "------------------------------\n",
            "\n",
            "Epoch 8/20\n",
            "----------\n"
          ]
        },
        {
          "output_type": "stream",
          "name": "stderr",
          "text": [
            "469it [01:19,  5.89it/s]\n"
          ]
        },
        {
          "output_type": "stream",
          "name": "stdout",
          "text": [
            "train Loss: 0.0249 Acc: 0.9927\n",
            "valid Loss: 0.0332 Acc: 0.9904\n",
            "Saving model...\n",
            "------------------------------\n",
            "\n",
            "Epoch 9/20\n",
            "----------\n"
          ]
        },
        {
          "output_type": "stream",
          "name": "stderr",
          "text": [
            "469it [01:20,  5.84it/s]\n"
          ]
        },
        {
          "output_type": "stream",
          "name": "stdout",
          "text": [
            "train Loss: 0.0248 Acc: 0.9928\n",
            "valid Loss: 0.0742 Acc: 0.9784\n",
            "------------------------------\n",
            "\n",
            "Epoch 10/20\n",
            "----------\n"
          ]
        },
        {
          "output_type": "stream",
          "name": "stderr",
          "text": [
            "469it [01:19,  5.92it/s]\n"
          ]
        },
        {
          "output_type": "stream",
          "name": "stdout",
          "text": [
            "train Loss: 0.0244 Acc: 0.9928\n",
            "valid Loss: 0.0396 Acc: 0.9886\n",
            "------------------------------\n",
            "\n",
            "Epoch 11/20\n",
            "----------\n"
          ]
        },
        {
          "output_type": "stream",
          "name": "stderr",
          "text": [
            "469it [01:20,  5.82it/s]\n"
          ]
        },
        {
          "output_type": "stream",
          "name": "stdout",
          "text": [
            "train Loss: 0.0249 Acc: 0.9929\n",
            "valid Loss: 0.0521 Acc: 0.9842\n",
            "------------------------------\n",
            "\n",
            "Epoch 12/20\n",
            "----------\n"
          ]
        },
        {
          "output_type": "stream",
          "name": "stderr",
          "text": [
            "469it [01:19,  5.88it/s]\n"
          ]
        },
        {
          "output_type": "stream",
          "name": "stdout",
          "text": [
            "train Loss: 0.0206 Acc: 0.9944\n",
            "valid Loss: 0.0812 Acc: 0.9764\n",
            "------------------------------\n",
            "\n",
            "Epoch 13/20\n",
            "----------\n"
          ]
        },
        {
          "output_type": "stream",
          "name": "stderr",
          "text": [
            "469it [01:20,  5.81it/s]\n"
          ]
        },
        {
          "output_type": "stream",
          "name": "stdout",
          "text": [
            "train Loss: 0.0246 Acc: 0.9929\n",
            "valid Loss: 0.0467 Acc: 0.9843\n",
            "------------------------------\n",
            "\n",
            "Epoch 14/20\n",
            "----------\n"
          ]
        },
        {
          "output_type": "stream",
          "name": "stderr",
          "text": [
            "469it [01:21,  5.78it/s]\n"
          ]
        },
        {
          "output_type": "stream",
          "name": "stdout",
          "text": [
            "train Loss: 0.0225 Acc: 0.9938\n",
            "valid Loss: 0.0255 Acc: 0.9924\n",
            "Saving model...\n",
            "------------------------------\n",
            "\n",
            "Epoch 15/20\n",
            "----------\n"
          ]
        },
        {
          "output_type": "stream",
          "name": "stderr",
          "text": [
            "469it [01:21,  5.73it/s]\n"
          ]
        },
        {
          "output_type": "stream",
          "name": "stdout",
          "text": [
            "train Loss: 0.0202 Acc: 0.9944\n",
            "valid Loss: 0.0488 Acc: 0.9851\n",
            "------------------------------\n",
            "\n",
            "Epoch 16/20\n",
            "----------\n"
          ]
        },
        {
          "output_type": "stream",
          "name": "stderr",
          "text": [
            "469it [01:20,  5.84it/s]\n"
          ]
        },
        {
          "output_type": "stream",
          "name": "stdout",
          "text": [
            "train Loss: 0.0196 Acc: 0.9947\n",
            "valid Loss: 0.0348 Acc: 0.9895\n",
            "------------------------------\n",
            "\n",
            "Epoch 17/20\n",
            "----------\n"
          ]
        },
        {
          "output_type": "stream",
          "name": "stderr",
          "text": [
            "469it [01:19,  5.92it/s]\n"
          ]
        },
        {
          "output_type": "stream",
          "name": "stdout",
          "text": [
            "train Loss: 0.0208 Acc: 0.9942\n",
            "valid Loss: 0.0482 Acc: 0.9867\n",
            "------------------------------\n",
            "\n",
            "Epoch 18/20\n",
            "----------\n"
          ]
        },
        {
          "output_type": "stream",
          "name": "stderr",
          "text": [
            "469it [01:20,  5.86it/s]\n"
          ]
        },
        {
          "output_type": "stream",
          "name": "stdout",
          "text": [
            "train Loss: 0.0213 Acc: 0.9941\n",
            "valid Loss: 0.0318 Acc: 0.9904\n",
            "------------------------------\n",
            "\n",
            "Epoch 19/20\n",
            "----------\n"
          ]
        },
        {
          "output_type": "stream",
          "name": "stderr",
          "text": [
            "469it [01:19,  5.92it/s]\n"
          ]
        },
        {
          "output_type": "stream",
          "name": "stdout",
          "text": [
            "train Loss: 0.0188 Acc: 0.9947\n",
            "valid Loss: 0.0323 Acc: 0.9905\n",
            "------------------------------\n",
            "\n",
            "Epoch 20/20\n",
            "----------\n"
          ]
        },
        {
          "output_type": "stream",
          "name": "stderr",
          "text": [
            "469it [01:22,  5.69it/s]\n"
          ]
        },
        {
          "output_type": "stream",
          "name": "stdout",
          "text": [
            "train Loss: 0.0172 Acc: 0.9952\n",
            "valid Loss: 0.0342 Acc: 0.9903\n",
            "------------------------------\n",
            "\n",
            "Best model saved.\n",
            "Training complete in 29m 8s\n",
            "Best val Acc: 0.992400\n"
          ]
        },
        {
          "output_type": "display_data",
          "data": {
            "text/plain": [
              "<IPython.core.display.HTML object>"
            ],
            "text/html": [
              "Waiting for W&B process to finish... <strong style=\"color:green\">(success).</strong>"
            ]
          },
          "metadata": {}
        },
        {
          "output_type": "display_data",
          "data": {
            "text/plain": [
              "<IPython.core.display.HTML object>"
            ],
            "text/html": [
              "<style>\n",
              "    table.wandb td:nth-child(1) { padding: 0 10px; text-align: left ; width: auto;} td:nth-child(2) {text-align: left ; width: 100%}\n",
              "    .wandb-row { display: flex; flex-direction: row; flex-wrap: wrap; justify-content: flex-start; width: 100% }\n",
              "    .wandb-col { display: flex; flex-direction: column; flex-basis: 100%; flex: 1; padding: 10px; }\n",
              "    </style>\n",
              "<div class=\"wandb-row\"><div class=\"wandb-col\"><h3>Run history:</h3><br/><table class=\"wandb\"><tr><td>Train - acc</td><td>▁▇██████████████████</td></tr><tr><td>Train - loss</td><td>█▂▁▂▁▁▁▁▁▁▁▁▁▁▁▁▁▁▁▁▁▁▁▁▁▁▁▁▁▁▁▁▁▁▁▁▁▂▁▁</td></tr><tr><td>Valid - acc</td><td>▁▇▇▅▇▆▇█▅▇▆▅▆█▇▇▇███</td></tr><tr><td>Valid - loss</td><td>█▂▂▄▃▃▂▂▄▂▃▅▂▁▃▂▂▁▁▂</td></tr></table><br/></div><div class=\"wandb-col\"><h3>Run summary:</h3><br/><table class=\"wandb\"><tr><td>Train - acc</td><td>0.99518</td></tr><tr><td>Train - loss</td><td>0.06733</td></tr><tr><td>Valid - acc</td><td>0.9903</td></tr><tr><td>Valid - loss</td><td>0.03421</td></tr></table><br/></div></div>"
            ]
          },
          "metadata": {}
        },
        {
          "output_type": "display_data",
          "data": {
            "text/plain": [
              "<IPython.core.display.HTML object>"
            ],
            "text/html": [
              " View run <strong style=\"color:#cdcd00\">good-haze-3</strong> at: <a href='https://wandb.ai/ahashan/INF8225%20-%20Projet%20final/runs/necohugo' target=\"_blank\">https://wandb.ai/ahashan/INF8225%20-%20Projet%20final/runs/necohugo</a><br/>Synced 5 W&B file(s), 0 media file(s), 2 artifact file(s) and 1 other file(s)"
            ]
          },
          "metadata": {}
        },
        {
          "output_type": "display_data",
          "data": {
            "text/plain": [
              "<IPython.core.display.HTML object>"
            ],
            "text/html": [
              "Find logs at: <code>./wandb/run-20230430_035520-necohugo/logs</code>"
            ]
          },
          "metadata": {}
        }
      ]
    },
    {
      "cell_type": "markdown",
      "source": [
        "# **Training ResNet-18 on CIFAR-10 Dataset**"
      ],
      "metadata": {
        "id": "Dang7Z1nQ7gh"
      }
    },
    {
      "cell_type": "code",
      "source": [
        "config['model_name'] = 'resnet'\n",
        "config['dataset_name'] = 'cifar10'\n",
        "model_ft, input_size = initialize_model(config['model_name'], config['dataset_name'])\n",
        "optimizer = optim.SGD(model_ft.parameters(), lr=config['lr'], momentum=0.9, weight_decay = 0.0005, nesterov = True)\n",
        "scheduler = CosineAnnealingLR(optimizer, T_max = 60, eta_min = 1e-6)\n",
        "criterion = nn.CrossEntropyLoss()\n",
        "model_ft = model_ft.to(device)\n",
        "\n",
        "with wandb.init(\n",
        "        config=config,\n",
        "        project='INF8225 - Projet final',\n",
        "        group= 'resnet18_cifar10',\n",
        "        save_code=True,\n",
        "    ):\n",
        "  model_ft, hist = train_model(\n",
        "      model_ft,\n",
        "      CIFAR10_trainloader,\n",
        "      CIFAR10_testloader,\n",
        "      criterion,\n",
        "      optimizer,\n",
        "      scheduler,\n",
        "      num_epochs=20,\n",
        "      DAmethod = 'Baseline',\n",
        "      datasetname = config['dataset_name']\n",
        "      )\n"
      ],
      "metadata": {
        "colab": {
          "base_uri": "https://localhost:8080/",
          "height": 1000
        },
        "id": "pEU330ewK7Jp",
        "outputId": "ab9d8898-b2b6-42e0-d818-a7103c21ff05"
      },
      "execution_count": null,
      "outputs": [
        {
          "output_type": "display_data",
          "data": {
            "text/plain": [
              "<IPython.core.display.HTML object>"
            ],
            "text/html": [
              "Tracking run with wandb version 0.15.0"
            ]
          },
          "metadata": {}
        },
        {
          "output_type": "display_data",
          "data": {
            "text/plain": [
              "<IPython.core.display.HTML object>"
            ],
            "text/html": [
              "Run data is saved locally in <code>/content/wandb/run-20230430_042657-3eguue7y</code>"
            ]
          },
          "metadata": {}
        },
        {
          "output_type": "display_data",
          "data": {
            "text/plain": [
              "<IPython.core.display.HTML object>"
            ],
            "text/html": [
              "Syncing run <strong><a href='https://wandb.ai/ahashan/INF8225%20-%20Projet%20final/runs/3eguue7y' target=\"_blank\">divine-bird-4</a></strong> to <a href='https://wandb.ai/ahashan/INF8225%20-%20Projet%20final' target=\"_blank\">Weights & Biases</a> (<a href='https://wandb.me/run' target=\"_blank\">docs</a>)<br/>"
            ]
          },
          "metadata": {}
        },
        {
          "output_type": "display_data",
          "data": {
            "text/plain": [
              "<IPython.core.display.HTML object>"
            ],
            "text/html": [
              " View project at <a href='https://wandb.ai/ahashan/INF8225%20-%20Projet%20final' target=\"_blank\">https://wandb.ai/ahashan/INF8225%20-%20Projet%20final</a>"
            ]
          },
          "metadata": {}
        },
        {
          "output_type": "display_data",
          "data": {
            "text/plain": [
              "<IPython.core.display.HTML object>"
            ],
            "text/html": [
              " View run at <a href='https://wandb.ai/ahashan/INF8225%20-%20Projet%20final/runs/3eguue7y' target=\"_blank\">https://wandb.ai/ahashan/INF8225%20-%20Projet%20final/runs/3eguue7y</a>"
            ]
          },
          "metadata": {}
        },
        {
          "output_type": "stream",
          "name": "stdout",
          "text": [
            "Epoch 1/20\n",
            "----------\n"
          ]
        },
        {
          "output_type": "stream",
          "name": "stderr",
          "text": [
            "391it [01:18,  5.01it/s]\n"
          ]
        },
        {
          "output_type": "stream",
          "name": "stdout",
          "text": [
            "train Loss: 2.1176 Acc: 0.2510\n",
            "valid Loss: 1.5989 Acc: 0.3988\n",
            "Saving model...\n",
            "------------------------------\n",
            "\n",
            "Epoch 2/20\n",
            "----------\n"
          ]
        },
        {
          "output_type": "stream",
          "name": "stderr",
          "text": [
            "391it [01:20,  4.83it/s]\n"
          ]
        },
        {
          "output_type": "stream",
          "name": "stdout",
          "text": [
            "train Loss: 1.5041 Acc: 0.4417\n",
            "valid Loss: 1.3972 Acc: 0.4949\n",
            "Saving model...\n",
            "------------------------------\n",
            "\n",
            "Epoch 3/20\n",
            "----------\n"
          ]
        },
        {
          "output_type": "stream",
          "name": "stderr",
          "text": [
            "391it [01:19,  4.92it/s]\n"
          ]
        },
        {
          "output_type": "stream",
          "name": "stdout",
          "text": [
            "train Loss: 1.2085 Acc: 0.5633\n",
            "valid Loss: 1.2703 Acc: 0.5588\n",
            "Saving model...\n",
            "------------------------------\n",
            "\n",
            "Epoch 4/20\n",
            "----------\n"
          ]
        },
        {
          "output_type": "stream",
          "name": "stderr",
          "text": [
            "391it [01:20,  4.88it/s]\n"
          ]
        },
        {
          "output_type": "stream",
          "name": "stdout",
          "text": [
            "train Loss: 0.9951 Acc: 0.6464\n",
            "valid Loss: 0.9728 Acc: 0.6587\n",
            "Saving model...\n",
            "------------------------------\n",
            "\n",
            "Epoch 5/20\n",
            "----------\n"
          ]
        },
        {
          "output_type": "stream",
          "name": "stderr",
          "text": [
            "391it [01:15,  5.19it/s]\n"
          ]
        },
        {
          "output_type": "stream",
          "name": "stdout",
          "text": [
            "train Loss: 0.8673 Acc: 0.6937\n",
            "valid Loss: 0.9901 Acc: 0.6569\n",
            "------------------------------\n",
            "\n",
            "Epoch 6/20\n",
            "----------\n"
          ]
        },
        {
          "output_type": "stream",
          "name": "stderr",
          "text": [
            "391it [01:14,  5.24it/s]\n"
          ]
        },
        {
          "output_type": "stream",
          "name": "stdout",
          "text": [
            "train Loss: 0.7610 Acc: 0.7335\n",
            "valid Loss: 0.8540 Acc: 0.7088\n",
            "Saving model...\n",
            "------------------------------\n",
            "\n",
            "Epoch 7/20\n",
            "----------\n"
          ]
        },
        {
          "output_type": "stream",
          "name": "stderr",
          "text": [
            "391it [01:15,  5.19it/s]\n"
          ]
        },
        {
          "output_type": "stream",
          "name": "stdout",
          "text": [
            "train Loss: 0.6725 Acc: 0.7664\n",
            "valid Loss: 0.8672 Acc: 0.7106\n",
            "Saving model...\n",
            "------------------------------\n",
            "\n",
            "Epoch 8/20\n",
            "----------\n"
          ]
        },
        {
          "output_type": "stream",
          "name": "stderr",
          "text": [
            "391it [01:15,  5.19it/s]\n"
          ]
        },
        {
          "output_type": "stream",
          "name": "stdout",
          "text": [
            "train Loss: 0.6012 Acc: 0.7920\n",
            "valid Loss: 0.6462 Acc: 0.7749\n",
            "Saving model...\n",
            "------------------------------\n",
            "\n",
            "Epoch 9/20\n",
            "----------\n"
          ]
        },
        {
          "output_type": "stream",
          "name": "stderr",
          "text": [
            "391it [01:15,  5.17it/s]\n"
          ]
        },
        {
          "output_type": "stream",
          "name": "stdout",
          "text": [
            "train Loss: 0.5600 Acc: 0.8047\n",
            "valid Loss: 0.6662 Acc: 0.7811\n",
            "Saving model...\n",
            "------------------------------\n",
            "\n",
            "Epoch 10/20\n",
            "----------\n"
          ]
        },
        {
          "output_type": "stream",
          "name": "stderr",
          "text": [
            "391it [01:15,  5.20it/s]\n"
          ]
        },
        {
          "output_type": "stream",
          "name": "stdout",
          "text": [
            "train Loss: 0.5277 Acc: 0.8173\n",
            "valid Loss: 0.6262 Acc: 0.7861\n",
            "Saving model...\n",
            "------------------------------\n",
            "\n",
            "Epoch 11/20\n",
            "----------\n"
          ]
        },
        {
          "output_type": "stream",
          "name": "stderr",
          "text": [
            "391it [01:16,  5.14it/s]\n"
          ]
        },
        {
          "output_type": "stream",
          "name": "stdout",
          "text": [
            "train Loss: 0.4979 Acc: 0.8290\n",
            "valid Loss: 0.7637 Acc: 0.7436\n",
            "------------------------------\n",
            "\n",
            "Epoch 12/20\n",
            "----------\n"
          ]
        },
        {
          "output_type": "stream",
          "name": "stderr",
          "text": [
            "391it [01:14,  5.25it/s]\n"
          ]
        },
        {
          "output_type": "stream",
          "name": "stdout",
          "text": [
            "train Loss: 0.4754 Acc: 0.8368\n",
            "valid Loss: 0.5860 Acc: 0.7952\n",
            "Saving model...\n",
            "------------------------------\n",
            "\n",
            "Epoch 13/20\n",
            "----------\n"
          ]
        },
        {
          "output_type": "stream",
          "name": "stderr",
          "text": [
            "391it [01:15,  5.17it/s]\n"
          ]
        },
        {
          "output_type": "stream",
          "name": "stdout",
          "text": [
            "train Loss: 0.4526 Acc: 0.8455\n",
            "valid Loss: 0.6008 Acc: 0.7938\n",
            "------------------------------\n",
            "\n",
            "Epoch 14/20\n",
            "----------\n"
          ]
        },
        {
          "output_type": "stream",
          "name": "stderr",
          "text": [
            "391it [01:14,  5.25it/s]\n"
          ]
        },
        {
          "output_type": "stream",
          "name": "stdout",
          "text": [
            "train Loss: 0.4375 Acc: 0.8507\n",
            "valid Loss: 0.7301 Acc: 0.7603\n",
            "------------------------------\n",
            "\n",
            "Epoch 15/20\n",
            "----------\n"
          ]
        },
        {
          "output_type": "stream",
          "name": "stderr",
          "text": [
            "391it [01:14,  5.22it/s]\n"
          ]
        },
        {
          "output_type": "stream",
          "name": "stdout",
          "text": [
            "train Loss: 0.4186 Acc: 0.8560\n",
            "valid Loss: 0.5669 Acc: 0.8133\n",
            "Saving model...\n",
            "------------------------------\n",
            "\n",
            "Epoch 16/20\n",
            "----------\n"
          ]
        },
        {
          "output_type": "stream",
          "name": "stderr",
          "text": [
            "391it [01:15,  5.18it/s]\n"
          ]
        },
        {
          "output_type": "stream",
          "name": "stdout",
          "text": [
            "train Loss: 0.4085 Acc: 0.8594\n",
            "valid Loss: 0.6100 Acc: 0.8017\n",
            "------------------------------\n",
            "\n",
            "Epoch 17/20\n",
            "----------\n"
          ]
        },
        {
          "output_type": "stream",
          "name": "stderr",
          "text": [
            "391it [01:14,  5.22it/s]\n"
          ]
        },
        {
          "output_type": "stream",
          "name": "stdout",
          "text": [
            "train Loss: 0.3839 Acc: 0.8693\n",
            "valid Loss: 0.4862 Acc: 0.8389\n",
            "Saving model...\n",
            "------------------------------\n",
            "\n",
            "Epoch 18/20\n",
            "----------\n"
          ]
        },
        {
          "output_type": "stream",
          "name": "stderr",
          "text": [
            "391it [01:15,  5.18it/s]\n"
          ]
        },
        {
          "output_type": "stream",
          "name": "stdout",
          "text": [
            "train Loss: 0.3819 Acc: 0.8712\n",
            "valid Loss: 0.5279 Acc: 0.8198\n",
            "------------------------------\n",
            "\n",
            "Epoch 19/20\n",
            "----------\n"
          ]
        },
        {
          "output_type": "stream",
          "name": "stderr",
          "text": [
            "391it [01:15,  5.21it/s]\n"
          ]
        },
        {
          "output_type": "stream",
          "name": "stdout",
          "text": [
            "train Loss: 0.3661 Acc: 0.8745\n",
            "valid Loss: 0.4565 Acc: 0.8480\n",
            "Saving model...\n",
            "------------------------------\n",
            "\n",
            "Epoch 20/20\n",
            "----------\n"
          ]
        },
        {
          "output_type": "stream",
          "name": "stderr",
          "text": [
            "391it [01:15,  5.19it/s]\n"
          ]
        },
        {
          "output_type": "stream",
          "name": "stdout",
          "text": [
            "train Loss: 0.3601 Acc: 0.8766\n",
            "valid Loss: 0.6421 Acc: 0.7941\n",
            "------------------------------\n",
            "\n",
            "Best model saved.\n",
            "Training complete in 28m 20s\n",
            "Best val Acc: 0.848000\n"
          ]
        },
        {
          "output_type": "display_data",
          "data": {
            "text/plain": [
              "<IPython.core.display.HTML object>"
            ],
            "text/html": [
              "Waiting for W&B process to finish... <strong style=\"color:green\">(success).</strong>"
            ]
          },
          "metadata": {}
        },
        {
          "output_type": "display_data",
          "data": {
            "text/plain": [
              "<IPython.core.display.HTML object>"
            ],
            "text/html": [
              "<style>\n",
              "    table.wandb td:nth-child(1) { padding: 0 10px; text-align: left ; width: auto;} td:nth-child(2) {text-align: left ; width: 100%}\n",
              "    .wandb-row { display: flex; flex-direction: row; flex-wrap: wrap; justify-content: flex-start; width: 100% }\n",
              "    .wandb-col { display: flex; flex-direction: column; flex-basis: 100%; flex: 1; padding: 10px; }\n",
              "    </style>\n",
              "<div class=\"wandb-row\"><div class=\"wandb-col\"><h3>Run history:</h3><br/><table class=\"wandb\"><tr><td>Train - acc</td><td>▁▃▄▅▆▆▇▇▇▇▇█████████</td></tr><tr><td>Train - loss</td><td>█▆▅▅▅▄▄▃▃▂▃▂▂▃▂▂▂▂▁▁▁▂▁▂▂▁▁▂▁▁▁▁▁▁▁▁▁▂▁▁</td></tr><tr><td>Valid - acc</td><td>▁▂▃▅▅▆▆▇▇▇▆▇▇▇▇▇███▇</td></tr><tr><td>Valid - loss</td><td>█▇▆▄▄▃▄▂▂▂▃▂▂▃▂▂▁▁▁▂</td></tr></table><br/></div><div class=\"wandb-col\"><h3>Run summary:</h3><br/><table class=\"wandb\"><tr><td>Train - acc</td><td>0.8766</td></tr><tr><td>Train - loss</td><td>0.3813</td></tr><tr><td>Valid - acc</td><td>0.7941</td></tr><tr><td>Valid - loss</td><td>0.64215</td></tr></table><br/></div></div>"
            ]
          },
          "metadata": {}
        },
        {
          "output_type": "display_data",
          "data": {
            "text/plain": [
              "<IPython.core.display.HTML object>"
            ],
            "text/html": [
              " View run <strong style=\"color:#cdcd00\">divine-bird-4</strong> at: <a href='https://wandb.ai/ahashan/INF8225%20-%20Projet%20final/runs/3eguue7y' target=\"_blank\">https://wandb.ai/ahashan/INF8225%20-%20Projet%20final/runs/3eguue7y</a><br/>Synced 5 W&B file(s), 0 media file(s), 2 artifact file(s) and 1 other file(s)"
            ]
          },
          "metadata": {}
        },
        {
          "output_type": "display_data",
          "data": {
            "text/plain": [
              "<IPython.core.display.HTML object>"
            ],
            "text/html": [
              "Find logs at: <code>./wandb/run-20230430_042657-3eguue7y/logs</code>"
            ]
          },
          "metadata": {}
        }
      ]
    },
    {
      "cell_type": "markdown",
      "source": [
        "# **Training ResNet-18 on CIFAR-100 Dataset**"
      ],
      "metadata": {
        "id": "IT1dNqPmREtB"
      }
    },
    {
      "cell_type": "code",
      "source": [
        "config['dataset_name'] = 'cifar100'\n",
        "config['model_name'] = 'resnet'\n",
        "\n",
        "model_ft, input_size = initialize_model(config['model_name'], config['dataset_name'])\n",
        "optimizer = optim.SGD(model_ft.parameters(), lr=config['lr'], momentum=0.9, weight_decay = 0.0005, nesterov = True)\n",
        "scheduler = CosineAnnealingLR(optimizer, T_max = 60, eta_min = 1e-6)\n",
        "criterion = nn.CrossEntropyLoss()\n",
        "model_ft = model_ft.to(device)\n",
        "\n",
        "with wandb.init(\n",
        "        config=config,\n",
        "        project='INF8225 - Projet final',\n",
        "        group= 'resnet18_cifar100',\n",
        "        save_code=True,\n",
        "    ):\n",
        "  model_ft, hist = train_model(\n",
        "      model_ft,\n",
        "      CIFAR100_trainloader,\n",
        "      CIFAR100_testloader,\n",
        "      criterion,\n",
        "      optimizer,\n",
        "      scheduler,\n",
        "      num_epochs=config['epochs'],\n",
        "      DAmethod = 'Baseline',\n",
        "      datasetname = config['dataset_name'])"
      ],
      "metadata": {
        "colab": {
          "base_uri": "https://localhost:8080/",
          "height": 1000
        },
        "id": "9xiDNLB7akIY",
        "outputId": "f36ab7ca-8384-4db3-c3d2-22da13414311"
      },
      "execution_count": null,
      "outputs": [
        {
          "output_type": "display_data",
          "data": {
            "text/plain": [
              "<IPython.core.display.HTML object>"
            ],
            "text/html": [
              "Tracking run with wandb version 0.15.0"
            ]
          },
          "metadata": {}
        },
        {
          "output_type": "display_data",
          "data": {
            "text/plain": [
              "<IPython.core.display.HTML object>"
            ],
            "text/html": [
              "Run data is saved locally in <code>/content/wandb/run-20230430_045531-79ufx8ib</code>"
            ]
          },
          "metadata": {}
        },
        {
          "output_type": "display_data",
          "data": {
            "text/plain": [
              "<IPython.core.display.HTML object>"
            ],
            "text/html": [
              "Syncing run <strong><a href='https://wandb.ai/ahashan/INF8225%20-%20Projet%20final/runs/79ufx8ib' target=\"_blank\">hearty-mountain-5</a></strong> to <a href='https://wandb.ai/ahashan/INF8225%20-%20Projet%20final' target=\"_blank\">Weights & Biases</a> (<a href='https://wandb.me/run' target=\"_blank\">docs</a>)<br/>"
            ]
          },
          "metadata": {}
        },
        {
          "output_type": "display_data",
          "data": {
            "text/plain": [
              "<IPython.core.display.HTML object>"
            ],
            "text/html": [
              " View project at <a href='https://wandb.ai/ahashan/INF8225%20-%20Projet%20final' target=\"_blank\">https://wandb.ai/ahashan/INF8225%20-%20Projet%20final</a>"
            ]
          },
          "metadata": {}
        },
        {
          "output_type": "display_data",
          "data": {
            "text/plain": [
              "<IPython.core.display.HTML object>"
            ],
            "text/html": [
              " View run at <a href='https://wandb.ai/ahashan/INF8225%20-%20Projet%20final/runs/79ufx8ib' target=\"_blank\">https://wandb.ai/ahashan/INF8225%20-%20Projet%20final/runs/79ufx8ib</a>"
            ]
          },
          "metadata": {}
        },
        {
          "output_type": "stream",
          "name": "stdout",
          "text": [
            "Epoch 1/20\n",
            "----------\n"
          ]
        },
        {
          "output_type": "stream",
          "name": "stderr",
          "text": [
            "391it [01:16,  5.14it/s]\n"
          ]
        },
        {
          "output_type": "stream",
          "name": "stdout",
          "text": [
            "train Loss: 3.9346 Acc: 0.0951\n",
            "valid Loss: 3.5503 Acc: 0.1460\n",
            "Saving model...\n",
            "------------------------------\n",
            "\n",
            "Epoch 2/20\n",
            "----------\n"
          ]
        },
        {
          "output_type": "stream",
          "name": "stderr",
          "text": [
            "391it [01:15,  5.16it/s]\n"
          ]
        },
        {
          "output_type": "stream",
          "name": "stdout",
          "text": [
            "train Loss: 3.2660 Acc: 0.1971\n",
            "valid Loss: 3.2629 Acc: 0.2085\n",
            "Saving model...\n",
            "------------------------------\n",
            "\n",
            "Epoch 3/20\n",
            "----------\n"
          ]
        },
        {
          "output_type": "stream",
          "name": "stderr",
          "text": [
            "391it [01:16,  5.12it/s]\n"
          ]
        },
        {
          "output_type": "stream",
          "name": "stdout",
          "text": [
            "train Loss: 2.7849 Acc: 0.2850\n",
            "valid Loss: 2.7142 Acc: 0.3139\n",
            "Saving model...\n",
            "------------------------------\n",
            "\n",
            "Epoch 4/20\n",
            "----------\n"
          ]
        },
        {
          "output_type": "stream",
          "name": "stderr",
          "text": [
            "391it [01:15,  5.17it/s]\n"
          ]
        },
        {
          "output_type": "stream",
          "name": "stdout",
          "text": [
            "train Loss: 2.3807 Acc: 0.3710\n",
            "valid Loss: 2.4617 Acc: 0.3680\n",
            "Saving model...\n",
            "------------------------------\n",
            "\n",
            "Epoch 5/20\n",
            "----------\n"
          ]
        },
        {
          "output_type": "stream",
          "name": "stderr",
          "text": [
            "391it [01:15,  5.16it/s]\n"
          ]
        },
        {
          "output_type": "stream",
          "name": "stdout",
          "text": [
            "train Loss: 2.0965 Acc: 0.4340\n",
            "valid Loss: 2.1853 Acc: 0.4199\n",
            "Saving model...\n",
            "------------------------------\n",
            "\n",
            "Epoch 6/20\n",
            "----------\n"
          ]
        },
        {
          "output_type": "stream",
          "name": "stderr",
          "text": [
            "391it [01:16,  5.14it/s]\n"
          ]
        },
        {
          "output_type": "stream",
          "name": "stdout",
          "text": [
            "train Loss: 1.8739 Acc: 0.4830\n",
            "valid Loss: 1.9087 Acc: 0.4868\n",
            "Saving model...\n",
            "------------------------------\n",
            "\n",
            "Epoch 7/20\n",
            "----------\n"
          ]
        },
        {
          "output_type": "stream",
          "name": "stderr",
          "text": [
            "391it [01:15,  5.18it/s]\n"
          ]
        },
        {
          "output_type": "stream",
          "name": "stdout",
          "text": [
            "train Loss: 1.7239 Acc: 0.5189\n",
            "valid Loss: 1.9497 Acc: 0.4790\n",
            "------------------------------\n",
            "\n",
            "Epoch 8/20\n",
            "----------\n"
          ]
        },
        {
          "output_type": "stream",
          "name": "stderr",
          "text": [
            "391it [01:15,  5.20it/s]\n"
          ]
        },
        {
          "output_type": "stream",
          "name": "stdout",
          "text": [
            "train Loss: 1.6106 Acc: 0.5492\n",
            "valid Loss: 1.8576 Acc: 0.4978\n",
            "Saving model...\n",
            "------------------------------\n",
            "\n",
            "Epoch 9/20\n",
            "----------\n"
          ]
        },
        {
          "output_type": "stream",
          "name": "stderr",
          "text": [
            "391it [01:15,  5.20it/s]\n"
          ]
        },
        {
          "output_type": "stream",
          "name": "stdout",
          "text": [
            "train Loss: 1.5209 Acc: 0.5694\n",
            "valid Loss: 1.8622 Acc: 0.5008\n",
            "Saving model...\n",
            "------------------------------\n",
            "\n",
            "Epoch 10/20\n",
            "----------\n"
          ]
        },
        {
          "output_type": "stream",
          "name": "stderr",
          "text": [
            "391it [01:16,  5.14it/s]\n"
          ]
        },
        {
          "output_type": "stream",
          "name": "stdout",
          "text": [
            "train Loss: 1.4527 Acc: 0.5872\n",
            "valid Loss: 1.6559 Acc: 0.5413\n",
            "Saving model...\n",
            "------------------------------\n",
            "\n",
            "Epoch 11/20\n",
            "----------\n"
          ]
        },
        {
          "output_type": "stream",
          "name": "stderr",
          "text": [
            "391it [01:15,  5.17it/s]\n"
          ]
        },
        {
          "output_type": "stream",
          "name": "stdout",
          "text": [
            "train Loss: 1.3809 Acc: 0.6047\n",
            "valid Loss: 1.8639 Acc: 0.5173\n",
            "------------------------------\n",
            "\n",
            "Epoch 12/20\n",
            "----------\n"
          ]
        },
        {
          "output_type": "stream",
          "name": "stderr",
          "text": [
            "391it [01:15,  5.21it/s]\n"
          ]
        },
        {
          "output_type": "stream",
          "name": "stdout",
          "text": [
            "train Loss: 1.3276 Acc: 0.6182\n",
            "valid Loss: 1.7841 Acc: 0.5322\n",
            "------------------------------\n",
            "\n",
            "Epoch 13/20\n",
            "----------\n"
          ]
        },
        {
          "output_type": "stream",
          "name": "stderr",
          "text": [
            "391it [01:14,  5.24it/s]\n"
          ]
        },
        {
          "output_type": "stream",
          "name": "stdout",
          "text": [
            "train Loss: 1.2831 Acc: 0.6285\n",
            "valid Loss: 1.7513 Acc: 0.5342\n",
            "------------------------------\n",
            "\n",
            "Epoch 14/20\n",
            "----------\n"
          ]
        },
        {
          "output_type": "stream",
          "name": "stderr",
          "text": [
            "391it [01:15,  5.18it/s]\n"
          ]
        },
        {
          "output_type": "stream",
          "name": "stdout",
          "text": [
            "train Loss: 1.2433 Acc: 0.6400\n",
            "valid Loss: 1.7154 Acc: 0.5420\n",
            "Saving model...\n",
            "------------------------------\n",
            "\n",
            "Epoch 15/20\n",
            "----------\n"
          ]
        },
        {
          "output_type": "stream",
          "name": "stderr",
          "text": [
            "391it [01:15,  5.19it/s]\n"
          ]
        },
        {
          "output_type": "stream",
          "name": "stdout",
          "text": [
            "train Loss: 1.1956 Acc: 0.6527\n",
            "valid Loss: 1.6126 Acc: 0.5662\n",
            "Saving model...\n",
            "------------------------------\n",
            "\n",
            "Epoch 16/20\n",
            "----------\n"
          ]
        },
        {
          "output_type": "stream",
          "name": "stderr",
          "text": [
            "391it [01:16,  5.10it/s]\n"
          ]
        },
        {
          "output_type": "stream",
          "name": "stdout",
          "text": [
            "train Loss: 1.1666 Acc: 0.6595\n",
            "valid Loss: 1.5223 Acc: 0.5866\n",
            "Saving model...\n",
            "------------------------------\n",
            "\n",
            "Epoch 17/20\n",
            "----------\n"
          ]
        },
        {
          "output_type": "stream",
          "name": "stderr",
          "text": [
            "391it [01:15,  5.19it/s]\n"
          ]
        },
        {
          "output_type": "stream",
          "name": "stdout",
          "text": [
            "train Loss: 1.1294 Acc: 0.6721\n",
            "valid Loss: 1.5479 Acc: 0.5764\n",
            "------------------------------\n",
            "\n",
            "Epoch 18/20\n",
            "----------\n"
          ]
        },
        {
          "output_type": "stream",
          "name": "stderr",
          "text": [
            "391it [01:15,  5.16it/s]\n"
          ]
        },
        {
          "output_type": "stream",
          "name": "stdout",
          "text": [
            "train Loss: 1.1010 Acc: 0.6779\n",
            "valid Loss: 1.5746 Acc: 0.5789\n",
            "------------------------------\n",
            "\n",
            "Epoch 19/20\n",
            "----------\n"
          ]
        },
        {
          "output_type": "stream",
          "name": "stderr",
          "text": [
            "391it [01:16,  5.12it/s]\n"
          ]
        },
        {
          "output_type": "stream",
          "name": "stdout",
          "text": [
            "train Loss: 1.0561 Acc: 0.6911\n",
            "valid Loss: 1.5528 Acc: 0.5873\n",
            "Saving model...\n",
            "------------------------------\n",
            "\n",
            "Epoch 20/20\n",
            "----------\n"
          ]
        },
        {
          "output_type": "stream",
          "name": "stderr",
          "text": [
            "391it [01:16,  5.14it/s]\n"
          ]
        },
        {
          "output_type": "stream",
          "name": "stdout",
          "text": [
            "train Loss: 1.0343 Acc: 0.6958\n",
            "valid Loss: 1.5848 Acc: 0.5807\n",
            "------------------------------\n",
            "\n",
            "Best model saved.\n",
            "Training complete in 28m 8s\n",
            "Best val Acc: 0.587300\n"
          ]
        },
        {
          "output_type": "display_data",
          "data": {
            "text/plain": [
              "<IPython.core.display.HTML object>"
            ],
            "text/html": [
              "Waiting for W&B process to finish... <strong style=\"color:green\">(success).</strong>"
            ]
          },
          "metadata": {}
        },
        {
          "output_type": "display_data",
          "data": {
            "text/plain": [
              "<IPython.core.display.HTML object>"
            ],
            "text/html": [
              "<style>\n",
              "    table.wandb td:nth-child(1) { padding: 0 10px; text-align: left ; width: auto;} td:nth-child(2) {text-align: left ; width: 100%}\n",
              "    .wandb-row { display: flex; flex-direction: row; flex-wrap: wrap; justify-content: flex-start; width: 100% }\n",
              "    .wandb-col { display: flex; flex-direction: column; flex-basis: 100%; flex: 1; padding: 10px; }\n",
              "    </style>\n",
              "<div class=\"wandb-row\"><div class=\"wandb-col\"><h3>Run history:</h3><br/><table class=\"wandb\"><tr><td>Train - acc</td><td>▁▂▃▄▅▆▆▆▇▇▇▇▇▇▇█████</td></tr><tr><td>Train - loss</td><td>█▇▆▅▅▅▄▄▃▃▃▃▃▃▂▃▂▂▂▂▁▂▂▂▁▂▂▁▁▂▁▁▁▂▁▁▁▁▁▁</td></tr><tr><td>Valid - acc</td><td>▁▂▄▅▅▆▆▇▇▇▇▇▇▇██████</td></tr><tr><td>Valid - loss</td><td>█▇▅▄▃▂▂▂▂▁▂▂▂▂▁▁▁▁▁▁</td></tr></table><br/></div><div class=\"wandb-col\"><h3>Run summary:</h3><br/><table class=\"wandb\"><tr><td>Train - acc</td><td>0.69578</td></tr><tr><td>Train - loss</td><td>1.06234</td></tr><tr><td>Valid - acc</td><td>0.5807</td></tr><tr><td>Valid - loss</td><td>1.58481</td></tr></table><br/></div></div>"
            ]
          },
          "metadata": {}
        },
        {
          "output_type": "display_data",
          "data": {
            "text/plain": [
              "<IPython.core.display.HTML object>"
            ],
            "text/html": [
              " View run <strong style=\"color:#cdcd00\">hearty-mountain-5</strong> at: <a href='https://wandb.ai/ahashan/INF8225%20-%20Projet%20final/runs/79ufx8ib' target=\"_blank\">https://wandb.ai/ahashan/INF8225%20-%20Projet%20final/runs/79ufx8ib</a><br/>Synced 5 W&B file(s), 0 media file(s), 2 artifact file(s) and 1 other file(s)"
            ]
          },
          "metadata": {}
        },
        {
          "output_type": "display_data",
          "data": {
            "text/plain": [
              "<IPython.core.display.HTML object>"
            ],
            "text/html": [
              "Find logs at: <code>./wandb/run-20230430_045531-79ufx8ib/logs</code>"
            ]
          },
          "metadata": {}
        }
      ]
    },
    {
      "cell_type": "markdown",
      "source": [
        "# **Mixup**"
      ],
      "metadata": {
        "id": "2M7cK5YobQnc"
      }
    },
    {
      "cell_type": "code",
      "source": [
        "mnist_trainloader_small = DataLoader(mnist_trainset, batch_size=4, shuffle=True)\n",
        "cif10_trainloader_small = DataLoader(CIFAR10_trainset, batch_size=4, shuffle=True)\n",
        "cif100_trainloader_small = DataLoader(CIFAR100_trainset, batch_size=4, shuffle=True)\n",
        "\n",
        "def mixup(inputs, labels, alpha):\n",
        "  batch_size = inputs.size(0)\n",
        "  shuffled_batch = torch.randperm(batch_size).to(config['device'])\n",
        "  second_inputs = inputs[shuffled_batch]\n",
        "  second_labels = labels[shuffled_batch]\n",
        "  lam = np.random.beta(alpha, alpha)\n",
        "  mixup_inputs = inputs * lam + second_inputs * (1 - lam)\n",
        "  return mixup_inputs, labels, second_labels, lam\n",
        "\n",
        "def mixup_criterion(criterion, output, original_labels, shuffled_labels, lam):\n",
        "    return lam * criterion(output, original_labels) + (1 - lam) * criterion(output, shuffled_labels)\n"
      ],
      "metadata": {
        "id": "Znxgl-wtbSR-"
      },
      "execution_count": 16,
      "outputs": []
    },
    {
      "cell_type": "markdown",
      "source": [
        "# **Training ResNet-18 + Mix Up on CIFAR-10 Dataset**"
      ],
      "metadata": {
        "id": "QJbIA3PmNcDx"
      }
    },
    {
      "cell_type": "code",
      "source": [
        "config['dataset_name'] = 'CIFAR10'\n",
        "config['model_name'] =  'resnet'\n",
        "config['DAmethod'] = 'MixUp'\n",
        "model_ft, input_size = initialize_model(config['model_name'], config['dataset_name'] )\n",
        "\n",
        "optimizer = optim.SGD(model_ft.parameters(), lr=config['lr'], momentum=0.9, weight_decay = config['weight_decay'], nesterov = True)\n",
        "scheduler = CosineAnnealingLR(optimizer, T_max = 60, eta_min = 1e-6 )\n",
        "criterion = nn.CrossEntropyLoss()\n",
        "model_ft = model_ft.to(device)\n",
        "\n",
        "with wandb.init(\n",
        "    config=config,\n",
        "    project='INF8225 - Projet final',\n",
        "    save_code=True,\n",
        "    group='resnet18_cifar10_mixup'):\n",
        "  \n",
        "  model_ft, hist = train_model(\n",
        "      model_ft,\n",
        "      CIFAR10_trainloader,\n",
        "      CIFAR10_testloader,\n",
        "      criterion,\n",
        "      optimizer,\n",
        "      DAmethod=config['DAmethod'],\n",
        "      datasetname=config['dataset_name'],\n",
        "      num_epochs=config['epochs'],\n",
        "      scheduler=scheduler\n",
        "      )\n"
      ],
      "metadata": {
        "colab": {
          "base_uri": "https://localhost:8080/",
          "height": 1000
        },
        "id": "t-2zZtjIblje",
        "outputId": "ab1d2f4e-b926-42f4-ca59-3078520833f3"
      },
      "execution_count": 18,
      "outputs": [
        {
          "output_type": "display_data",
          "data": {
            "text/plain": [
              "<IPython.core.display.HTML object>"
            ],
            "text/html": [
              "Tracking run with wandb version 0.15.0"
            ]
          },
          "metadata": {}
        },
        {
          "output_type": "display_data",
          "data": {
            "text/plain": [
              "<IPython.core.display.HTML object>"
            ],
            "text/html": [
              "Run data is saved locally in <code>/content/wandb/run-20230430_221615-lk02k5jc</code>"
            ]
          },
          "metadata": {}
        },
        {
          "output_type": "display_data",
          "data": {
            "text/plain": [
              "<IPython.core.display.HTML object>"
            ],
            "text/html": [
              "Syncing run <strong><a href='https://wandb.ai/ahashan/INF8225%20-%20Projet%20final/runs/lk02k5jc' target=\"_blank\">curious-field-10</a></strong> to <a href='https://wandb.ai/ahashan/INF8225%20-%20Projet%20final' target=\"_blank\">Weights & Biases</a> (<a href='https://wandb.me/run' target=\"_blank\">docs</a>)<br/>"
            ]
          },
          "metadata": {}
        },
        {
          "output_type": "display_data",
          "data": {
            "text/plain": [
              "<IPython.core.display.HTML object>"
            ],
            "text/html": [
              " View project at <a href='https://wandb.ai/ahashan/INF8225%20-%20Projet%20final' target=\"_blank\">https://wandb.ai/ahashan/INF8225%20-%20Projet%20final</a>"
            ]
          },
          "metadata": {}
        },
        {
          "output_type": "display_data",
          "data": {
            "text/plain": [
              "<IPython.core.display.HTML object>"
            ],
            "text/html": [
              " View run at <a href='https://wandb.ai/ahashan/INF8225%20-%20Projet%20final/runs/lk02k5jc' target=\"_blank\">https://wandb.ai/ahashan/INF8225%20-%20Projet%20final/runs/lk02k5jc</a>"
            ]
          },
          "metadata": {}
        },
        {
          "output_type": "stream",
          "name": "stdout",
          "text": [
            "Start training CIFAR10 Model resnet\n",
            "DAmethod -  MixUp\n",
            "Epoch 1/20\n",
            "----------\n"
          ]
        },
        {
          "output_type": "stream",
          "name": "stderr",
          "text": [
            "391it [01:12,  5.43it/s]\n"
          ]
        },
        {
          "output_type": "stream",
          "name": "stdout",
          "text": [
            "train Loss: 2.1605 Acc: 0.2108\n",
            "valid Loss: 1.6430 Acc: 0.3898\n",
            "Saving model...\n",
            "------------------------------\n",
            "\n",
            "Epoch 2/20\n",
            "----------\n"
          ]
        },
        {
          "output_type": "stream",
          "name": "stderr",
          "text": [
            "391it [01:13,  5.34it/s]\n"
          ]
        },
        {
          "output_type": "stream",
          "name": "stdout",
          "text": [
            "train Loss: 1.8620 Acc: 0.2714\n",
            "valid Loss: 1.5082 Acc: 0.4659\n",
            "Saving model...\n",
            "------------------------------\n",
            "\n",
            "Epoch 3/20\n",
            "----------\n"
          ]
        },
        {
          "output_type": "stream",
          "name": "stderr",
          "text": [
            "391it [01:14,  5.24it/s]\n"
          ]
        },
        {
          "output_type": "stream",
          "name": "stdout",
          "text": [
            "train Loss: 1.7640 Acc: 0.3096\n",
            "valid Loss: 1.2853 Acc: 0.5532\n",
            "Saving model...\n",
            "------------------------------\n",
            "\n",
            "Epoch 4/20\n",
            "----------\n"
          ]
        },
        {
          "output_type": "stream",
          "name": "stderr",
          "text": [
            "391it [01:17,  5.07it/s]\n"
          ]
        },
        {
          "output_type": "stream",
          "name": "stdout",
          "text": [
            "train Loss: 1.6679 Acc: 0.3163\n",
            "valid Loss: 1.2231 Acc: 0.5729\n",
            "Saving model...\n",
            "------------------------------\n",
            "\n",
            "Epoch 5/20\n",
            "----------\n"
          ]
        },
        {
          "output_type": "stream",
          "name": "stderr",
          "text": [
            "391it [01:19,  4.92it/s]\n"
          ]
        },
        {
          "output_type": "stream",
          "name": "stdout",
          "text": [
            "train Loss: 1.5968 Acc: 0.3631\n",
            "valid Loss: 1.1508 Acc: 0.6047\n",
            "Saving model...\n",
            "------------------------------\n",
            "\n",
            "Epoch 6/20\n",
            "----------\n"
          ]
        },
        {
          "output_type": "stream",
          "name": "stderr",
          "text": [
            "391it [01:19,  4.94it/s]\n"
          ]
        },
        {
          "output_type": "stream",
          "name": "stdout",
          "text": [
            "train Loss: 1.5335 Acc: 0.3917\n",
            "valid Loss: 1.0122 Acc: 0.6649\n",
            "Saving model...\n",
            "------------------------------\n",
            "\n",
            "Epoch 7/20\n",
            "----------\n"
          ]
        },
        {
          "output_type": "stream",
          "name": "stderr",
          "text": [
            "391it [01:17,  5.05it/s]\n"
          ]
        },
        {
          "output_type": "stream",
          "name": "stdout",
          "text": [
            "train Loss: 1.4849 Acc: 0.3913\n",
            "valid Loss: 0.9577 Acc: 0.6978\n",
            "Saving model...\n",
            "------------------------------\n",
            "\n",
            "Epoch 8/20\n",
            "----------\n"
          ]
        },
        {
          "output_type": "stream",
          "name": "stderr",
          "text": [
            "391it [01:18,  4.97it/s]\n"
          ]
        },
        {
          "output_type": "stream",
          "name": "stdout",
          "text": [
            "train Loss: 1.4266 Acc: 0.3981\n",
            "valid Loss: 0.9552 Acc: 0.6859\n",
            "------------------------------\n",
            "\n",
            "Epoch 9/20\n",
            "----------\n"
          ]
        },
        {
          "output_type": "stream",
          "name": "stderr",
          "text": [
            "391it [01:16,  5.11it/s]\n"
          ]
        },
        {
          "output_type": "stream",
          "name": "stdout",
          "text": [
            "train Loss: 1.4086 Acc: 0.3940\n",
            "valid Loss: 0.9202 Acc: 0.7066\n",
            "Saving model...\n",
            "------------------------------\n",
            "\n",
            "Epoch 10/20\n",
            "----------\n"
          ]
        },
        {
          "output_type": "stream",
          "name": "stderr",
          "text": [
            "391it [01:15,  5.16it/s]\n"
          ]
        },
        {
          "output_type": "stream",
          "name": "stdout",
          "text": [
            "train Loss: 1.3689 Acc: 0.4250\n",
            "valid Loss: 0.8363 Acc: 0.7448\n",
            "Saving model...\n",
            "------------------------------\n",
            "\n",
            "Epoch 11/20\n",
            "----------\n"
          ]
        },
        {
          "output_type": "stream",
          "name": "stderr",
          "text": [
            "391it [01:15,  5.15it/s]\n"
          ]
        },
        {
          "output_type": "stream",
          "name": "stdout",
          "text": [
            "train Loss: 1.3416 Acc: 0.4288\n",
            "valid Loss: 0.7847 Acc: 0.7528\n",
            "Saving model...\n",
            "------------------------------\n",
            "\n",
            "Epoch 12/20\n",
            "----------\n"
          ]
        },
        {
          "output_type": "stream",
          "name": "stderr",
          "text": [
            "391it [01:13,  5.33it/s]\n"
          ]
        },
        {
          "output_type": "stream",
          "name": "stdout",
          "text": [
            "train Loss: 1.3036 Acc: 0.4290\n",
            "valid Loss: 0.7640 Acc: 0.7545\n",
            "Saving model...\n",
            "------------------------------\n",
            "\n",
            "Epoch 13/20\n",
            "----------\n"
          ]
        },
        {
          "output_type": "stream",
          "name": "stderr",
          "text": [
            "391it [01:14,  5.26it/s]\n"
          ]
        },
        {
          "output_type": "stream",
          "name": "stdout",
          "text": [
            "train Loss: 1.2763 Acc: 0.4400\n",
            "valid Loss: 0.6518 Acc: 0.8074\n",
            "Saving model...\n",
            "------------------------------\n",
            "\n",
            "Epoch 14/20\n",
            "----------\n"
          ]
        },
        {
          "output_type": "stream",
          "name": "stderr",
          "text": [
            "391it [01:13,  5.32it/s]\n"
          ]
        },
        {
          "output_type": "stream",
          "name": "stdout",
          "text": [
            "train Loss: 1.2600 Acc: 0.4529\n",
            "valid Loss: 0.6932 Acc: 0.8071\n",
            "------------------------------\n",
            "\n",
            "Epoch 15/20\n",
            "----------\n"
          ]
        },
        {
          "output_type": "stream",
          "name": "stderr",
          "text": [
            "391it [01:13,  5.29it/s]\n"
          ]
        },
        {
          "output_type": "stream",
          "name": "stdout",
          "text": [
            "train Loss: 1.2405 Acc: 0.4403\n",
            "valid Loss: 0.6233 Acc: 0.8299\n",
            "Saving model...\n",
            "------------------------------\n",
            "\n",
            "Epoch 16/20\n",
            "----------\n"
          ]
        },
        {
          "output_type": "stream",
          "name": "stderr",
          "text": [
            "391it [01:13,  5.29it/s]\n"
          ]
        },
        {
          "output_type": "stream",
          "name": "stdout",
          "text": [
            "train Loss: 1.2256 Acc: 0.4471\n",
            "valid Loss: 0.6724 Acc: 0.8154\n",
            "------------------------------\n",
            "\n",
            "Epoch 17/20\n",
            "----------\n"
          ]
        },
        {
          "output_type": "stream",
          "name": "stderr",
          "text": [
            "391it [01:12,  5.36it/s]\n"
          ]
        },
        {
          "output_type": "stream",
          "name": "stdout",
          "text": [
            "train Loss: 1.1938 Acc: 0.4756\n",
            "valid Loss: 0.6912 Acc: 0.8031\n",
            "------------------------------\n",
            "\n",
            "Epoch 18/20\n",
            "----------\n"
          ]
        },
        {
          "output_type": "stream",
          "name": "stderr",
          "text": [
            "391it [01:12,  5.39it/s]\n"
          ]
        },
        {
          "output_type": "stream",
          "name": "stdout",
          "text": [
            "train Loss: 1.1980 Acc: 0.4567\n",
            "valid Loss: 0.5803 Acc: 0.8484\n",
            "Saving model...\n",
            "------------------------------\n",
            "\n",
            "Epoch 19/20\n",
            "----------\n"
          ]
        },
        {
          "output_type": "stream",
          "name": "stderr",
          "text": [
            "391it [01:13,  5.29it/s]\n"
          ]
        },
        {
          "output_type": "stream",
          "name": "stdout",
          "text": [
            "train Loss: 1.1743 Acc: 0.4747\n",
            "valid Loss: 0.6101 Acc: 0.8412\n",
            "------------------------------\n",
            "\n",
            "Epoch 20/20\n",
            "----------\n"
          ]
        },
        {
          "output_type": "stream",
          "name": "stderr",
          "text": [
            "391it [01:12,  5.41it/s]\n"
          ]
        },
        {
          "output_type": "stream",
          "name": "stdout",
          "text": [
            "train Loss: 1.1545 Acc: 0.4700\n",
            "valid Loss: 0.5347 Acc: 0.8523\n",
            "Saving model...\n",
            "------------------------------\n",
            "\n",
            "Best model saved.\n",
            "Training complete in 28m 15s\n",
            "Best val Acc: 0.852300\n"
          ]
        },
        {
          "output_type": "display_data",
          "data": {
            "text/plain": [
              "<IPython.core.display.HTML object>"
            ],
            "text/html": [
              "Waiting for W&B process to finish... <strong style=\"color:green\">(success).</strong>"
            ]
          },
          "metadata": {}
        },
        {
          "output_type": "display_data",
          "data": {
            "text/plain": [
              "<IPython.core.display.HTML object>"
            ],
            "text/html": [
              "<style>\n",
              "    table.wandb td:nth-child(1) { padding: 0 10px; text-align: left ; width: auto;} td:nth-child(2) {text-align: left ; width: 100%}\n",
              "    .wandb-row { display: flex; flex-direction: row; flex-wrap: wrap; justify-content: flex-start; width: 100% }\n",
              "    .wandb-col { display: flex; flex-direction: column; flex-basis: 100%; flex: 1; padding: 10px; }\n",
              "    </style>\n",
              "<div class=\"wandb-row\"><div class=\"wandb-col\"><h3>Run history:</h3><br/><table class=\"wandb\"><tr><td>Train - acc</td><td>▁▃▄▄▅▆▆▆▆▇▇▇▇▇▇▇█▇██</td></tr><tr><td>Train - loss</td><td>█▇▇▇▆▅▅▇▅▆▆▃▆▂▄▇▄▄▂▅▆▄▆▅▁▅▅▃▄▂▅▅▆▄▂▅▃▅▃▄</td></tr><tr><td>Valid - acc</td><td>▁▂▃▄▄▅▆▅▆▆▆▇▇▇█▇▇███</td></tr><tr><td>Valid - loss</td><td>█▇▆▅▅▄▄▄▃▃▃▂▂▂▂▂▂▁▁▁</td></tr></table><br/></div><div class=\"wandb-col\"><h3>Run summary:</h3><br/><table class=\"wandb\"><tr><td>Train - acc</td><td>0.46996</td></tr><tr><td>Train - loss</td><td>1.37486</td></tr><tr><td>Valid - acc</td><td>0.8523</td></tr><tr><td>Valid - loss</td><td>0.53468</td></tr></table><br/></div></div>"
            ]
          },
          "metadata": {}
        },
        {
          "output_type": "display_data",
          "data": {
            "text/plain": [
              "<IPython.core.display.HTML object>"
            ],
            "text/html": [
              " View run <strong style=\"color:#cdcd00\">curious-field-10</strong> at: <a href='https://wandb.ai/ahashan/INF8225%20-%20Projet%20final/runs/lk02k5jc' target=\"_blank\">https://wandb.ai/ahashan/INF8225%20-%20Projet%20final/runs/lk02k5jc</a><br/>Synced 5 W&B file(s), 0 media file(s), 2 artifact file(s) and 1 other file(s)"
            ]
          },
          "metadata": {}
        },
        {
          "output_type": "display_data",
          "data": {
            "text/plain": [
              "<IPython.core.display.HTML object>"
            ],
            "text/html": [
              "Find logs at: <code>./wandb/run-20230430_221615-lk02k5jc/logs</code>"
            ]
          },
          "metadata": {}
        }
      ]
    },
    {
      "cell_type": "markdown",
      "source": [
        "# **Training ResNet-18 + Mix Up on CIFAR-100 Dataset**"
      ],
      "metadata": {
        "id": "lZvDNv7-QObV"
      }
    },
    {
      "cell_type": "code",
      "source": [
        "config['dataset_name'] = 'CIFAR100'\n",
        "config['model_name'] =  'resnet'\n",
        "config['DAmethod'] = 'MixUp'\n",
        "model_ft, input_size = initialize_model(config['model_name'], config['dataset_name'] )\n",
        "optimizer = optim.SGD(model_ft.parameters(), lr=config['lr'], momentum=0.9, weight_decay = config['weight_decay'], nesterov = True)\n",
        "scheduler = CosineAnnealingLR(optimizer, T_max = 60, eta_min = 1e-6 )\n",
        "criterion = nn.CrossEntropyLoss()\n",
        "model_ft = model_ft.to(device)\n",
        "\n",
        "with wandb.init(\n",
        "    config=config,\n",
        "    project='INF8225 - Projet final',\n",
        "    save_code=True,\n",
        "    group='resnet18_cifar10_mixup'):\n",
        "  \n",
        "    model_ft, hist = train_model(\n",
        "      model_ft,\n",
        "      CIFAR100_trainloader,\n",
        "      CIFAR100_testloader,\n",
        "      criterion,\n",
        "      optimizer,\n",
        "      DAmethod=config['DAmethod'],\n",
        "      datasetname=config['dataset_name'],\n",
        "      num_epochs=config['epochs'],\n",
        "      scheduler=scheduler\n",
        "      )\n",
        "\n",
        "\n",
        "     "
      ],
      "metadata": {
        "colab": {
          "base_uri": "https://localhost:8080/",
          "height": 1000
        },
        "id": "uTuGEPrYAzVt",
        "outputId": "9900d170-1f4e-4401-ad3c-f2eb36fd897b"
      },
      "execution_count": 17,
      "outputs": [
        {
          "output_type": "stream",
          "name": "stderr",
          "text": [
            "\u001b[34m\u001b[1mwandb\u001b[0m: Currently logged in as: \u001b[33mahashanragib\u001b[0m (\u001b[33mahashan\u001b[0m). Use \u001b[1m`wandb login --relogin`\u001b[0m to force relogin\n"
          ]
        },
        {
          "output_type": "display_data",
          "data": {
            "text/plain": [
              "<IPython.core.display.HTML object>"
            ],
            "text/html": [
              "Tracking run with wandb version 0.15.0"
            ]
          },
          "metadata": {}
        },
        {
          "output_type": "display_data",
          "data": {
            "text/plain": [
              "<IPython.core.display.HTML object>"
            ],
            "text/html": [
              "Run data is saved locally in <code>/content/wandb/run-20230430_213518-wr94sb9w</code>"
            ]
          },
          "metadata": {}
        },
        {
          "output_type": "display_data",
          "data": {
            "text/plain": [
              "<IPython.core.display.HTML object>"
            ],
            "text/html": [
              "Syncing run <strong><a href='https://wandb.ai/ahashan/INF8225%20-%20Projet%20final/runs/wr94sb9w' target=\"_blank\">charmed-serenity-9</a></strong> to <a href='https://wandb.ai/ahashan/INF8225%20-%20Projet%20final' target=\"_blank\">Weights & Biases</a> (<a href='https://wandb.me/run' target=\"_blank\">docs</a>)<br/>"
            ]
          },
          "metadata": {}
        },
        {
          "output_type": "display_data",
          "data": {
            "text/plain": [
              "<IPython.core.display.HTML object>"
            ],
            "text/html": [
              " View project at <a href='https://wandb.ai/ahashan/INF8225%20-%20Projet%20final' target=\"_blank\">https://wandb.ai/ahashan/INF8225%20-%20Projet%20final</a>"
            ]
          },
          "metadata": {}
        },
        {
          "output_type": "display_data",
          "data": {
            "text/plain": [
              "<IPython.core.display.HTML object>"
            ],
            "text/html": [
              " View run at <a href='https://wandb.ai/ahashan/INF8225%20-%20Projet%20final/runs/wr94sb9w' target=\"_blank\">https://wandb.ai/ahashan/INF8225%20-%20Projet%20final/runs/wr94sb9w</a>"
            ]
          },
          "metadata": {}
        },
        {
          "output_type": "stream",
          "name": "stdout",
          "text": [
            "Start training CIFAR100 Model resnet\n",
            "DAmethod -  MixUp\n",
            "Epoch 1/20\n",
            "----------\n"
          ]
        },
        {
          "output_type": "stream",
          "name": "stderr",
          "text": [
            "391it [01:18,  5.00it/s]\n"
          ]
        },
        {
          "output_type": "stream",
          "name": "stdout",
          "text": [
            "train Loss: 4.2162 Acc: 0.0497\n",
            "valid Loss: 3.7359 Acc: 0.1133\n",
            "Saving model...\n",
            "------------------------------\n",
            "\n",
            "Epoch 2/20\n",
            "----------\n"
          ]
        },
        {
          "output_type": "stream",
          "name": "stderr",
          "text": [
            "391it [01:12,  5.40it/s]\n"
          ]
        },
        {
          "output_type": "stream",
          "name": "stdout",
          "text": [
            "train Loss: 3.8472 Acc: 0.0882\n",
            "valid Loss: 3.2473 Acc: 0.2141\n",
            "Saving model...\n",
            "------------------------------\n",
            "\n",
            "Epoch 3/20\n",
            "----------\n"
          ]
        },
        {
          "output_type": "stream",
          "name": "stderr",
          "text": [
            "391it [01:12,  5.40it/s]\n"
          ]
        },
        {
          "output_type": "stream",
          "name": "stdout",
          "text": [
            "train Loss: 3.6189 Acc: 0.1203\n",
            "valid Loss: 2.8666 Acc: 0.2811\n",
            "Saving model...\n",
            "------------------------------\n",
            "\n",
            "Epoch 4/20\n",
            "----------\n"
          ]
        },
        {
          "output_type": "stream",
          "name": "stderr",
          "text": [
            "391it [02:38,  2.47it/s]\n"
          ]
        },
        {
          "output_type": "stream",
          "name": "stdout",
          "text": [
            "train Loss: 3.3889 Acc: 0.1629\n",
            "valid Loss: 2.5949 Acc: 0.3425\n",
            "Saving model...\n",
            "------------------------------\n",
            "\n",
            "Epoch 5/20\n",
            "----------\n"
          ]
        },
        {
          "output_type": "stream",
          "name": "stderr",
          "text": [
            "391it [02:33,  2.55it/s]\n"
          ]
        },
        {
          "output_type": "stream",
          "name": "stdout",
          "text": [
            "train Loss: 3.2385 Acc: 0.1689\n",
            "valid Loss: 2.3684 Acc: 0.3897\n",
            "Saving model...\n",
            "------------------------------\n",
            "\n",
            "Epoch 6/20\n",
            "----------\n"
          ]
        },
        {
          "output_type": "stream",
          "name": "stderr",
          "text": [
            "391it [02:32,  2.57it/s]\n"
          ]
        },
        {
          "output_type": "stream",
          "name": "stdout",
          "text": [
            "train Loss: 3.1117 Acc: 0.1991\n",
            "valid Loss: 2.2464 Acc: 0.4322\n",
            "Saving model...\n",
            "------------------------------\n",
            "\n",
            "Epoch 7/20\n",
            "----------\n"
          ]
        },
        {
          "output_type": "stream",
          "name": "stderr",
          "text": [
            "391it [02:33,  2.54it/s]\n"
          ]
        },
        {
          "output_type": "stream",
          "name": "stdout",
          "text": [
            "train Loss: 2.9080 Acc: 0.2361\n",
            "valid Loss: 2.0354 Acc: 0.4669\n",
            "Saving model...\n",
            "------------------------------\n",
            "\n",
            "Epoch 8/20\n",
            "----------\n"
          ]
        },
        {
          "output_type": "stream",
          "name": "stderr",
          "text": [
            "391it [02:33,  2.55it/s]\n"
          ]
        },
        {
          "output_type": "stream",
          "name": "stdout",
          "text": [
            "train Loss: 2.8172 Acc: 0.2401\n",
            "valid Loss: 1.9042 Acc: 0.5081\n",
            "Saving model...\n",
            "------------------------------\n",
            "\n",
            "Epoch 9/20\n",
            "----------\n"
          ]
        },
        {
          "output_type": "stream",
          "name": "stderr",
          "text": [
            "391it [02:39,  2.45it/s]\n"
          ]
        },
        {
          "output_type": "stream",
          "name": "stdout",
          "text": [
            "train Loss: 2.8483 Acc: 0.2712\n",
            "valid Loss: 2.0488 Acc: 0.4836\n",
            "------------------------------\n",
            "\n",
            "Epoch 10/20\n",
            "----------\n"
          ]
        },
        {
          "output_type": "stream",
          "name": "stderr",
          "text": [
            "391it [02:35,  2.51it/s]\n"
          ]
        },
        {
          "output_type": "stream",
          "name": "stdout",
          "text": [
            "train Loss: 2.7310 Acc: 0.2574\n",
            "valid Loss: 1.8157 Acc: 0.5361\n",
            "Saving model...\n",
            "------------------------------\n",
            "\n",
            "Epoch 11/20\n",
            "----------\n"
          ]
        },
        {
          "output_type": "stream",
          "name": "stderr",
          "text": [
            "391it [02:32,  2.57it/s]\n"
          ]
        },
        {
          "output_type": "stream",
          "name": "stdout",
          "text": [
            "train Loss: 2.6530 Acc: 0.2710\n",
            "valid Loss: 1.8156 Acc: 0.5327\n",
            "------------------------------\n",
            "\n",
            "Epoch 12/20\n",
            "----------\n"
          ]
        },
        {
          "output_type": "stream",
          "name": "stderr",
          "text": [
            "391it [01:41,  3.85it/s]\n"
          ]
        },
        {
          "output_type": "stream",
          "name": "stdout",
          "text": [
            "train Loss: 2.5892 Acc: 0.2982\n",
            "valid Loss: 1.6706 Acc: 0.5717\n",
            "Saving model...\n",
            "------------------------------\n",
            "\n",
            "Epoch 13/20\n",
            "----------\n"
          ]
        },
        {
          "output_type": "stream",
          "name": "stderr",
          "text": [
            "391it [01:12,  5.39it/s]\n"
          ]
        },
        {
          "output_type": "stream",
          "name": "stdout",
          "text": [
            "train Loss: 2.6179 Acc: 0.2754\n",
            "valid Loss: 1.6527 Acc: 0.5820\n",
            "Saving model...\n",
            "------------------------------\n",
            "\n",
            "Epoch 14/20\n",
            "----------\n"
          ]
        },
        {
          "output_type": "stream",
          "name": "stderr",
          "text": [
            "391it [01:13,  5.35it/s]\n"
          ]
        },
        {
          "output_type": "stream",
          "name": "stdout",
          "text": [
            "train Loss: 2.5419 Acc: 0.3057\n",
            "valid Loss: 1.6081 Acc: 0.5823\n",
            "Saving model...\n",
            "------------------------------\n",
            "\n",
            "Epoch 15/20\n",
            "----------\n"
          ]
        },
        {
          "output_type": "stream",
          "name": "stderr",
          "text": [
            "391it [01:12,  5.37it/s]\n"
          ]
        },
        {
          "output_type": "stream",
          "name": "stdout",
          "text": [
            "train Loss: 2.5203 Acc: 0.3031\n",
            "valid Loss: 1.7583 Acc: 0.5682\n",
            "------------------------------\n",
            "\n",
            "Epoch 16/20\n",
            "----------\n"
          ]
        },
        {
          "output_type": "stream",
          "name": "stderr",
          "text": [
            "391it [01:16,  5.13it/s]\n"
          ]
        },
        {
          "output_type": "stream",
          "name": "stdout",
          "text": [
            "train Loss: 2.3926 Acc: 0.3214\n",
            "valid Loss: 1.5189 Acc: 0.6186\n",
            "Saving model...\n",
            "------------------------------\n",
            "\n",
            "Epoch 17/20\n",
            "----------\n"
          ]
        },
        {
          "output_type": "stream",
          "name": "stderr",
          "text": [
            "391it [01:13,  5.30it/s]\n"
          ]
        },
        {
          "output_type": "stream",
          "name": "stdout",
          "text": [
            "train Loss: 2.4362 Acc: 0.3087\n",
            "valid Loss: 1.4480 Acc: 0.6288\n",
            "Saving model...\n",
            "------------------------------\n",
            "\n",
            "Epoch 18/20\n",
            "----------\n"
          ]
        },
        {
          "output_type": "stream",
          "name": "stderr",
          "text": [
            "391it [01:13,  5.31it/s]\n"
          ]
        },
        {
          "output_type": "stream",
          "name": "stdout",
          "text": [
            "train Loss: 2.4046 Acc: 0.2999\n",
            "valid Loss: 1.5308 Acc: 0.6114\n",
            "------------------------------\n",
            "\n",
            "Epoch 19/20\n",
            "----------\n"
          ]
        },
        {
          "output_type": "stream",
          "name": "stderr",
          "text": [
            "391it [01:12,  5.40it/s]\n"
          ]
        },
        {
          "output_type": "stream",
          "name": "stdout",
          "text": [
            "train Loss: 2.3269 Acc: 0.3201\n",
            "valid Loss: 1.3136 Acc: 0.6475\n",
            "Saving model...\n",
            "------------------------------\n",
            "\n",
            "Epoch 20/20\n",
            "----------\n"
          ]
        },
        {
          "output_type": "stream",
          "name": "stderr",
          "text": [
            "391it [01:12,  5.38it/s]\n"
          ]
        },
        {
          "output_type": "stream",
          "name": "stdout",
          "text": [
            "train Loss: 2.3032 Acc: 0.3164\n",
            "valid Loss: 1.3353 Acc: 0.6497\n",
            "Saving model...\n",
            "------------------------------\n",
            "\n",
            "Best model saved.\n",
            "Training complete in 39m 17s\n",
            "Best val Acc: 0.649700\n"
          ]
        },
        {
          "output_type": "display_data",
          "data": {
            "text/plain": [
              "<IPython.core.display.HTML object>"
            ],
            "text/html": [
              "Waiting for W&B process to finish... <strong style=\"color:green\">(success).</strong>"
            ]
          },
          "metadata": {}
        },
        {
          "output_type": "display_data",
          "data": {
            "text/plain": [
              "<IPython.core.display.HTML object>"
            ],
            "text/html": [
              "<style>\n",
              "    table.wandb td:nth-child(1) { padding: 0 10px; text-align: left ; width: auto;} td:nth-child(2) {text-align: left ; width: 100%}\n",
              "    .wandb-row { display: flex; flex-direction: row; flex-wrap: wrap; justify-content: flex-start; width: 100% }\n",
              "    .wandb-col { display: flex; flex-direction: column; flex-basis: 100%; flex: 1; padding: 10px; }\n",
              "    </style>\n",
              "<div class=\"wandb-row\"><div class=\"wandb-col\"><h3>Run history:</h3><br/><table class=\"wandb\"><tr><td>Train - acc</td><td>▁▂▃▄▄▅▆▆▇▆▇▇▇████▇██</td></tr><tr><td>Train - loss</td><td>█▇▇▆▆▇▇▅▇▄▅▆▆▄▆▆▄▄▅▆▅▂▂▅▅▅▅▄▅▄▂▅▂▅▅▁▃▅▃▆</td></tr><tr><td>Valid - acc</td><td>▁▂▃▄▅▅▆▆▆▇▆▇▇▇▇█████</td></tr><tr><td>Valid - loss</td><td>█▇▅▅▄▄▃▃▃▂▂▂▂▂▂▂▁▂▁▁</td></tr></table><br/></div><div class=\"wandb-col\"><h3>Run summary:</h3><br/><table class=\"wandb\"><tr><td>Train - acc</td><td>0.3164</td></tr><tr><td>Train - loss</td><td>3.25535</td></tr><tr><td>Valid - acc</td><td>0.6497</td></tr><tr><td>Valid - loss</td><td>1.3353</td></tr></table><br/></div></div>"
            ]
          },
          "metadata": {}
        },
        {
          "output_type": "display_data",
          "data": {
            "text/plain": [
              "<IPython.core.display.HTML object>"
            ],
            "text/html": [
              " View run <strong style=\"color:#cdcd00\">charmed-serenity-9</strong> at: <a href='https://wandb.ai/ahashan/INF8225%20-%20Projet%20final/runs/wr94sb9w' target=\"_blank\">https://wandb.ai/ahashan/INF8225%20-%20Projet%20final/runs/wr94sb9w</a><br/>Synced 5 W&B file(s), 0 media file(s), 2 artifact file(s) and 1 other file(s)"
            ]
          },
          "metadata": {}
        },
        {
          "output_type": "display_data",
          "data": {
            "text/plain": [
              "<IPython.core.display.HTML object>"
            ],
            "text/html": [
              "Find logs at: <code>./wandb/run-20230430_213518-wr94sb9w/logs</code>"
            ]
          },
          "metadata": {}
        }
      ]
    },
    {
      "cell_type": "markdown",
      "source": [
        "# **Cut Mix**"
      ],
      "metadata": {
        "id": "voCSmtx7A9dk"
      }
    },
    {
      "cell_type": "code",
      "source": [
        "def cutmix(inputs, labels, alpha):\n",
        "  batch_size = inputs.size(0)\n",
        "  shuffled_batch = torch.randperm(batch_size).to(config['device'])\n",
        "  second_inputs = inputs[shuffled_batch]\n",
        "  second_labels = labels[shuffled_batch]\n",
        "  lam = np.random.beta(alpha, alpha)\n",
        "  \n",
        "  mixup_inputs = torch.clone(inputs)\n",
        "  W = mixup_inputs.size(2)\n",
        "  H = mixup_inputs.size(3)\n",
        "\n",
        "  for i in range(batch_size):\n",
        "    height = int(W*np.sqrt(1-lam)) \n",
        "    width = int(H*np.sqrt(1-lam))\n",
        "    randx = np.random.randint(0,W-width)\n",
        "    randy = np.random.randint(0,H-height)\n",
        "\n",
        "    mixup_inputs[i,:,randy:randy + height,randx:randx + width] = second_inputs[i,:,randy:randy + height,randx:randx + width]\n",
        "\n",
        "  return mixup_inputs, labels, second_labels, lam\n",
        "\n",
        "def mixup_criterion(criterion, output, original_labels, shuffled_labels, lam):\n",
        "    return lam * criterion(output, original_labels) + (1 - lam) * criterion(output, shuffled_labels)"
      ],
      "metadata": {
        "id": "LdM-UTjBBAmo"
      },
      "execution_count": 19,
      "outputs": []
    },
    {
      "cell_type": "markdown",
      "source": [
        "# **Training ResNet-18 + CutMix on CIFAR-10 Dataset**"
      ],
      "metadata": {
        "id": "BUIeX1iER2ZR"
      }
    },
    {
      "cell_type": "code",
      "source": [
        "config['dataset_name'] = 'CIFAR10'\n",
        "config['model_name'] =  'resnet'\n",
        "config['DAmethod'] = 'CutMix'\n",
        "model_ft, input_size = initialize_model('resnet', 'CIFAR10')\n",
        "optimizer = optim.SGD(model_ft.parameters(), lr=config['lr'], momentum=0.9, weight_decay = config['weight_decay'], nesterov = True)\n",
        "scheduler = CosineAnnealingLR(optimizer, T_max = 60, eta_min = 1e-6 )\n",
        "criterion = nn.CrossEntropyLoss()\n",
        "model_ft = model_ft.to(device)\n",
        "\n",
        "with wandb.init(\n",
        "    config=config,\n",
        "    project='INF8225 - Projet final',\n",
        "    save_code=True,\n",
        "    group='resnet18_cifar10_mixup'):\n",
        "  model_ft, hist = train_model(\n",
        "      model_ft,\n",
        "      CIFAR10_trainloader,\n",
        "      CIFAR10_testloader,\n",
        "      criterion,\n",
        "      optimizer,\n",
        "      DAmethod=config['DAmethod'],\n",
        "      datasetname=config['dataset_name'],\n",
        "      num_epochs=config['epochs'],\n",
        "      scheduler=scheduler\n",
        "      )"
      ],
      "metadata": {
        "colab": {
          "base_uri": "https://localhost:8080/",
          "height": 1000
        },
        "id": "xkIysMK4Rpg2",
        "outputId": "cc05ed39-12ce-432d-9f37-f4d28d4084c8"
      },
      "execution_count": 20,
      "outputs": [
        {
          "output_type": "display_data",
          "data": {
            "text/plain": [
              "<IPython.core.display.HTML object>"
            ],
            "text/html": [
              "Tracking run with wandb version 0.15.0"
            ]
          },
          "metadata": {}
        },
        {
          "output_type": "display_data",
          "data": {
            "text/plain": [
              "<IPython.core.display.HTML object>"
            ],
            "text/html": [
              "Run data is saved locally in <code>/content/wandb/run-20230430_224741-oi97snbc</code>"
            ]
          },
          "metadata": {}
        },
        {
          "output_type": "display_data",
          "data": {
            "text/plain": [
              "<IPython.core.display.HTML object>"
            ],
            "text/html": [
              "Syncing run <strong><a href='https://wandb.ai/ahashan/INF8225%20-%20Projet%20final/runs/oi97snbc' target=\"_blank\">solar-tree-11</a></strong> to <a href='https://wandb.ai/ahashan/INF8225%20-%20Projet%20final' target=\"_blank\">Weights & Biases</a> (<a href='https://wandb.me/run' target=\"_blank\">docs</a>)<br/>"
            ]
          },
          "metadata": {}
        },
        {
          "output_type": "display_data",
          "data": {
            "text/plain": [
              "<IPython.core.display.HTML object>"
            ],
            "text/html": [
              " View project at <a href='https://wandb.ai/ahashan/INF8225%20-%20Projet%20final' target=\"_blank\">https://wandb.ai/ahashan/INF8225%20-%20Projet%20final</a>"
            ]
          },
          "metadata": {}
        },
        {
          "output_type": "display_data",
          "data": {
            "text/plain": [
              "<IPython.core.display.HTML object>"
            ],
            "text/html": [
              " View run at <a href='https://wandb.ai/ahashan/INF8225%20-%20Projet%20final/runs/oi97snbc' target=\"_blank\">https://wandb.ai/ahashan/INF8225%20-%20Projet%20final/runs/oi97snbc</a>"
            ]
          },
          "metadata": {}
        },
        {
          "output_type": "stream",
          "name": "stdout",
          "text": [
            "Start training CIFAR10 Model resnet\n",
            "DAmethod -  CutMix\n",
            "Epoch 1/20\n",
            "----------\n"
          ]
        },
        {
          "output_type": "stream",
          "name": "stderr",
          "text": [
            "391it [01:13,  5.31it/s]\n"
          ]
        },
        {
          "output_type": "stream",
          "name": "stdout",
          "text": [
            "train Loss: 2.4670 Acc: 0.1539\n",
            "valid Loss: 1.8455 Acc: 0.3268\n",
            "Saving model...\n",
            "------------------------------\n",
            "\n",
            "Epoch 2/20\n",
            "----------\n"
          ]
        },
        {
          "output_type": "stream",
          "name": "stderr",
          "text": [
            "391it [01:16,  5.09it/s]\n"
          ]
        },
        {
          "output_type": "stream",
          "name": "stdout",
          "text": [
            "train Loss: 1.9929 Acc: 0.2095\n",
            "valid Loss: 1.6190 Acc: 0.3996\n",
            "Saving model...\n",
            "------------------------------\n",
            "\n",
            "Epoch 3/20\n",
            "----------\n"
          ]
        },
        {
          "output_type": "stream",
          "name": "stderr",
          "text": [
            "391it [01:16,  5.13it/s]\n"
          ]
        },
        {
          "output_type": "stream",
          "name": "stdout",
          "text": [
            "train Loss: 1.9076 Acc: 0.2253\n",
            "valid Loss: 1.4876 Acc: 0.4595\n",
            "Saving model...\n",
            "------------------------------\n",
            "\n",
            "Epoch 4/20\n",
            "----------\n"
          ]
        },
        {
          "output_type": "stream",
          "name": "stderr",
          "text": [
            "391it [01:17,  5.07it/s]\n"
          ]
        },
        {
          "output_type": "stream",
          "name": "stdout",
          "text": [
            "train Loss: 1.8328 Acc: 0.2479\n",
            "valid Loss: 1.3127 Acc: 0.5290\n",
            "Saving model...\n",
            "------------------------------\n",
            "\n",
            "Epoch 5/20\n",
            "----------\n"
          ]
        },
        {
          "output_type": "stream",
          "name": "stderr",
          "text": [
            "391it [01:16,  5.09it/s]\n"
          ]
        },
        {
          "output_type": "stream",
          "name": "stdout",
          "text": [
            "train Loss: 1.7636 Acc: 0.2749\n",
            "valid Loss: 1.2818 Acc: 0.5502\n",
            "Saving model...\n",
            "------------------------------\n",
            "\n",
            "Epoch 6/20\n",
            "----------\n"
          ]
        },
        {
          "output_type": "stream",
          "name": "stderr",
          "text": [
            "391it [01:17,  5.03it/s]\n"
          ]
        },
        {
          "output_type": "stream",
          "name": "stdout",
          "text": [
            "train Loss: 1.6824 Acc: 0.2987\n",
            "valid Loss: 1.1685 Acc: 0.5906\n",
            "Saving model...\n",
            "------------------------------\n",
            "\n",
            "Epoch 7/20\n",
            "----------\n"
          ]
        },
        {
          "output_type": "stream",
          "name": "stderr",
          "text": [
            "391it [01:16,  5.11it/s]\n"
          ]
        },
        {
          "output_type": "stream",
          "name": "stdout",
          "text": [
            "train Loss: 1.6023 Acc: 0.2938\n",
            "valid Loss: 1.0682 Acc: 0.6325\n",
            "Saving model...\n",
            "------------------------------\n",
            "\n",
            "Epoch 8/20\n",
            "----------\n"
          ]
        },
        {
          "output_type": "stream",
          "name": "stderr",
          "text": [
            "391it [01:16,  5.08it/s]\n"
          ]
        },
        {
          "output_type": "stream",
          "name": "stdout",
          "text": [
            "train Loss: 1.5805 Acc: 0.3040\n",
            "valid Loss: 1.0240 Acc: 0.6635\n",
            "Saving model...\n",
            "------------------------------\n",
            "\n",
            "Epoch 9/20\n",
            "----------\n"
          ]
        },
        {
          "output_type": "stream",
          "name": "stderr",
          "text": [
            "391it [01:16,  5.09it/s]\n"
          ]
        },
        {
          "output_type": "stream",
          "name": "stdout",
          "text": [
            "train Loss: 1.5405 Acc: 0.3280\n",
            "valid Loss: 1.0922 Acc: 0.6293\n",
            "------------------------------\n",
            "\n",
            "Epoch 10/20\n",
            "----------\n"
          ]
        },
        {
          "output_type": "stream",
          "name": "stderr",
          "text": [
            "391it [01:16,  5.11it/s]\n"
          ]
        },
        {
          "output_type": "stream",
          "name": "stdout",
          "text": [
            "train Loss: 1.4981 Acc: 0.3363\n",
            "valid Loss: 0.8989 Acc: 0.7093\n",
            "Saving model...\n",
            "------------------------------\n",
            "\n",
            "Epoch 11/20\n",
            "----------\n"
          ]
        },
        {
          "output_type": "stream",
          "name": "stderr",
          "text": [
            "391it [01:16,  5.14it/s]\n"
          ]
        },
        {
          "output_type": "stream",
          "name": "stdout",
          "text": [
            "train Loss: 1.4564 Acc: 0.3403\n",
            "valid Loss: 0.8770 Acc: 0.7138\n",
            "Saving model...\n",
            "------------------------------\n",
            "\n",
            "Epoch 12/20\n",
            "----------\n"
          ]
        },
        {
          "output_type": "stream",
          "name": "stderr",
          "text": [
            "391it [01:16,  5.13it/s]\n"
          ]
        },
        {
          "output_type": "stream",
          "name": "stdout",
          "text": [
            "train Loss: 1.4240 Acc: 0.3416\n",
            "valid Loss: 0.8322 Acc: 0.7258\n",
            "Saving model...\n",
            "------------------------------\n",
            "\n",
            "Epoch 13/20\n",
            "----------\n"
          ]
        },
        {
          "output_type": "stream",
          "name": "stderr",
          "text": [
            "391it [01:18,  4.97it/s]\n"
          ]
        },
        {
          "output_type": "stream",
          "name": "stdout",
          "text": [
            "train Loss: 1.3665 Acc: 0.3754\n",
            "valid Loss: 0.7449 Acc: 0.7496\n",
            "Saving model...\n",
            "------------------------------\n",
            "\n",
            "Epoch 14/20\n",
            "----------\n"
          ]
        },
        {
          "output_type": "stream",
          "name": "stderr",
          "text": [
            "391it [01:16,  5.13it/s]\n"
          ]
        },
        {
          "output_type": "stream",
          "name": "stdout",
          "text": [
            "train Loss: 1.3392 Acc: 0.3478\n",
            "valid Loss: 0.7140 Acc: 0.7702\n",
            "Saving model...\n",
            "------------------------------\n",
            "\n",
            "Epoch 15/20\n",
            "----------\n"
          ]
        },
        {
          "output_type": "stream",
          "name": "stderr",
          "text": [
            "391it [01:17,  5.08it/s]\n"
          ]
        },
        {
          "output_type": "stream",
          "name": "stdout",
          "text": [
            "train Loss: 1.3087 Acc: 0.3798\n",
            "valid Loss: 0.7464 Acc: 0.7693\n",
            "------------------------------\n",
            "\n",
            "Epoch 16/20\n",
            "----------\n"
          ]
        },
        {
          "output_type": "stream",
          "name": "stderr",
          "text": [
            "391it [01:15,  5.19it/s]\n"
          ]
        },
        {
          "output_type": "stream",
          "name": "stdout",
          "text": [
            "train Loss: 1.2917 Acc: 0.3653\n",
            "valid Loss: 0.6609 Acc: 0.7956\n",
            "Saving model...\n",
            "------------------------------\n",
            "\n",
            "Epoch 17/20\n",
            "----------\n"
          ]
        },
        {
          "output_type": "stream",
          "name": "stderr",
          "text": [
            "391it [01:17,  5.05it/s]\n"
          ]
        },
        {
          "output_type": "stream",
          "name": "stdout",
          "text": [
            "train Loss: 1.2718 Acc: 0.4065\n",
            "valid Loss: 0.6733 Acc: 0.7856\n",
            "------------------------------\n",
            "\n",
            "Epoch 18/20\n",
            "----------\n"
          ]
        },
        {
          "output_type": "stream",
          "name": "stderr",
          "text": [
            "391it [01:15,  5.18it/s]\n"
          ]
        },
        {
          "output_type": "stream",
          "name": "stdout",
          "text": [
            "train Loss: 1.2719 Acc: 0.4048\n",
            "valid Loss: 0.5778 Acc: 0.8321\n",
            "Saving model...\n",
            "------------------------------\n",
            "\n",
            "Epoch 19/20\n",
            "----------\n"
          ]
        },
        {
          "output_type": "stream",
          "name": "stderr",
          "text": [
            "391it [01:16,  5.08it/s]\n"
          ]
        },
        {
          "output_type": "stream",
          "name": "stdout",
          "text": [
            "train Loss: 1.2402 Acc: 0.3795\n",
            "valid Loss: 0.6256 Acc: 0.8206\n",
            "------------------------------\n",
            "\n",
            "Epoch 20/20\n",
            "----------\n"
          ]
        },
        {
          "output_type": "stream",
          "name": "stderr",
          "text": [
            "391it [01:15,  5.21it/s]\n"
          ]
        },
        {
          "output_type": "stream",
          "name": "stdout",
          "text": [
            "train Loss: 1.2529 Acc: 0.3833\n",
            "valid Loss: 0.6087 Acc: 0.8336\n",
            "Saving model...\n",
            "------------------------------\n",
            "\n",
            "Best model saved.\n",
            "Training complete in 28m 44s\n",
            "Best val Acc: 0.833600\n"
          ]
        },
        {
          "output_type": "display_data",
          "data": {
            "text/plain": [
              "<IPython.core.display.HTML object>"
            ],
            "text/html": [
              "Waiting for W&B process to finish... <strong style=\"color:green\">(success).</strong>"
            ]
          },
          "metadata": {}
        },
        {
          "output_type": "display_data",
          "data": {
            "text/plain": [
              "<IPython.core.display.HTML object>"
            ],
            "text/html": [
              "<style>\n",
              "    table.wandb td:nth-child(1) { padding: 0 10px; text-align: left ; width: auto;} td:nth-child(2) {text-align: left ; width: 100%}\n",
              "    .wandb-row { display: flex; flex-direction: row; flex-wrap: wrap; justify-content: flex-start; width: 100% }\n",
              "    .wandb-col { display: flex; flex-direction: column; flex-basis: 100%; flex: 1; padding: 10px; }\n",
              "    </style>\n",
              "<div class=\"wandb-row\"><div class=\"wandb-col\"><h3>Run history:</h3><br/><table class=\"wandb\"><tr><td>Train - acc</td><td>▁▃▃▄▄▅▅▅▆▆▆▆▇▆▇▇██▇▇</td></tr><tr><td>Train - loss</td><td>███▅▅▅▇▅▅▆▆▅▂▅▃▂▃▃▄▄▄▂▄▁▄▄▁▄▅▅▃▃▃▄▄▄▄▄▄▃</td></tr><tr><td>Valid - acc</td><td>▁▂▃▄▄▅▅▆▅▆▆▇▇▇▇▇▇███</td></tr><tr><td>Valid - loss</td><td>█▇▆▅▅▄▄▃▄▃▃▂▂▂▂▁▂▁▁▁</td></tr></table><br/></div><div class=\"wandb-col\"><h3>Run summary:</h3><br/><table class=\"wandb\"><tr><td>Train - acc</td><td>0.38326</td></tr><tr><td>Train - loss</td><td>1.24722</td></tr><tr><td>Valid - acc</td><td>0.8336</td></tr><tr><td>Valid - loss</td><td>0.6087</td></tr></table><br/></div></div>"
            ]
          },
          "metadata": {}
        },
        {
          "output_type": "display_data",
          "data": {
            "text/plain": [
              "<IPython.core.display.HTML object>"
            ],
            "text/html": [
              " View run <strong style=\"color:#cdcd00\">solar-tree-11</strong> at: <a href='https://wandb.ai/ahashan/INF8225%20-%20Projet%20final/runs/oi97snbc' target=\"_blank\">https://wandb.ai/ahashan/INF8225%20-%20Projet%20final/runs/oi97snbc</a><br/>Synced 5 W&B file(s), 0 media file(s), 2 artifact file(s) and 1 other file(s)"
            ]
          },
          "metadata": {}
        },
        {
          "output_type": "display_data",
          "data": {
            "text/plain": [
              "<IPython.core.display.HTML object>"
            ],
            "text/html": [
              "Find logs at: <code>./wandb/run-20230430_224741-oi97snbc/logs</code>"
            ]
          },
          "metadata": {}
        }
      ]
    },
    {
      "cell_type": "markdown",
      "source": [
        "# **Training ResNet-18 + CutMix on CIFAR-100 Dataset**"
      ],
      "metadata": {
        "id": "0OWki5RQR69s"
      }
    },
    {
      "cell_type": "code",
      "source": [
        "config['dataset_name'] = 'CIFAR100'\n",
        "config['model_name'] =  'resnet'\n",
        "config['DAmethod'] = 'CutMix'\n",
        "model_ft, input_size = initialize_model('resnet', 'CIFAR100')\n",
        "optimizer = optim.SGD(model_ft.parameters(), lr=config['lr'], momentum=0.9, weight_decay = config['weight_decay'], nesterov = True)\n",
        "scheduler = CosineAnnealingLR(optimizer, T_max = 60, eta_min = 1e-6 )\n",
        "criterion = nn.CrossEntropyLoss()\n",
        "model_ft = model_ft.to(device)\n",
        "\n",
        "with wandb.init(config=config, project='INF8225 - Projet final', save_code=True, group='resnet18_cifar10_mixup'):\n",
        "  model_ft, hist = train_model(\n",
        "      model_ft,\n",
        "      CIFAR100_trainloader,\n",
        "      CIFAR100_testloader,\n",
        "      criterion,\n",
        "      optimizer,\n",
        "      DAmethod=config['DAmethod'],\n",
        "      datasetname=config['dataset_name'],\n",
        "      num_epochs=config['epochs'],\n",
        "      scheduler=scheduler\n",
        "      )"
      ],
      "metadata": {
        "colab": {
          "base_uri": "https://localhost:8080/",
          "height": 1000
        },
        "id": "M_OrRGnzRohV",
        "outputId": "7ea9f698-63f1-495c-c6ae-17c5ae815c78"
      },
      "execution_count": 21,
      "outputs": [
        {
          "output_type": "display_data",
          "data": {
            "text/plain": [
              "<IPython.core.display.HTML object>"
            ],
            "text/html": [
              "Tracking run with wandb version 0.15.0"
            ]
          },
          "metadata": {}
        },
        {
          "output_type": "display_data",
          "data": {
            "text/plain": [
              "<IPython.core.display.HTML object>"
            ],
            "text/html": [
              "Run data is saved locally in <code>/content/wandb/run-20230430_231640-owr3yc7r</code>"
            ]
          },
          "metadata": {}
        },
        {
          "output_type": "display_data",
          "data": {
            "text/plain": [
              "<IPython.core.display.HTML object>"
            ],
            "text/html": [
              "Syncing run <strong><a href='https://wandb.ai/ahashan/INF8225%20-%20Projet%20final/runs/owr3yc7r' target=\"_blank\">brisk-dew-12</a></strong> to <a href='https://wandb.ai/ahashan/INF8225%20-%20Projet%20final' target=\"_blank\">Weights & Biases</a> (<a href='https://wandb.me/run' target=\"_blank\">docs</a>)<br/>"
            ]
          },
          "metadata": {}
        },
        {
          "output_type": "display_data",
          "data": {
            "text/plain": [
              "<IPython.core.display.HTML object>"
            ],
            "text/html": [
              " View project at <a href='https://wandb.ai/ahashan/INF8225%20-%20Projet%20final' target=\"_blank\">https://wandb.ai/ahashan/INF8225%20-%20Projet%20final</a>"
            ]
          },
          "metadata": {}
        },
        {
          "output_type": "display_data",
          "data": {
            "text/plain": [
              "<IPython.core.display.HTML object>"
            ],
            "text/html": [
              " View run at <a href='https://wandb.ai/ahashan/INF8225%20-%20Projet%20final/runs/owr3yc7r' target=\"_blank\">https://wandb.ai/ahashan/INF8225%20-%20Projet%20final/runs/owr3yc7r</a>"
            ]
          },
          "metadata": {}
        },
        {
          "output_type": "stream",
          "name": "stdout",
          "text": [
            "Start training CIFAR100 Model resnet\n",
            "DAmethod -  CutMix\n",
            "Epoch 1/20\n",
            "----------\n"
          ]
        },
        {
          "output_type": "stream",
          "name": "stderr",
          "text": [
            "391it [01:14,  5.23it/s]\n"
          ]
        },
        {
          "output_type": "stream",
          "name": "stdout",
          "text": [
            "train Loss: 4.2861 Acc: 0.0390\n",
            "valid Loss: 3.8270 Acc: 0.1043\n",
            "Saving model...\n",
            "------------------------------\n",
            "\n",
            "Epoch 2/20\n",
            "----------\n"
          ]
        },
        {
          "output_type": "stream",
          "name": "stderr",
          "text": [
            "391it [01:16,  5.10it/s]\n"
          ]
        },
        {
          "output_type": "stream",
          "name": "stdout",
          "text": [
            "train Loss: 3.9913 Acc: 0.0631\n",
            "valid Loss: 3.3604 Acc: 0.1850\n",
            "Saving model...\n",
            "------------------------------\n",
            "\n",
            "Epoch 3/20\n",
            "----------\n"
          ]
        },
        {
          "output_type": "stream",
          "name": "stderr",
          "text": [
            "391it [01:16,  5.13it/s]\n"
          ]
        },
        {
          "output_type": "stream",
          "name": "stdout",
          "text": [
            "train Loss: 3.7724 Acc: 0.0823\n",
            "valid Loss: 3.1173 Acc: 0.2329\n",
            "Saving model...\n",
            "------------------------------\n",
            "\n",
            "Epoch 4/20\n",
            "----------\n"
          ]
        },
        {
          "output_type": "stream",
          "name": "stderr",
          "text": [
            "391it [01:16,  5.10it/s]\n"
          ]
        },
        {
          "output_type": "stream",
          "name": "stdout",
          "text": [
            "train Loss: 3.5892 Acc: 0.1112\n",
            "valid Loss: 2.7771 Acc: 0.3019\n",
            "Saving model...\n",
            "------------------------------\n",
            "\n",
            "Epoch 5/20\n",
            "----------\n"
          ]
        },
        {
          "output_type": "stream",
          "name": "stderr",
          "text": [
            "391it [01:16,  5.14it/s]\n"
          ]
        },
        {
          "output_type": "stream",
          "name": "stdout",
          "text": [
            "train Loss: 3.3702 Acc: 0.1124\n",
            "valid Loss: 2.6304 Acc: 0.3323\n",
            "Saving model...\n",
            "------------------------------\n",
            "\n",
            "Epoch 6/20\n",
            "----------\n"
          ]
        },
        {
          "output_type": "stream",
          "name": "stderr",
          "text": [
            "391it [01:16,  5.09it/s]\n"
          ]
        },
        {
          "output_type": "stream",
          "name": "stdout",
          "text": [
            "train Loss: 3.2183 Acc: 0.1413\n",
            "valid Loss: 2.2195 Acc: 0.4132\n",
            "Saving model...\n",
            "------------------------------\n",
            "\n",
            "Epoch 7/20\n",
            "----------\n"
          ]
        },
        {
          "output_type": "stream",
          "name": "stderr",
          "text": [
            "391it [01:16,  5.10it/s]\n"
          ]
        },
        {
          "output_type": "stream",
          "name": "stdout",
          "text": [
            "train Loss: 3.1545 Acc: 0.1618\n",
            "valid Loss: 2.1338 Acc: 0.4322\n",
            "Saving model...\n",
            "------------------------------\n",
            "\n",
            "Epoch 8/20\n",
            "----------\n"
          ]
        },
        {
          "output_type": "stream",
          "name": "stderr",
          "text": [
            "391it [01:16,  5.09it/s]\n"
          ]
        },
        {
          "output_type": "stream",
          "name": "stdout",
          "text": [
            "train Loss: 2.9857 Acc: 0.1703\n",
            "valid Loss: 2.1872 Acc: 0.4247\n",
            "------------------------------\n",
            "\n",
            "Epoch 9/20\n",
            "----------\n"
          ]
        },
        {
          "output_type": "stream",
          "name": "stderr",
          "text": [
            "391it [01:15,  5.18it/s]\n"
          ]
        },
        {
          "output_type": "stream",
          "name": "stdout",
          "text": [
            "train Loss: 2.9192 Acc: 0.1741\n",
            "valid Loss: 1.9479 Acc: 0.4884\n",
            "Saving model...\n",
            "------------------------------\n",
            "\n",
            "Epoch 10/20\n",
            "----------\n"
          ]
        },
        {
          "output_type": "stream",
          "name": "stderr",
          "text": [
            "391it [01:17,  5.06it/s]\n"
          ]
        },
        {
          "output_type": "stream",
          "name": "stdout",
          "text": [
            "train Loss: 2.8343 Acc: 0.1855\n",
            "valid Loss: 1.9697 Acc: 0.4854\n",
            "------------------------------\n",
            "\n",
            "Epoch 11/20\n",
            "----------\n"
          ]
        },
        {
          "output_type": "stream",
          "name": "stderr",
          "text": [
            "391it [01:16,  5.13it/s]\n"
          ]
        },
        {
          "output_type": "stream",
          "name": "stdout",
          "text": [
            "train Loss: 2.7507 Acc: 0.2088\n",
            "valid Loss: 1.7000 Acc: 0.5452\n",
            "Saving model...\n",
            "------------------------------\n",
            "\n",
            "Epoch 12/20\n",
            "----------\n"
          ]
        },
        {
          "output_type": "stream",
          "name": "stderr",
          "text": [
            "391it [01:16,  5.12it/s]\n"
          ]
        },
        {
          "output_type": "stream",
          "name": "stdout",
          "text": [
            "train Loss: 2.6821 Acc: 0.2118\n",
            "valid Loss: 1.7263 Acc: 0.5423\n",
            "------------------------------\n",
            "\n",
            "Epoch 13/20\n",
            "----------\n"
          ]
        },
        {
          "output_type": "stream",
          "name": "stderr",
          "text": [
            "391it [01:16,  5.09it/s]\n"
          ]
        },
        {
          "output_type": "stream",
          "name": "stdout",
          "text": [
            "train Loss: 2.6834 Acc: 0.2303\n",
            "valid Loss: 1.7326 Acc: 0.5430\n",
            "------------------------------\n",
            "\n",
            "Epoch 14/20\n",
            "----------\n"
          ]
        },
        {
          "output_type": "stream",
          "name": "stderr",
          "text": [
            "391it [01:15,  5.17it/s]\n"
          ]
        },
        {
          "output_type": "stream",
          "name": "stdout",
          "text": [
            "train Loss: 2.6048 Acc: 0.2168\n",
            "valid Loss: 1.6388 Acc: 0.5751\n",
            "Saving model...\n",
            "------------------------------\n",
            "\n",
            "Epoch 15/20\n",
            "----------\n"
          ]
        },
        {
          "output_type": "stream",
          "name": "stderr",
          "text": [
            "391it [01:19,  4.93it/s]\n"
          ]
        },
        {
          "output_type": "stream",
          "name": "stdout",
          "text": [
            "train Loss: 2.5483 Acc: 0.2273\n",
            "valid Loss: 1.5752 Acc: 0.5884\n",
            "Saving model...\n",
            "------------------------------\n",
            "\n",
            "Epoch 16/20\n",
            "----------\n"
          ]
        },
        {
          "output_type": "stream",
          "name": "stderr",
          "text": [
            "391it [01:15,  5.15it/s]\n"
          ]
        },
        {
          "output_type": "stream",
          "name": "stdout",
          "text": [
            "train Loss: 2.5387 Acc: 0.2428\n",
            "valid Loss: 1.5737 Acc: 0.5896\n",
            "Saving model...\n",
            "------------------------------\n",
            "\n",
            "Epoch 17/20\n",
            "----------\n"
          ]
        },
        {
          "output_type": "stream",
          "name": "stderr",
          "text": [
            "391it [01:16,  5.11it/s]\n"
          ]
        },
        {
          "output_type": "stream",
          "name": "stdout",
          "text": [
            "train Loss: 2.5283 Acc: 0.2688\n",
            "valid Loss: 1.5006 Acc: 0.6008\n",
            "Saving model...\n",
            "------------------------------\n",
            "\n",
            "Epoch 18/20\n",
            "----------\n"
          ]
        },
        {
          "output_type": "stream",
          "name": "stderr",
          "text": [
            "391it [01:15,  5.16it/s]\n"
          ]
        },
        {
          "output_type": "stream",
          "name": "stdout",
          "text": [
            "train Loss: 2.4372 Acc: 0.2564\n",
            "valid Loss: 1.4184 Acc: 0.6161\n",
            "Saving model...\n",
            "------------------------------\n",
            "\n",
            "Epoch 19/20\n",
            "----------\n"
          ]
        },
        {
          "output_type": "stream",
          "name": "stderr",
          "text": [
            "391it [01:15,  5.19it/s]\n"
          ]
        },
        {
          "output_type": "stream",
          "name": "stdout",
          "text": [
            "train Loss: 2.4220 Acc: 0.2569\n",
            "valid Loss: 1.3502 Acc: 0.6321\n",
            "Saving model...\n",
            "------------------------------\n",
            "\n",
            "Epoch 20/20\n",
            "----------\n"
          ]
        },
        {
          "output_type": "stream",
          "name": "stderr",
          "text": [
            "391it [01:16,  5.11it/s]\n"
          ]
        },
        {
          "output_type": "stream",
          "name": "stdout",
          "text": [
            "train Loss: 2.3681 Acc: 0.2528\n",
            "valid Loss: 1.4002 Acc: 0.6223\n",
            "------------------------------\n",
            "\n",
            "Best model saved.\n",
            "Training complete in 28m 40s\n",
            "Best val Acc: 0.632100\n"
          ]
        },
        {
          "output_type": "display_data",
          "data": {
            "text/plain": [
              "<IPython.core.display.HTML object>"
            ],
            "text/html": [
              "Waiting for W&B process to finish... <strong style=\"color:green\">(success).</strong>"
            ]
          },
          "metadata": {}
        },
        {
          "output_type": "display_data",
          "data": {
            "text/plain": [
              "<IPython.core.display.HTML object>"
            ],
            "text/html": [
              "<style>\n",
              "    table.wandb td:nth-child(1) { padding: 0 10px; text-align: left ; width: auto;} td:nth-child(2) {text-align: left ; width: 100%}\n",
              "    .wandb-row { display: flex; flex-direction: row; flex-wrap: wrap; justify-content: flex-start; width: 100% }\n",
              "    .wandb-col { display: flex; flex-direction: column; flex-basis: 100%; flex: 1; padding: 10px; }\n",
              "    </style>\n",
              "<div class=\"wandb-row\"><div class=\"wandb-col\"><h3>Run history:</h3><br/><table class=\"wandb\"><tr><td>Train - acc</td><td>▁▂▂▃▃▄▅▅▅▅▆▆▇▆▇▇████</td></tr><tr><td>Train - loss</td><td>█▇▆▇▆▇▆▆▆▆▄▆▅▅▃▄▅▆▃▃▅▄▅▅▄▁▄▁▄▂▅▄▅▄▃▅▄▅▄▄</td></tr><tr><td>Valid - acc</td><td>▁▂▃▄▄▅▅▅▆▆▇▇▇▇▇▇████</td></tr><tr><td>Valid - loss</td><td>█▇▆▅▅▃▃▃▃▃▂▂▂▂▂▂▁▁▁▁</td></tr></table><br/></div><div class=\"wandb-col\"><h3>Run summary:</h3><br/><table class=\"wandb\"><tr><td>Train - acc</td><td>0.25278</td></tr><tr><td>Train - loss</td><td>2.62133</td></tr><tr><td>Valid - acc</td><td>0.6223</td></tr><tr><td>Valid - loss</td><td>1.40019</td></tr></table><br/></div></div>"
            ]
          },
          "metadata": {}
        },
        {
          "output_type": "display_data",
          "data": {
            "text/plain": [
              "<IPython.core.display.HTML object>"
            ],
            "text/html": [
              " View run <strong style=\"color:#cdcd00\">brisk-dew-12</strong> at: <a href='https://wandb.ai/ahashan/INF8225%20-%20Projet%20final/runs/owr3yc7r' target=\"_blank\">https://wandb.ai/ahashan/INF8225%20-%20Projet%20final/runs/owr3yc7r</a><br/>Synced 5 W&B file(s), 0 media file(s), 2 artifact file(s) and 1 other file(s)"
            ]
          },
          "metadata": {}
        },
        {
          "output_type": "display_data",
          "data": {
            "text/plain": [
              "<IPython.core.display.HTML object>"
            ],
            "text/html": [
              "Find logs at: <code>./wandb/run-20230430_231640-owr3yc7r/logs</code>"
            ]
          },
          "metadata": {}
        }
      ]
    },
    {
      "cell_type": "markdown",
      "source": [
        "# **AugMix**"
      ],
      "metadata": {
        "id": "dl99AhByBNoM"
      }
    },
    {
      "cell_type": "code",
      "source": [
        "def int_parameter(level,maxval):\n",
        "  return int(level*maxval/10)\n",
        "\n",
        "def float_parameter(level,maxval):\n",
        "  return float(level)*maxval/10.\n",
        "\n",
        "def sample_level(n):\n",
        "  return np.random.uniform(low=0.1,high=n)\n",
        "\n",
        "def autocontrast(pil_img, _ , IMAGE_SIZE):\n",
        "  return ImageOps.autocontrast(pil_img)\n",
        "\n",
        "def equalize(pil_img, _, IMAGE_SIZE):\n",
        "  return ImageOps.equalize(pil_img)\n",
        "\n",
        "def posterize(pil_img, level, IMAGE_SIZE):\n",
        "  level = int_parameter(sample_level(level), 4)\n",
        "  return ImageOps.posterize(pil_img, 4 - level)\n",
        "\n",
        "def rotate(pil_img, level, IMAGE_SIZE):\n",
        "  degrees = int_parameter(sample_level(level), 30)\n",
        "  if np.random.uniform() > 0.5:\n",
        "    degrees = -degrees\n",
        "  return pil_img.rotate(degrees, resample=Image.BILINEAR)\n",
        "\n",
        "def solarize(pil_img, level, IMAGE_SIZE):\n",
        "  level = int_parameter(sample_level(level), 256)\n",
        "  return ImageOps.solarize(pil_img, 256 - level)\n",
        "\n",
        "def shear_x(pil_img, level, IMAGE_SIZE):\n",
        "  level = float_parameter(sample_level(level), 0.3)\n",
        "  if np.random.uniform() > 0.5:\n",
        "    level = -level\n",
        "  return pil_img.transform((IMAGE_SIZE, IMAGE_SIZE),Image.AFFINE, (1, level, 0, 0, 1, 0),resample=Image.BILINEAR)\n",
        "\n",
        "def shear_y(pil_img, level, IMAGE_SIZE):\n",
        "  level = float_parameter(sample_level(level), 0.3)\n",
        "  if np.random.uniform() > 0.5:\n",
        "    level = -level\n",
        "  return pil_img.transform((IMAGE_SIZE, IMAGE_SIZE),Image.AFFINE, (1, 0, 0, level, 1, 0),resample=Image.BILINEAR)\n",
        "\n",
        "def translate_x(pil_img, level, IMAGE_SIZE):\n",
        "  level = int_parameter(sample_level(level), IMAGE_SIZE / 3)\n",
        "  if np.random.random() > 0.5:\n",
        "    level = -level\n",
        "  return pil_img.transform((IMAGE_SIZE, IMAGE_SIZE), Image.AFFINE, (1, 0, level, 0, 1, 0), resample=Image.BILINEAR)\n",
        "\n",
        "def translate_y(pil_img, level, IMAGE_SIZE):\n",
        "  level = int_parameter(sample_level(level), IMAGE_SIZE / 3)\n",
        "  if np.random.random() > 0.5:\n",
        "    level = -level\n",
        "  return pil_img.transform((IMAGE_SIZE, IMAGE_SIZE), Image.AFFINE, (1, 0, 0, 0, 1, level), resample=Image.BILINEAR)\n",
        "\n",
        "def color(pil_img, level, IMAGE_SIZE):\n",
        "    level = float_parameter(sample_level(level), 1.8) + 0.1\n",
        "    return ImageEnhance.Color(pil_img).enhance(level)\n",
        "\n",
        "def contrast(pil_img, level, IMAGE_SIZE):\n",
        "    level = float_parameter(sample_level(level), 1.8) + 0.1\n",
        "    return ImageEnhance.Contrast(pil_img).enhance(level)\n",
        "\n",
        "def brightness(pil_img, level, IMAGE_SIZE):\n",
        "    level = float_parameter(sample_level(level), 1.8) + 0.1\n",
        "    return ImageEnhance.Brightness(pil_img).enhance(level)\n",
        "\n",
        "def sharpness(pil_img, level, IMAGE_SIZE):\n",
        "    level = float_parameter(sample_level(level), 1.8) + 0.1\n",
        "    return ImageEnhance.Sharpness(pil_img).enhance(level)\n",
        "\n",
        "augmentations = [\n",
        "    autocontrast, equalize, posterize, rotate, solarize, shear_x, shear_y,\n",
        "    translate_x, translate_y\n",
        "]\n",
        "\n",
        "augmentations_all = [\n",
        "    autocontrast, equalize, posterize, rotate, solarize, shear_x, shear_y,\n",
        "    translate_x, translate_y, color, contrast, brightness, sharpness\n",
        "]\n",
        "\n",
        "def augmix(image, preprocess, dataset_name, mixture_width:int=3, aug_severity = 3, all_ops = True):\n",
        "  \n",
        "  if dataset_name == \"mnist\":\n",
        "    size = 28\n",
        "  else:\n",
        "    size = 32\n",
        "\n",
        "  aug_list = augmentations\n",
        "  if all_ops:\n",
        "    aug_list = augmentations_all\n",
        "  \n",
        "  ws = np.float32(np.random.dirichlet([1] * mixture_width))\n",
        "  m = np.float32(np.random.beta(1,1))\n",
        "\n",
        "  mix = torch.zeros_like(preprocess(image))\n",
        "\n",
        "  for i in range(mixture_width):\n",
        "    image_aug = image.copy()\n",
        "    depth = np.random.randint(1, 4)\n",
        "    for _ in range(depth):\n",
        "      op = np.random.choice(aug_list)\n",
        "      image_aug = op(image_aug, aug_severity, size)\n",
        "    mix += ws[i] * preprocess(image_aug)\n",
        "  \n",
        "  \n",
        "  mixed = (1-m) * preprocess(image) + m * mix\n",
        "\n",
        "  return mixed\n",
        "\n",
        "class AugMixDataset(torch.utils.data.Dataset):\n",
        "  def __init__(self,dataset,preprocess,dataset_name,all_ops=True,jsd_loss=False):\n",
        "    self.dataset = dataset\n",
        "    self.preprocess = preprocess\n",
        "    self.jsd_loss = jsd_loss\n",
        "    self.dataset_name = dataset_name\n",
        "    self.all_ops = all_ops\n",
        "  \n",
        "  def __getitem__(self, i):\n",
        "    x, y = self.dataset[i]\n",
        "    if self.jsd_loss:\n",
        "      im_tuple = (\n",
        "          self.preprocess(x), \n",
        "          augmix(x, self.preprocess, self.dataset_name, self.all_ops),\n",
        "          augmix(x, self.preprocess, self.dataset_name, self.all_ops),\n",
        "          )\n",
        "      return im_tuple,y\n",
        "    else:\n",
        "      return augmix(x, self.preprocess, self.dataset_name, self.all_ops), y\n",
        "  \n",
        "  def __len__(self):\n",
        "    return len(self.dataset)\n"
      ],
      "metadata": {
        "id": "SdpeuzRdBDUS"
      },
      "execution_count": 22,
      "outputs": []
    },
    {
      "cell_type": "markdown",
      "source": [
        "# **Training ResNet-18 + AugMix on CIFAR-10 Dataset**"
      ],
      "metadata": {
        "id": "q6U6_GPRk0ir"
      }
    },
    {
      "cell_type": "code",
      "source": [
        "config['dataset_name'] = 'CIFAR10'\n",
        "config['model_name'] =  'resnet'\n",
        "config['DAmethod'] = 'AugMix'\n",
        "model_ft, input_size = initialize_model('resnet', 'CIFAR10')\n",
        "optimizer = optim.SGD(model_ft.parameters(), lr=config['lr'], momentum=0.9, weight_decay = config['weight_decay'], nesterov = True)\n",
        "scheduler = CosineAnnealingLR(optimizer, T_max = 60, eta_min = 1e-6 )\n",
        "criterion = nn.CrossEntropyLoss()\n",
        "model_ft = model_ft.to(device)\n",
        "\n",
        "with wandb.init(config=config, project='INF8225 - Projet final', save_code=True, group='resnet18_cifar10_mixup'):\n",
        "  model_ft, hist = train_model(\n",
        "      model_ft,\n",
        "      CIFAR10_trainloader,\n",
        "      CIFAR10_testloader,\n",
        "      criterion,\n",
        "      optimizer,\n",
        "      DAmethod=config['DAmethod'],\n",
        "      datasetname=config['dataset_name'],\n",
        "      num_epochs=config['epochs'],\n",
        "      scheduler=scheduler\n",
        "      )\n"
      ],
      "metadata": {
        "colab": {
          "base_uri": "https://localhost:8080/",
          "height": 1000
        },
        "id": "ATS3pLyEkZRU",
        "outputId": "997babf3-5cd0-41f4-ade3-7b78bddca11b"
      },
      "execution_count": 23,
      "outputs": [
        {
          "output_type": "display_data",
          "data": {
            "text/plain": [
              "<IPython.core.display.HTML object>"
            ],
            "text/html": [
              "Tracking run with wandb version 0.15.0"
            ]
          },
          "metadata": {}
        },
        {
          "output_type": "display_data",
          "data": {
            "text/plain": [
              "<IPython.core.display.HTML object>"
            ],
            "text/html": [
              "Run data is saved locally in <code>/content/wandb/run-20230430_234917-ouafdxqr</code>"
            ]
          },
          "metadata": {}
        },
        {
          "output_type": "display_data",
          "data": {
            "text/plain": [
              "<IPython.core.display.HTML object>"
            ],
            "text/html": [
              "Syncing run <strong><a href='https://wandb.ai/ahashan/INF8225%20-%20Projet%20final/runs/ouafdxqr' target=\"_blank\">dauntless-voice-13</a></strong> to <a href='https://wandb.ai/ahashan/INF8225%20-%20Projet%20final' target=\"_blank\">Weights & Biases</a> (<a href='https://wandb.me/run' target=\"_blank\">docs</a>)<br/>"
            ]
          },
          "metadata": {}
        },
        {
          "output_type": "display_data",
          "data": {
            "text/plain": [
              "<IPython.core.display.HTML object>"
            ],
            "text/html": [
              " View project at <a href='https://wandb.ai/ahashan/INF8225%20-%20Projet%20final' target=\"_blank\">https://wandb.ai/ahashan/INF8225%20-%20Projet%20final</a>"
            ]
          },
          "metadata": {}
        },
        {
          "output_type": "display_data",
          "data": {
            "text/plain": [
              "<IPython.core.display.HTML object>"
            ],
            "text/html": [
              " View run at <a href='https://wandb.ai/ahashan/INF8225%20-%20Projet%20final/runs/ouafdxqr' target=\"_blank\">https://wandb.ai/ahashan/INF8225%20-%20Projet%20final/runs/ouafdxqr</a>"
            ]
          },
          "metadata": {}
        },
        {
          "output_type": "stream",
          "name": "stdout",
          "text": [
            "Start training CIFAR10 Model resnet\n",
            "DAmethod -  AugMix\n",
            "Epoch 1/20\n",
            "----------\n"
          ]
        },
        {
          "output_type": "stream",
          "name": "stderr",
          "text": [
            "391it [01:19,  4.89it/s]\n"
          ]
        },
        {
          "output_type": "stream",
          "name": "stdout",
          "text": [
            "train Loss: 2.1517 Acc: 0.2696\n",
            "valid Loss: 1.6437 Acc: 0.3967\n",
            "Saving model...\n",
            "------------------------------\n",
            "\n",
            "Epoch 2/20\n",
            "----------\n"
          ]
        },
        {
          "output_type": "stream",
          "name": "stderr",
          "text": [
            "391it [01:19,  4.89it/s]\n"
          ]
        },
        {
          "output_type": "stream",
          "name": "stdout",
          "text": [
            "train Loss: 1.5063 Acc: 0.4434\n",
            "valid Loss: 1.4474 Acc: 0.4824\n",
            "Saving model...\n",
            "------------------------------\n",
            "\n",
            "Epoch 3/20\n",
            "----------\n"
          ]
        },
        {
          "output_type": "stream",
          "name": "stderr",
          "text": [
            "391it [01:16,  5.08it/s]\n"
          ]
        },
        {
          "output_type": "stream",
          "name": "stdout",
          "text": [
            "train Loss: 1.2464 Acc: 0.5486\n",
            "valid Loss: 1.1388 Acc: 0.5914\n",
            "Saving model...\n",
            "------------------------------\n",
            "\n",
            "Epoch 4/20\n",
            "----------\n"
          ]
        },
        {
          "output_type": "stream",
          "name": "stderr",
          "text": [
            "391it [01:17,  5.03it/s]\n"
          ]
        },
        {
          "output_type": "stream",
          "name": "stdout",
          "text": [
            "train Loss: 1.0562 Acc: 0.6217\n",
            "valid Loss: 1.0698 Acc: 0.6303\n",
            "Saving model...\n",
            "------------------------------\n",
            "\n",
            "Epoch 5/20\n",
            "----------\n"
          ]
        },
        {
          "output_type": "stream",
          "name": "stderr",
          "text": [
            "391it [01:13,  5.33it/s]\n"
          ]
        },
        {
          "output_type": "stream",
          "name": "stdout",
          "text": [
            "train Loss: 0.9176 Acc: 0.6744\n",
            "valid Loss: 0.9213 Acc: 0.6755\n",
            "Saving model...\n",
            "------------------------------\n",
            "\n",
            "Epoch 6/20\n",
            "----------\n"
          ]
        },
        {
          "output_type": "stream",
          "name": "stderr",
          "text": [
            "391it [01:14,  5.27it/s]\n"
          ]
        },
        {
          "output_type": "stream",
          "name": "stdout",
          "text": [
            "train Loss: 0.8196 Acc: 0.7122\n",
            "valid Loss: 0.8418 Acc: 0.7078\n",
            "Saving model...\n",
            "------------------------------\n",
            "\n",
            "Epoch 7/20\n",
            "----------\n"
          ]
        },
        {
          "output_type": "stream",
          "name": "stderr",
          "text": [
            "391it [01:13,  5.35it/s]\n"
          ]
        },
        {
          "output_type": "stream",
          "name": "stdout",
          "text": [
            "train Loss: 0.7381 Acc: 0.7401\n",
            "valid Loss: 0.7518 Acc: 0.7386\n",
            "Saving model...\n",
            "------------------------------\n",
            "\n",
            "Epoch 8/20\n",
            "----------\n"
          ]
        },
        {
          "output_type": "stream",
          "name": "stderr",
          "text": [
            "391it [01:14,  5.26it/s]\n"
          ]
        },
        {
          "output_type": "stream",
          "name": "stdout",
          "text": [
            "train Loss: 0.6640 Acc: 0.7667\n",
            "valid Loss: 0.6687 Acc: 0.7699\n",
            "Saving model...\n",
            "------------------------------\n",
            "\n",
            "Epoch 9/20\n",
            "----------\n"
          ]
        },
        {
          "output_type": "stream",
          "name": "stderr",
          "text": [
            "391it [01:13,  5.31it/s]\n"
          ]
        },
        {
          "output_type": "stream",
          "name": "stdout",
          "text": [
            "train Loss: 0.5998 Acc: 0.7907\n",
            "valid Loss: 0.5952 Acc: 0.7918\n",
            "Saving model...\n",
            "------------------------------\n",
            "\n",
            "Epoch 10/20\n",
            "----------\n"
          ]
        },
        {
          "output_type": "stream",
          "name": "stderr",
          "text": [
            "391it [01:14,  5.24it/s]\n"
          ]
        },
        {
          "output_type": "stream",
          "name": "stdout",
          "text": [
            "train Loss: 0.5402 Acc: 0.8125\n",
            "valid Loss: 0.6003 Acc: 0.7926\n",
            "Saving model...\n",
            "------------------------------\n",
            "\n",
            "Epoch 11/20\n",
            "----------\n"
          ]
        },
        {
          "output_type": "stream",
          "name": "stderr",
          "text": [
            "391it [01:13,  5.31it/s]\n"
          ]
        },
        {
          "output_type": "stream",
          "name": "stdout",
          "text": [
            "train Loss: 0.4946 Acc: 0.8272\n",
            "valid Loss: 0.5893 Acc: 0.7996\n",
            "Saving model...\n",
            "------------------------------\n",
            "\n",
            "Epoch 12/20\n",
            "----------\n"
          ]
        },
        {
          "output_type": "stream",
          "name": "stderr",
          "text": [
            "391it [01:14,  5.23it/s]\n"
          ]
        },
        {
          "output_type": "stream",
          "name": "stdout",
          "text": [
            "train Loss: 0.4556 Acc: 0.8434\n",
            "valid Loss: 0.6003 Acc: 0.7974\n",
            "------------------------------\n",
            "\n",
            "Epoch 13/20\n",
            "----------\n"
          ]
        },
        {
          "output_type": "stream",
          "name": "stderr",
          "text": [
            "391it [01:13,  5.33it/s]\n"
          ]
        },
        {
          "output_type": "stream",
          "name": "stdout",
          "text": [
            "train Loss: 0.4183 Acc: 0.8545\n",
            "valid Loss: 0.5765 Acc: 0.8076\n",
            "Saving model...\n",
            "------------------------------\n",
            "\n",
            "Epoch 14/20\n",
            "----------\n"
          ]
        },
        {
          "output_type": "stream",
          "name": "stderr",
          "text": [
            "391it [01:13,  5.31it/s]\n"
          ]
        },
        {
          "output_type": "stream",
          "name": "stdout",
          "text": [
            "train Loss: 0.3855 Acc: 0.8664\n",
            "valid Loss: 0.4675 Acc: 0.8420\n",
            "Saving model...\n",
            "------------------------------\n",
            "\n",
            "Epoch 15/20\n",
            "----------\n"
          ]
        },
        {
          "output_type": "stream",
          "name": "stderr",
          "text": [
            "391it [01:14,  5.24it/s]\n"
          ]
        },
        {
          "output_type": "stream",
          "name": "stdout",
          "text": [
            "train Loss: 0.3577 Acc: 0.8756\n",
            "valid Loss: 0.4779 Acc: 0.8434\n",
            "Saving model...\n",
            "------------------------------\n",
            "\n",
            "Epoch 16/20\n",
            "----------\n"
          ]
        },
        {
          "output_type": "stream",
          "name": "stderr",
          "text": [
            "391it [01:13,  5.29it/s]\n"
          ]
        },
        {
          "output_type": "stream",
          "name": "stdout",
          "text": [
            "train Loss: 0.3393 Acc: 0.8821\n",
            "valid Loss: 0.4283 Acc: 0.8560\n",
            "Saving model...\n",
            "------------------------------\n",
            "\n",
            "Epoch 17/20\n",
            "----------\n"
          ]
        },
        {
          "output_type": "stream",
          "name": "stderr",
          "text": [
            "391it [01:14,  5.25it/s]\n"
          ]
        },
        {
          "output_type": "stream",
          "name": "stdout",
          "text": [
            "train Loss: 0.3122 Acc: 0.8932\n",
            "valid Loss: 0.4184 Acc: 0.8633\n",
            "Saving model...\n",
            "------------------------------\n",
            "\n",
            "Epoch 18/20\n",
            "----------\n"
          ]
        },
        {
          "output_type": "stream",
          "name": "stderr",
          "text": [
            "391it [01:13,  5.32it/s]\n"
          ]
        },
        {
          "output_type": "stream",
          "name": "stdout",
          "text": [
            "train Loss: 0.2901 Acc: 0.8975\n",
            "valid Loss: 0.4618 Acc: 0.8487\n",
            "------------------------------\n",
            "\n",
            "Epoch 19/20\n",
            "----------\n"
          ]
        },
        {
          "output_type": "stream",
          "name": "stderr",
          "text": [
            "391it [01:14,  5.26it/s]\n"
          ]
        },
        {
          "output_type": "stream",
          "name": "stdout",
          "text": [
            "train Loss: 0.2737 Acc: 0.9038\n",
            "valid Loss: 0.4111 Acc: 0.8668\n",
            "Saving model...\n",
            "------------------------------\n",
            "\n",
            "Epoch 20/20\n",
            "----------\n"
          ]
        },
        {
          "output_type": "stream",
          "name": "stderr",
          "text": [
            "391it [01:13,  5.30it/s]\n"
          ]
        },
        {
          "output_type": "stream",
          "name": "stdout",
          "text": [
            "train Loss: 0.2554 Acc: 0.9109\n",
            "valid Loss: 0.4138 Acc: 0.8661\n",
            "------------------------------\n",
            "\n",
            "Best model saved.\n",
            "Training complete in 28m 27s\n",
            "Best val Acc: 0.866800\n"
          ]
        },
        {
          "output_type": "display_data",
          "data": {
            "text/plain": [
              "<IPython.core.display.HTML object>"
            ],
            "text/html": [
              "Waiting for W&B process to finish... <strong style=\"color:green\">(success).</strong>"
            ]
          },
          "metadata": {}
        },
        {
          "output_type": "display_data",
          "data": {
            "text/plain": [
              "<IPython.core.display.HTML object>"
            ],
            "text/html": [
              "<style>\n",
              "    table.wandb td:nth-child(1) { padding: 0 10px; text-align: left ; width: auto;} td:nth-child(2) {text-align: left ; width: 100%}\n",
              "    .wandb-row { display: flex; flex-direction: row; flex-wrap: wrap; justify-content: flex-start; width: 100% }\n",
              "    .wandb-col { display: flex; flex-direction: column; flex-basis: 100%; flex: 1; padding: 10px; }\n",
              "    </style>\n",
              "<div class=\"wandb-row\"><div class=\"wandb-col\"><h3>Run history:</h3><br/><table class=\"wandb\"><tr><td>Train - acc</td><td>▁▃▄▅▅▆▆▆▇▇▇▇▇███████</td></tr><tr><td>Train - loss</td><td>█▆▆▅▅▄▄▄▃▃▃▃▃▃▃▃▂▂▂▂▂▂▂▂▂▂▂▂▂▁▁▂▁▁▁▁▁▁▁▁</td></tr><tr><td>Valid - acc</td><td>▁▂▄▄▅▆▆▇▇▇▇▇▇███████</td></tr><tr><td>Valid - loss</td><td>█▇▅▅▄▃▃▂▂▂▂▂▂▁▁▁▁▁▁▁</td></tr></table><br/></div><div class=\"wandb-col\"><h3>Run summary:</h3><br/><table class=\"wandb\"><tr><td>Train - acc</td><td>0.91092</td></tr><tr><td>Train - loss</td><td>0.28984</td></tr><tr><td>Valid - acc</td><td>0.8661</td></tr><tr><td>Valid - loss</td><td>0.4138</td></tr></table><br/></div></div>"
            ]
          },
          "metadata": {}
        },
        {
          "output_type": "display_data",
          "data": {
            "text/plain": [
              "<IPython.core.display.HTML object>"
            ],
            "text/html": [
              " View run <strong style=\"color:#cdcd00\">dauntless-voice-13</strong> at: <a href='https://wandb.ai/ahashan/INF8225%20-%20Projet%20final/runs/ouafdxqr' target=\"_blank\">https://wandb.ai/ahashan/INF8225%20-%20Projet%20final/runs/ouafdxqr</a><br/>Synced 5 W&B file(s), 0 media file(s), 2 artifact file(s) and 1 other file(s)"
            ]
          },
          "metadata": {}
        },
        {
          "output_type": "display_data",
          "data": {
            "text/plain": [
              "<IPython.core.display.HTML object>"
            ],
            "text/html": [
              "Find logs at: <code>./wandb/run-20230430_234917-ouafdxqr/logs</code>"
            ]
          },
          "metadata": {}
        }
      ]
    },
    {
      "cell_type": "markdown",
      "source": [
        "# **Training ResNet-18 + AugMix on CIFAR-100 Dataset**"
      ],
      "metadata": {
        "id": "5quXoIIUk8TC"
      }
    },
    {
      "cell_type": "code",
      "source": [
        "config['dataset_name'] = 'CIFAR100'\n",
        "config['model_name'] =  'resnet'\n",
        "config['DAmethod'] = 'AugMix'\n",
        "model_ft, input_size = initialize_model(config['model_name'], config['dataset_name'] )\n",
        "optimizer = optim.SGD(model_ft.parameters(), lr=config['lr'], momentum=0.9, weight_decay = config['weight_decay'], nesterov = True)\n",
        "scheduler = CosineAnnealingLR(optimizer, T_max = 60, eta_min = 1e-6)\n",
        "criterion = nn.CrossEntropyLoss()\n",
        "model_ft = model_ft.to(device)\n",
        "\n",
        "with wandb.init(config=config, project='INF8225 - Projet final', save_code=True, group='resnet18_cifar10_mixup'):\n",
        "  model_ft, hist = train_model(\n",
        "      model_ft,\n",
        "      CIFAR100_trainloader,\n",
        "      CIFAR100_testloader,\n",
        "      criterion,\n",
        "      optimizer,\n",
        "      DAmethod=config['DAmethod'],\n",
        "      datasetname=config['dataset_name'],\n",
        "      num_epochs=config['epochs'],\n",
        "      scheduler=scheduler\n",
        "      )"
      ],
      "metadata": {
        "colab": {
          "base_uri": "https://localhost:8080/",
          "height": 1000
        },
        "id": "zHKl73Czkwbw",
        "outputId": "9d44f8f8-eb61-4c77-992f-92d05d64e07b"
      },
      "execution_count": 24,
      "outputs": [
        {
          "output_type": "display_data",
          "data": {
            "text/plain": [
              "<IPython.core.display.HTML object>"
            ],
            "text/html": [
              "Tracking run with wandb version 0.15.0"
            ]
          },
          "metadata": {}
        },
        {
          "output_type": "display_data",
          "data": {
            "text/plain": [
              "<IPython.core.display.HTML object>"
            ],
            "text/html": [
              "Run data is saved locally in <code>/content/wandb/run-20230501_001759-rxjh7sn5</code>"
            ]
          },
          "metadata": {}
        },
        {
          "output_type": "display_data",
          "data": {
            "text/plain": [
              "<IPython.core.display.HTML object>"
            ],
            "text/html": [
              "Syncing run <strong><a href='https://wandb.ai/ahashan/INF8225%20-%20Projet%20final/runs/rxjh7sn5' target=\"_blank\">jumping-armadillo-14</a></strong> to <a href='https://wandb.ai/ahashan/INF8225%20-%20Projet%20final' target=\"_blank\">Weights & Biases</a> (<a href='https://wandb.me/run' target=\"_blank\">docs</a>)<br/>"
            ]
          },
          "metadata": {}
        },
        {
          "output_type": "display_data",
          "data": {
            "text/plain": [
              "<IPython.core.display.HTML object>"
            ],
            "text/html": [
              " View project at <a href='https://wandb.ai/ahashan/INF8225%20-%20Projet%20final' target=\"_blank\">https://wandb.ai/ahashan/INF8225%20-%20Projet%20final</a>"
            ]
          },
          "metadata": {}
        },
        {
          "output_type": "display_data",
          "data": {
            "text/plain": [
              "<IPython.core.display.HTML object>"
            ],
            "text/html": [
              " View run at <a href='https://wandb.ai/ahashan/INF8225%20-%20Projet%20final/runs/rxjh7sn5' target=\"_blank\">https://wandb.ai/ahashan/INF8225%20-%20Projet%20final/runs/rxjh7sn5</a>"
            ]
          },
          "metadata": {}
        },
        {
          "output_type": "stream",
          "name": "stdout",
          "text": [
            "Start training CIFAR100 Model resnet\n",
            "DAmethod -  AugMix\n",
            "Epoch 1/20\n",
            "----------\n"
          ]
        },
        {
          "output_type": "stream",
          "name": "stderr",
          "text": [
            "391it [01:13,  5.35it/s]\n"
          ]
        },
        {
          "output_type": "stream",
          "name": "stdout",
          "text": [
            "train Loss: 3.9504 Acc: 0.0941\n",
            "valid Loss: 3.5140 Acc: 0.1533\n",
            "Saving model...\n",
            "------------------------------\n",
            "\n",
            "Epoch 2/20\n",
            "----------\n"
          ]
        },
        {
          "output_type": "stream",
          "name": "stderr",
          "text": [
            "391it [01:14,  5.27it/s]\n"
          ]
        },
        {
          "output_type": "stream",
          "name": "stdout",
          "text": [
            "train Loss: 3.2487 Acc: 0.2014\n",
            "valid Loss: 3.0481 Acc: 0.2443\n",
            "Saving model...\n",
            "------------------------------\n",
            "\n",
            "Epoch 3/20\n",
            "----------\n"
          ]
        },
        {
          "output_type": "stream",
          "name": "stderr",
          "text": [
            "391it [01:13,  5.30it/s]\n"
          ]
        },
        {
          "output_type": "stream",
          "name": "stdout",
          "text": [
            "train Loss: 2.7339 Acc: 0.2994\n",
            "valid Loss: 2.5443 Acc: 0.3406\n",
            "Saving model...\n",
            "------------------------------\n",
            "\n",
            "Epoch 4/20\n",
            "----------\n"
          ]
        },
        {
          "output_type": "stream",
          "name": "stderr",
          "text": [
            "391it [01:14,  5.24it/s]\n"
          ]
        },
        {
          "output_type": "stream",
          "name": "stdout",
          "text": [
            "train Loss: 2.2890 Acc: 0.3907\n",
            "valid Loss: 2.2262 Acc: 0.4092\n",
            "Saving model...\n",
            "------------------------------\n",
            "\n",
            "Epoch 5/20\n",
            "----------\n"
          ]
        },
        {
          "output_type": "stream",
          "name": "stderr",
          "text": [
            "391it [01:13,  5.32it/s]\n"
          ]
        },
        {
          "output_type": "stream",
          "name": "stdout",
          "text": [
            "train Loss: 1.9611 Acc: 0.4639\n",
            "valid Loss: 1.9959 Acc: 0.4675\n",
            "Saving model...\n",
            "------------------------------\n",
            "\n",
            "Epoch 6/20\n",
            "----------\n"
          ]
        },
        {
          "output_type": "stream",
          "name": "stderr",
          "text": [
            "391it [01:14,  5.24it/s]\n"
          ]
        },
        {
          "output_type": "stream",
          "name": "stdout",
          "text": [
            "train Loss: 1.7243 Acc: 0.5163\n",
            "valid Loss: 1.8583 Acc: 0.4987\n",
            "Saving model...\n",
            "------------------------------\n",
            "\n",
            "Epoch 7/20\n",
            "----------\n"
          ]
        },
        {
          "output_type": "stream",
          "name": "stderr",
          "text": [
            "391it [01:13,  5.29it/s]\n"
          ]
        },
        {
          "output_type": "stream",
          "name": "stdout",
          "text": [
            "train Loss: 1.5332 Acc: 0.5655\n",
            "valid Loss: 1.7144 Acc: 0.5339\n",
            "Saving model...\n",
            "------------------------------\n",
            "\n",
            "Epoch 8/20\n",
            "----------\n"
          ]
        },
        {
          "output_type": "stream",
          "name": "stderr",
          "text": [
            "391it [01:14,  5.27it/s]\n"
          ]
        },
        {
          "output_type": "stream",
          "name": "stdout",
          "text": [
            "train Loss: 1.3791 Acc: 0.6028\n",
            "valid Loss: 1.6766 Acc: 0.5457\n",
            "Saving model...\n",
            "------------------------------\n",
            "\n",
            "Epoch 9/20\n",
            "----------\n"
          ]
        },
        {
          "output_type": "stream",
          "name": "stderr",
          "text": [
            "391it [01:17,  5.06it/s]\n"
          ]
        },
        {
          "output_type": "stream",
          "name": "stdout",
          "text": [
            "train Loss: 1.2586 Acc: 0.6320\n",
            "valid Loss: 1.5833 Acc: 0.5713\n",
            "Saving model...\n",
            "------------------------------\n",
            "\n",
            "Epoch 10/20\n",
            "----------\n"
          ]
        },
        {
          "output_type": "stream",
          "name": "stderr",
          "text": [
            "391it [01:14,  5.22it/s]\n"
          ]
        },
        {
          "output_type": "stream",
          "name": "stdout",
          "text": [
            "train Loss: 1.1561 Acc: 0.6587\n",
            "valid Loss: 1.5457 Acc: 0.5770\n",
            "Saving model...\n",
            "------------------------------\n",
            "\n",
            "Epoch 11/20\n",
            "----------\n"
          ]
        },
        {
          "output_type": "stream",
          "name": "stderr",
          "text": [
            "391it [01:13,  5.29it/s]\n"
          ]
        },
        {
          "output_type": "stream",
          "name": "stdout",
          "text": [
            "train Loss: 1.0572 Acc: 0.6860\n",
            "valid Loss: 1.4175 Acc: 0.6083\n",
            "Saving model...\n",
            "------------------------------\n",
            "\n",
            "Epoch 12/20\n",
            "----------\n"
          ]
        },
        {
          "output_type": "stream",
          "name": "stderr",
          "text": [
            "391it [01:14,  5.25it/s]\n"
          ]
        },
        {
          "output_type": "stream",
          "name": "stdout",
          "text": [
            "train Loss: 0.9827 Acc: 0.7082\n",
            "valid Loss: 1.3491 Acc: 0.6231\n",
            "Saving model...\n",
            "------------------------------\n",
            "\n",
            "Epoch 13/20\n",
            "----------\n"
          ]
        },
        {
          "output_type": "stream",
          "name": "stderr",
          "text": [
            "391it [01:13,  5.30it/s]\n"
          ]
        },
        {
          "output_type": "stream",
          "name": "stdout",
          "text": [
            "train Loss: 0.9065 Acc: 0.7253\n",
            "valid Loss: 1.5251 Acc: 0.6019\n",
            "------------------------------\n",
            "\n",
            "Epoch 14/20\n",
            "----------\n"
          ]
        },
        {
          "output_type": "stream",
          "name": "stderr",
          "text": [
            "391it [01:12,  5.37it/s]\n"
          ]
        },
        {
          "output_type": "stream",
          "name": "stdout",
          "text": [
            "train Loss: 0.8346 Acc: 0.7469\n",
            "valid Loss: 1.3452 Acc: 0.6283\n",
            "Saving model...\n",
            "------------------------------\n",
            "\n",
            "Epoch 15/20\n",
            "----------\n"
          ]
        },
        {
          "output_type": "stream",
          "name": "stderr",
          "text": [
            "391it [01:14,  5.23it/s]\n"
          ]
        },
        {
          "output_type": "stream",
          "name": "stdout",
          "text": [
            "train Loss: 0.7717 Acc: 0.7636\n",
            "valid Loss: 1.3885 Acc: 0.6347\n",
            "Saving model...\n",
            "------------------------------\n",
            "\n",
            "Epoch 16/20\n",
            "----------\n"
          ]
        },
        {
          "output_type": "stream",
          "name": "stderr",
          "text": [
            "391it [01:15,  5.18it/s]\n"
          ]
        },
        {
          "output_type": "stream",
          "name": "stdout",
          "text": [
            "train Loss: 0.7094 Acc: 0.7837\n",
            "valid Loss: 1.4151 Acc: 0.6348\n",
            "Saving model...\n",
            "------------------------------\n",
            "\n",
            "Epoch 17/20\n",
            "----------\n"
          ]
        },
        {
          "output_type": "stream",
          "name": "stderr",
          "text": [
            "391it [01:33,  4.17it/s]\n"
          ]
        },
        {
          "output_type": "stream",
          "name": "stdout",
          "text": [
            "train Loss: 0.6498 Acc: 0.7987\n",
            "valid Loss: 1.4593 Acc: 0.6335\n",
            "------------------------------\n",
            "\n",
            "Epoch 18/20\n",
            "----------\n"
          ]
        },
        {
          "output_type": "stream",
          "name": "stderr",
          "text": [
            "391it [01:24,  4.64it/s]\n"
          ]
        },
        {
          "output_type": "stream",
          "name": "stdout",
          "text": [
            "train Loss: 0.6157 Acc: 0.8067\n",
            "valid Loss: 1.3960 Acc: 0.6514\n",
            "Saving model...\n",
            "------------------------------\n",
            "\n",
            "Epoch 19/20\n",
            "----------\n"
          ]
        },
        {
          "output_type": "stream",
          "name": "stderr",
          "text": [
            "391it [01:26,  4.52it/s]\n"
          ]
        },
        {
          "output_type": "stream",
          "name": "stdout",
          "text": [
            "train Loss: 0.5491 Acc: 0.8269\n",
            "valid Loss: 1.4173 Acc: 0.6569\n",
            "Saving model...\n",
            "------------------------------\n",
            "\n",
            "Epoch 20/20\n",
            "----------\n"
          ]
        },
        {
          "output_type": "stream",
          "name": "stderr",
          "text": [
            "391it [01:35,  4.09it/s]\n"
          ]
        },
        {
          "output_type": "stream",
          "name": "stdout",
          "text": [
            "train Loss: 0.5069 Acc: 0.8376\n",
            "valid Loss: 1.4824 Acc: 0.6429\n",
            "------------------------------\n",
            "\n",
            "Best model saved.\n",
            "Training complete in 29m 23s\n",
            "Best val Acc: 0.656900\n"
          ]
        },
        {
          "output_type": "display_data",
          "data": {
            "text/plain": [
              "<IPython.core.display.HTML object>"
            ],
            "text/html": [
              "Waiting for W&B process to finish... <strong style=\"color:green\">(success).</strong>"
            ]
          },
          "metadata": {}
        },
        {
          "output_type": "display_data",
          "data": {
            "text/plain": [
              "<IPython.core.display.HTML object>"
            ],
            "text/html": [
              "<style>\n",
              "    table.wandb td:nth-child(1) { padding: 0 10px; text-align: left ; width: auto;} td:nth-child(2) {text-align: left ; width: 100%}\n",
              "    .wandb-row { display: flex; flex-direction: row; flex-wrap: wrap; justify-content: flex-start; width: 100% }\n",
              "    .wandb-col { display: flex; flex-direction: column; flex-basis: 100%; flex: 1; padding: 10px; }\n",
              "    </style>\n",
              "<div class=\"wandb-row\"><div class=\"wandb-col\"><h3>Run history:</h3><br/><table class=\"wandb\"><tr><td>Train - acc</td><td>▁▂▃▄▄▅▅▆▆▆▇▇▇▇▇▇████</td></tr><tr><td>Train - loss</td><td>█▇▆▆▅▅▄▄▄▄▃▃▃▃▃▃▂▃▂▃▂▃▂▂▂▂▂▂▁▁▂▁▁▂▁▂▁▁▁▁</td></tr><tr><td>Valid - acc</td><td>▁▂▄▅▅▆▆▆▇▇▇█▇███████</td></tr><tr><td>Valid - loss</td><td>█▆▅▄▃▃▂▂▂▂▁▁▂▁▁▁▁▁▁▁</td></tr></table><br/></div><div class=\"wandb-col\"><h3>Run summary:</h3><br/><table class=\"wandb\"><tr><td>Train - acc</td><td>0.8376</td></tr><tr><td>Train - loss</td><td>0.65263</td></tr><tr><td>Valid - acc</td><td>0.6429</td></tr><tr><td>Valid - loss</td><td>1.48239</td></tr></table><br/></div></div>"
            ]
          },
          "metadata": {}
        },
        {
          "output_type": "display_data",
          "data": {
            "text/plain": [
              "<IPython.core.display.HTML object>"
            ],
            "text/html": [
              " View run <strong style=\"color:#cdcd00\">jumping-armadillo-14</strong> at: <a href='https://wandb.ai/ahashan/INF8225%20-%20Projet%20final/runs/rxjh7sn5' target=\"_blank\">https://wandb.ai/ahashan/INF8225%20-%20Projet%20final/runs/rxjh7sn5</a><br/>Synced 5 W&B file(s), 0 media file(s), 2 artifact file(s) and 1 other file(s)"
            ]
          },
          "metadata": {}
        },
        {
          "output_type": "display_data",
          "data": {
            "text/plain": [
              "<IPython.core.display.HTML object>"
            ],
            "text/html": [
              "Find logs at: <code>./wandb/run-20230501_001759-rxjh7sn5/logs</code>"
            ]
          },
          "metadata": {}
        }
      ]
    },
    {
      "cell_type": "markdown",
      "source": [
        "# **End**"
      ],
      "metadata": {
        "id": "DT_zIHi5HZ-s"
      }
    }
  ],
  "metadata": {
    "accelerator": "GPU",
    "colab": {
      "provenance": [],
      "toc_visible": true
    },
    "kernelspec": {
      "display_name": "Python 3",
      "language": "python",
      "name": "python3"
    },
    "language_info": {
      "codemirror_mode": {
        "name": "ipython",
        "version": 3
      },
      "file_extension": ".py",
      "mimetype": "text/x-python",
      "name": "python",
      "nbconvert_exporter": "python",
      "pygments_lexer": "ipython3",
      "version": "3.8.5"
    }
  },
  "nbformat": 4,
  "nbformat_minor": 0
}